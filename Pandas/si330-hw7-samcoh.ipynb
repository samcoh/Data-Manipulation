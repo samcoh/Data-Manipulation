{
 "cells": [
  {
   "cell_type": "markdown",
   "metadata": {},
   "source": [
    "# SI 330: Homework 7: Intro to Pandas\n",
    "\n",
    "\n",
    "## Due: Friday, Nov 2, 2018,  11:59:00pm\n",
    "\n",
    "### Submission instructions\n",
    "After completing this homework, you will turn in two files via Canvas ->  Assignments -> HW 7:\n",
    "- Your Notebook, named si330-hw7-YOUR_UNIQUE_NAME.ipynb and\n",
    "- the HTML file, named si330-hw7-YOUR_UNIQUE_NAME.html.\n",
    "\n",
    "### Name:  Sammie Cohen\n",
    "### Uniqname: samcoh\n",
    "### People you worked with: I worked by myself\n",
    "\n",
    "\n",
    "## Learning Objectives\n",
    "After completing this Homework, you should know how to:\n",
    "* Apply pandas to clean up and answer simple questions about a real dataset"
   ]
  },
  {
   "cell_type": "markdown",
   "metadata": {},
   "source": [
    "## Part 0. Setup "
   ]
  },
  {
   "cell_type": "markdown",
   "metadata": {},
   "source": [
    "Insert any import statements you need for this notebook here:"
   ]
  },
  {
   "cell_type": "code",
   "execution_count": 1,
   "metadata": {},
   "outputs": [],
   "source": [
    "import numpy as np\n",
    "import pandas as pd"
   ]
  },
  {
   "cell_type": "markdown",
   "metadata": {},
   "source": [
    "## Part 1. Load the data\n",
    "\n",
    "For this homework, we will use the data that was collected via [a survey about the attitudes towards mental health and frequency of mental health orders for workers in the tech industry](https://www.kaggle.com/osmi/mental-health-in-tech-2016/data). Here is the survey metadata:\n",
    "\n",
    "<b>Age</b> - Respondent age<br>\n",
    "<b>Gender</b> - Respondent gender<br>\n",
    "<b>Country</b> - Respondent country<br>\n",
    "<b>state</b> - If you live in the United States, which state or territory do you live in?<br>\n",
    "<b>self_employed</b> - Are you self-employed?<br>\n",
    "<b>family_history</b> - Do you have a family history of mental illness?<br>\n",
    "<b>treatment</b> - Have you sought treatment for a mental health condition?<br>\n",
    "<b>work_interfere</b> - you have a mental health condition, do you feel that it interferes with your work?<br>\n",
    "<b>no_employees</b> - many employees does your company or organization have?<br>\n",
    "<b>remote_work</b> - Do you work remotely (outside of an office) at least 50% of the time?<br>\n",
    "<b>tech_company</b> - Is your employer primarily a tech company/organization?<br>\n",
    "<b>benefits</b> - Does your employer provide mental health benefits?<br>\n",
    "<b>care_options</b> - Do you know the options for mental health care your employer provides?<br>\n",
    "<b>wellness_program</b> - Has your employer ever discussed mental health as part of an employee wellness program?<br>\n",
    "<b>seek_help</b> - Does your employer provide resources to learn more about mental health issues and how to seek help?<br>\n",
    "<b>anonymity</b> - Is your anonymity protected if you choose to take advantage of mental health or substance abuse treatment resources?<br>\n",
    "<b>leave</b> - How easy is it for you to take medical leave for a mental health condition?<br>\n",
    "<b>mental_health_consequence</b> - Do you think that discussing a mental health issue with your employer would have negative consequences?<br>\n",
    "<b>phys_health_consequence</b> - Do you think that discussing a physical health issue with your employer would have negative consequences?<br>\n",
    "<b>coworkers</b> - Would you be willing to discuss a mental health issue with your coworkers?<br>\n",
    "<b>supervisor</b> - Would you be willing to discuss a mental health issue with your direct supervisor(s)?<br>\n",
    "<b>mental_health_interview</b> - Would you bring up a mental health issue with a potential employer in an interview?<br>\n",
    "<b>phys_health_interview</b> - Would you bring up a physical health issue with a potential employer in an interview?<br>\n",
    "<b>mental_vs_physical</b> - Do you feel that your employer takes mental health as seriously as physical health?<br>\n",
    "<b>obs_consequence</b> - Have you heard of or observed negative consequences for coworkers with mental health conditions in your workplace?<br>\n",
    "<b>comments</b> - Any additional notes or comments\n",
    "\n"
   ]
  },
  {
   "cell_type": "markdown",
   "metadata": {},
   "source": [
    "#### Q1.1: Use Pandas to load the data from the file ```survey.csv``` into the variable `df`"
   ]
  },
  {
   "cell_type": "code",
   "execution_count": 2,
   "metadata": {},
   "outputs": [],
   "source": [
    "df = pd.read_csv('survey.csv')"
   ]
  },
  {
   "cell_type": "markdown",
   "metadata": {},
   "source": [
    "We'll print out the first few rows of the data frame to see what it looks like:"
   ]
  },
  {
   "cell_type": "code",
   "execution_count": 3,
   "metadata": {},
   "outputs": [
    {
     "data": {
      "text/html": [
       "<div>\n",
       "<style scoped>\n",
       "    .dataframe tbody tr th:only-of-type {\n",
       "        vertical-align: middle;\n",
       "    }\n",
       "\n",
       "    .dataframe tbody tr th {\n",
       "        vertical-align: top;\n",
       "    }\n",
       "\n",
       "    .dataframe thead th {\n",
       "        text-align: right;\n",
       "    }\n",
       "</style>\n",
       "<table border=\"1\" class=\"dataframe\">\n",
       "  <thead>\n",
       "    <tr style=\"text-align: right;\">\n",
       "      <th></th>\n",
       "      <th>Timestamp</th>\n",
       "      <th>Age</th>\n",
       "      <th>Gender</th>\n",
       "      <th>Country</th>\n",
       "      <th>state</th>\n",
       "      <th>self_employed</th>\n",
       "      <th>family_history</th>\n",
       "      <th>treatment</th>\n",
       "      <th>work_interfere</th>\n",
       "      <th>no_employees</th>\n",
       "      <th>...</th>\n",
       "      <th>leave</th>\n",
       "      <th>mental_health_consequence</th>\n",
       "      <th>phys_health_consequence</th>\n",
       "      <th>coworkers</th>\n",
       "      <th>supervisor</th>\n",
       "      <th>mental_health_interview</th>\n",
       "      <th>phys_health_interview</th>\n",
       "      <th>mental_vs_physical</th>\n",
       "      <th>obs_consequence</th>\n",
       "      <th>comments</th>\n",
       "    </tr>\n",
       "  </thead>\n",
       "  <tbody>\n",
       "    <tr>\n",
       "      <th>0</th>\n",
       "      <td>2014-08-27 11:29:31</td>\n",
       "      <td>37</td>\n",
       "      <td>Female</td>\n",
       "      <td>United States</td>\n",
       "      <td>IL</td>\n",
       "      <td>NaN</td>\n",
       "      <td>No</td>\n",
       "      <td>Yes</td>\n",
       "      <td>Often</td>\n",
       "      <td>6-25</td>\n",
       "      <td>...</td>\n",
       "      <td>Somewhat easy</td>\n",
       "      <td>No</td>\n",
       "      <td>No</td>\n",
       "      <td>Some of them</td>\n",
       "      <td>Yes</td>\n",
       "      <td>No</td>\n",
       "      <td>Maybe</td>\n",
       "      <td>Yes</td>\n",
       "      <td>No</td>\n",
       "      <td>NaN</td>\n",
       "    </tr>\n",
       "    <tr>\n",
       "      <th>1</th>\n",
       "      <td>2014-08-27 11:29:37</td>\n",
       "      <td>44</td>\n",
       "      <td>M</td>\n",
       "      <td>United States</td>\n",
       "      <td>IN</td>\n",
       "      <td>NaN</td>\n",
       "      <td>No</td>\n",
       "      <td>No</td>\n",
       "      <td>Rarely</td>\n",
       "      <td>More than 1000</td>\n",
       "      <td>...</td>\n",
       "      <td>Don't know</td>\n",
       "      <td>Maybe</td>\n",
       "      <td>No</td>\n",
       "      <td>No</td>\n",
       "      <td>No</td>\n",
       "      <td>No</td>\n",
       "      <td>No</td>\n",
       "      <td>Don't know</td>\n",
       "      <td>No</td>\n",
       "      <td>NaN</td>\n",
       "    </tr>\n",
       "    <tr>\n",
       "      <th>2</th>\n",
       "      <td>2014-08-27 11:29:44</td>\n",
       "      <td>32</td>\n",
       "      <td>Male</td>\n",
       "      <td>Canada</td>\n",
       "      <td>NaN</td>\n",
       "      <td>NaN</td>\n",
       "      <td>No</td>\n",
       "      <td>No</td>\n",
       "      <td>Rarely</td>\n",
       "      <td>6-25</td>\n",
       "      <td>...</td>\n",
       "      <td>Somewhat difficult</td>\n",
       "      <td>No</td>\n",
       "      <td>No</td>\n",
       "      <td>Yes</td>\n",
       "      <td>Yes</td>\n",
       "      <td>Yes</td>\n",
       "      <td>Yes</td>\n",
       "      <td>No</td>\n",
       "      <td>No</td>\n",
       "      <td>NaN</td>\n",
       "    </tr>\n",
       "    <tr>\n",
       "      <th>3</th>\n",
       "      <td>2014-08-27 11:29:46</td>\n",
       "      <td>31</td>\n",
       "      <td>Male</td>\n",
       "      <td>United Kingdom</td>\n",
       "      <td>NaN</td>\n",
       "      <td>NaN</td>\n",
       "      <td>Yes</td>\n",
       "      <td>Yes</td>\n",
       "      <td>Often</td>\n",
       "      <td>26-100</td>\n",
       "      <td>...</td>\n",
       "      <td>Somewhat difficult</td>\n",
       "      <td>Yes</td>\n",
       "      <td>Yes</td>\n",
       "      <td>Some of them</td>\n",
       "      <td>No</td>\n",
       "      <td>Maybe</td>\n",
       "      <td>Maybe</td>\n",
       "      <td>No</td>\n",
       "      <td>Yes</td>\n",
       "      <td>NaN</td>\n",
       "    </tr>\n",
       "    <tr>\n",
       "      <th>4</th>\n",
       "      <td>2014-08-27 11:30:22</td>\n",
       "      <td>31</td>\n",
       "      <td>Male</td>\n",
       "      <td>United States</td>\n",
       "      <td>TX</td>\n",
       "      <td>NaN</td>\n",
       "      <td>No</td>\n",
       "      <td>No</td>\n",
       "      <td>Never</td>\n",
       "      <td>100-500</td>\n",
       "      <td>...</td>\n",
       "      <td>Don't know</td>\n",
       "      <td>No</td>\n",
       "      <td>No</td>\n",
       "      <td>Some of them</td>\n",
       "      <td>Yes</td>\n",
       "      <td>Yes</td>\n",
       "      <td>Yes</td>\n",
       "      <td>Don't know</td>\n",
       "      <td>No</td>\n",
       "      <td>NaN</td>\n",
       "    </tr>\n",
       "  </tbody>\n",
       "</table>\n",
       "<p>5 rows × 27 columns</p>\n",
       "</div>"
      ],
      "text/plain": [
       "             Timestamp  Age  Gender         Country state self_employed  \\\n",
       "0  2014-08-27 11:29:31   37  Female   United States    IL           NaN   \n",
       "1  2014-08-27 11:29:37   44       M   United States    IN           NaN   \n",
       "2  2014-08-27 11:29:44   32    Male          Canada   NaN           NaN   \n",
       "3  2014-08-27 11:29:46   31    Male  United Kingdom   NaN           NaN   \n",
       "4  2014-08-27 11:30:22   31    Male   United States    TX           NaN   \n",
       "\n",
       "  family_history treatment work_interfere    no_employees   ...     \\\n",
       "0             No       Yes          Often            6-25   ...      \n",
       "1             No        No         Rarely  More than 1000   ...      \n",
       "2             No        No         Rarely            6-25   ...      \n",
       "3            Yes       Yes          Often          26-100   ...      \n",
       "4             No        No          Never         100-500   ...      \n",
       "\n",
       "                leave mental_health_consequence phys_health_consequence  \\\n",
       "0       Somewhat easy                        No                      No   \n",
       "1          Don't know                     Maybe                      No   \n",
       "2  Somewhat difficult                        No                      No   \n",
       "3  Somewhat difficult                       Yes                     Yes   \n",
       "4          Don't know                        No                      No   \n",
       "\n",
       "      coworkers supervisor mental_health_interview phys_health_interview  \\\n",
       "0  Some of them        Yes                      No                 Maybe   \n",
       "1            No         No                      No                    No   \n",
       "2           Yes        Yes                     Yes                   Yes   \n",
       "3  Some of them         No                   Maybe                 Maybe   \n",
       "4  Some of them        Yes                     Yes                   Yes   \n",
       "\n",
       "  mental_vs_physical obs_consequence comments  \n",
       "0                Yes              No      NaN  \n",
       "1         Don't know              No      NaN  \n",
       "2                 No              No      NaN  \n",
       "3                 No             Yes      NaN  \n",
       "4         Don't know              No      NaN  \n",
       "\n",
       "[5 rows x 27 columns]"
      ]
     },
     "execution_count": 3,
     "metadata": {},
     "output_type": "execute_result"
    }
   ],
   "source": [
    "df.head()"
   ]
  },
  {
   "cell_type": "markdown",
   "metadata": {},
   "source": [
    "## Part 2: Data Cleaning: Age"
   ]
  },
  {
   "cell_type": "markdown",
   "metadata": {},
   "source": [
    "The Age column is a little messy. Let's investigate."
   ]
  },
  {
   "cell_type": "markdown",
   "metadata": {},
   "source": [
    "#### Q2.1. For each age, print the number of people with that age\n",
    "Hint: use `.value_counts()`"
   ]
  },
  {
   "cell_type": "code",
   "execution_count": 4,
   "metadata": {},
   "outputs": [
    {
     "data": {
      "text/plain": [
       " 29             85\n",
       " 32             82\n",
       " 26             75\n",
       " 27             71\n",
       " 33             70\n",
       " 28             68\n",
       " 31             67\n",
       " 34             65\n",
       " 30             63\n",
       " 25             61\n",
       " 35             55\n",
       " 23             51\n",
       " 24             46\n",
       " 37             43\n",
       " 38             39\n",
       " 36             37\n",
       " 39             33\n",
       " 40             33\n",
       " 43             28\n",
       " 41             21\n",
       " 22             21\n",
       " 42             20\n",
       " 21             16\n",
       " 45             12\n",
       " 46             12\n",
       " 44             11\n",
       " 19              9\n",
       " 18              7\n",
       " 20              6\n",
       " 48              6\n",
       " 50              6\n",
       " 51              5\n",
       " 56              4\n",
       " 49              4\n",
       " 57              3\n",
       " 54              3\n",
       " 55              3\n",
       " 47              2\n",
       " 60              2\n",
       " 11              1\n",
       " 8               1\n",
       " 5               1\n",
       " 99999999999     1\n",
       "-1726            1\n",
       " 53              1\n",
       " 58              1\n",
       " 61              1\n",
       " 62              1\n",
       " 65              1\n",
       " 72              1\n",
       " 329             1\n",
       "-29              1\n",
       "-1               1\n",
       "Name: Age, dtype: int64"
      ]
     },
     "execution_count": 4,
     "metadata": {},
     "output_type": "execute_result"
    }
   ],
   "source": [
    "df_age = df[\"Age\"]\n",
    "df_age.value_counts()"
   ]
  },
  {
   "cell_type": "markdown",
   "metadata": {},
   "source": [
    "#### Q2.2: Identify invalid ages\n",
    "\n",
    "You should notice something odd about several of the ages in the printout for question 2.2. There are several ages that are either impossible or which make no sense for a tech worker.\n",
    "\n",
    "In a bulleted list, describe the different categories of invalid ages you see and why they are invalid:"
   ]
  },
  {
   "cell_type": "markdown",
   "metadata": {},
   "source": [
    "> The categories of invalid ages are:\n",
    "> \n",
    "> - Ages less than 0 are invalid \n",
    "> - Ages greater than 100 are invalid \n",
    "> - Therefore, Ages need to be greater or equal to 18 in order to legally work, and less than 100 for them to be valid "
   ]
  },
  {
   "cell_type": "markdown",
   "metadata": {},
   "source": [
    "#### Q2.3: Filter out the rows containing invalid ages from the data frame."
   ]
  },
  {
   "cell_type": "code",
   "execution_count": 15,
   "metadata": {},
   "outputs": [
    {
     "data": {
      "text/plain": [
       "29    85\n",
       "32    82\n",
       "26    75\n",
       "27    71\n",
       "33    70\n",
       "28    68\n",
       "31    67\n",
       "34    65\n",
       "30    63\n",
       "25    61\n",
       "35    55\n",
       "23    51\n",
       "24    46\n",
       "37    43\n",
       "38    39\n",
       "36    37\n",
       "39    33\n",
       "40    33\n",
       "43    28\n",
       "41    21\n",
       "22    21\n",
       "42    20\n",
       "21    16\n",
       "46    12\n",
       "45    12\n",
       "44    11\n",
       "19     9\n",
       "18     7\n",
       "48     6\n",
       "50     6\n",
       "20     6\n",
       "51     5\n",
       "49     4\n",
       "56     4\n",
       "55     3\n",
       "54     3\n",
       "57     3\n",
       "47     2\n",
       "60     2\n",
       "61     1\n",
       "62     1\n",
       "65     1\n",
       "58     1\n",
       "53     1\n",
       "72     1\n",
       "Name: Age, dtype: int64"
      ]
     },
     "execution_count": 15,
     "metadata": {},
     "output_type": "execute_result"
    }
   ],
   "source": [
    "df = df[(df[\"Age\"] >= 18) & (df[\"Age\"] < 100)]\n",
    "df_filter_ages_value_counts = df[\"Age\"].value_counts()\n",
    "df_filter_ages_value_counts"
   ]
  },
  {
   "cell_type": "markdown",
   "metadata": {},
   "source": [
    "## Part 3. Data cleaning: Gender"
   ]
  },
  {
   "cell_type": "markdown",
   "metadata": {},
   "source": [
    "Next you will take a look at the gender column, which will require some cleanup. Note that there are [guidelines](https://drive.google.com/open?id=1rgtwUwvdQpl-RpBsNVkdcBPT1pDmNXdH) published by the [Spectrum Center](https://spectrumcenter.umich.edu/) about how to ask questions about gender on surveys. Even though this survey was created elsewhere, it used a free text field for people to enter their gender, which is in line with those recommendations. We need to be able to handle this kind of free text field."
   ]
  },
  {
   "cell_type": "markdown",
   "metadata": {},
   "source": [
    "#### Q3.1: List the unique values in the 'Gender' column\n",
    "    \n",
    "First get all the <b>unique</b> responses in the Gender column of the dataset:"
   ]
  },
  {
   "cell_type": "code",
   "execution_count": 6,
   "metadata": {},
   "outputs": [
    {
     "data": {
      "text/plain": [
       "array(['Female', 'M', 'Male', 'male', 'female', 'm', 'Male-ish', 'maile',\n",
       "       'Trans-female', 'Cis Female', 'F', 'something kinda male?',\n",
       "       'Cis Male', 'Woman', 'f', 'Mal', 'Male (CIS)', 'queer/she/they',\n",
       "       'non-binary', 'Femake', 'woman', 'Make', 'Nah', 'Enby', 'fluid',\n",
       "       'Genderqueer', 'Female ', 'Androgyne', 'Agender',\n",
       "       'cis-female/femme', 'Guy (-ish) ^_^', 'male leaning androgynous',\n",
       "       'Male ', 'Man', 'Trans woman', 'msle', 'Neuter', 'Female (trans)',\n",
       "       'queer', 'Female (cis)', 'Mail', 'cis male', 'Malr', 'femail',\n",
       "       'Cis Man', 'ostensibly male, unsure what that really means'],\n",
       "      dtype=object)"
      ]
     },
     "execution_count": 6,
     "metadata": {},
     "output_type": "execute_result"
    }
   ],
   "source": [
    "df[\"Gender\"].unique()\n"
   ]
  },
  {
   "cell_type": "markdown",
   "metadata": {},
   "source": [
    "#### Q3.2: Create a new column called `Gender_recoded` that maps the `Gender` responses into one of three categories: 'Female', 'Male' or 'Gender non-binary or No response'"
   ]
  },
  {
   "cell_type": "markdown",
   "metadata": {},
   "source": [
    "You should recode responses which appear that the respondent wanted to say female, such as Female / f / woman / etc, to 'Female'. Similarly, you will recode Male / male / M / man etc. as 'Male'. Other responses, such as non-binary, queer etc. should be recoded to 'Gender non-binary or No response'. You can also split up this category further if you like.  It will be up to you to decide which responses go into which category.\n",
    "\n",
    "<b>Create a new column called `Gender_recoded`</b> with the values 'Male', 'Female', 'Gender non-binary or No response'.\n",
    "\n",
    "**Include an explanation and justification for your decisions as comments in your code.**\n"
   ]
  },
  {
   "cell_type": "code",
   "execution_count": 7,
   "metadata": {},
   "outputs": [],
   "source": [
    "df[\"Gender_recoded\"]= df[\"Gender\"]\n",
    "df[\"Gender_recoded\"] =df[\"Gender_recoded\"].replace({\"M\": \"Male\", #M indicates male \n",
    "                                                     \"m\": \"Male\", #m indicates male \n",
    "                                                     \"male\": \"Male\", #this is the same thing as Male \n",
    "                                                     \"man\": \"Male\", #man is the same thing as Male\n",
    "                                                     \"Man\": \"Male\", #Man is the same thing as Male\n",
    "                                                     \"maile\": \"Male\", #most likely a misspelling of Male \n",
    "                                                     \"Mal\": \"Male\", #most likely a misspelling of Male \n",
    "                                                     'Make': \"Male\", #most likely a misspelling of Male \n",
    "                                                     'Male ': \"Male\",#this is the same thing as Male (just added an extra space)\n",
    "                                                     'Mail': \"Male\", #most likely a misspelling of Male \n",
    "                                                     'Malr': \"Male\", #most likely a misspelling of Male \n",
    "                                                     'Male (CIS)': \"Male\", #If you look up cis it is an abbreviation for cisgender which means people whose gender identity matches the sex that they were assigned at birth. \n",
    "                                                     'msle':\"Male\", #most likely a misspelling of Male \n",
    "                                                     'Cis Man': \"Male\", #If you look up cis it is an abbreviation for cisgender which means people whose gender identity matches the sex that they were assigned at birth. \n",
    "                                                     'cis male': \"Male\", #If you look up cis it is an abbreviation for cisgender which means people whose gender identity matches the sex that they were assigned at birth. \n",
    "                                                     'ostensibly male': \"Male\", #Ostensibly means in this context that they appear to be male. I put them in this category because if they said they appear to be male they are classifying themselves as male in this context.  \n",
    "                                                     'Cis Male': \"Male\", #If you look up cis it is an abbreviation for cisgender which means people whose gender identity matches the sex that they were assigned at birth. \n",
    "                                                     \n",
    "                                                     'female':'Female', #this is same thing as Female \n",
    "                                                     'Cis Female':'Female', #If you look up cis it is an abbreviation for cisgender which means people whose gender identity matches the sex that they were assigned at birth. \n",
    "                                                     'F':'Female', #F indicates Female \n",
    "                                                     'f': 'Female', #f indicates Female \n",
    "                                                     'Femake':'Female', #most likely a misspelling of Female \n",
    "                                                     'woman':'Female', #woman is the same as Female \n",
    "                                                     'Woman':'Female' ,#Woman is the same as Female \n",
    "                                                     'Female ': 'Female', # this is the same thing as female \n",
    "                                                     'Female (cis)':'Female', #If you look up cis it is an abbreviation for cisgender which means people whose gender identity matches the sex that they were assigned at birth. \n",
    "                                                     'femail':'Female' , #most likely a misspelling of Female \n",
    "                                                     'cis-female/femme': 'Female',#If you look up cis it means biologically. I put them in the female category because they describe themselves as biologically female. \n",
    "                                                     'Trans woman': 'Female', #female because they identify as female\n",
    "                                                     'Trans-female': 'Female', #female because they identify as female \n",
    "                                                     'Female (trans)': 'Female', #female because they identify as female\n",
    "                                                     \n",
    "                                                     'Male-ish': 'Gender non-binary or No response', #didnt want to categorize as male because of ish  \n",
    "                                                     'something kinda male?':'Gender non-binary or No response',#didnt want to categorize as male because they described themselves as kinda male \n",
    "                                                     'queer/she/they':'Gender non-binary or No response', #They didn't specify specfic gender \n",
    "                                                     'non-binary':'Gender non-binary or No response', #decscribed themselves as non-binary so they should be put in the 'Gender non-binary or No response' category. \n",
    "                                                     'Nah': 'Gender non-binary or No response',#They didn't specify specfic gender (as male of female) so should be put in the Gender non-binary or No response' category.\n",
    "                                                     'All': 'Gender non-binary or No response', #They didn't specify specfic gender (as male of female) so should be put in the Gender non-binary or No response' category.\n",
    "                                                     'Enby': 'Gender non-binary or No response',#They didn't specify specfic gender (as male of female) so should be put in the Gender non-binary or No response' category.\n",
    "                                                     'fluid': 'Gender non-binary or No response',#They didn't specify specfic gender(as male of female) so should be put in the Gender non-binary or No response' category.\n",
    "                                                     'Genderqueer': 'Gender non-binary or No response',#They didn't specify specfic gender (as male of female) so should be put in the Gender non-binary or No response' category.\n",
    "                                                     'Androgyne': 'Gender non-binary or No response',#They didn't specify specfic gender (as male of female) so should be put in the Gender non-binary or No response' category.\n",
    "                                                     'Agender': 'Gender non-binary or No response',#They didn't specify specfic gender (as male of female) so should be put in the Gender non-binary or No response' category.\n",
    "                                                     'Guy (-ish) ^_^': 'Gender non-binary or No response',#didnt want to categorize as male because of ish \n",
    "                                                     'male leaning androgynous':'Gender non-binary or No response', #didnt want to categorize as male because they said they are leaning androgynous \n",
    "                                                     'Neuter': 'Gender non-binary or No response',#They didn't specify specfic gender (as male of female) so should be put in the Gender non-binary or No response' category.\n",
    "                                                     'queer': 'Gender non-binary or No response',#They didn't specify specfic gender (as male of female) so should be put in the Gender non-binary or No response' category. \n",
    "                                                     'A little about you': 'Gender non-binary or No response', #They didn't specify specfic gender (as male of female) so should be put in the Gender non-binary or No response' category.\n",
    "                                                     'p': 'Gender non-binary or No response', #They didn't specify specfic gender (as male of female) so should be put in the Gender non-binary or No response' category.\n",
    "                                                     'ostensibly male, unsure what that really means': 'Gender non-binary or No response' #this answer doesnt explain what gender this person identifies as because they said they are \"unsure what this question means\"\n",
    "                                                    })\n",
    "#df[\"Gender_recoded\"].unique()\n",
    "#df.iloc[1234]\n",
    "#df[\"Gender_recoded\"] \n",
    "\n",
    "#df[\"Gender_recoded\"] = np.where(df[(df[\"Gender\"]== \"M\")&(df[\"Gender\"]== \"m\")&(df[\"Gender\"]== \"Male\")&(df[\"Gender\"]== \"male\") & (df[\"Gender\"]== \"man\")& (df[\"Gender\"]== \"Man\") & (df[\"Gender\"]== \"Man\")],\"Male\",\"Female\")\n",
    "#use replace function \n",
    "#df[\"x\"].replace({1:\"a\"})\n",
    "#original values keys values replacement \n",
    "# array(['Male-ish', \n",
    "#        'Trans-female', 'something kinda male?',\n",
    "#        'queer/she/they',\n",
    "#        'non-binary', 'Nah', 'All', 'Enby',\n",
    "#        'fluid', 'Genderqueer', 'Androgyne', 'Agender',\n",
    "#        'Guy (-ish) ^_^', 'male leaning androgynous',\n",
    "#        'Trans woman', 'Neuter', 'Female (trans)',\n",
    "#        'queer', 'A little about you',\n",
    "#         'p',  'unsure what that really means'], dtype=object)\n"
   ]
  },
  {
   "cell_type": "markdown",
   "metadata": {},
   "source": [
    "## Part 4: Data manipulation to answer questions about the data"
   ]
  },
  {
   "cell_type": "markdown",
   "metadata": {},
   "source": [
    "#### Q4.1: How many different countries are represented in the survey responses?  \n"
   ]
  },
  {
   "cell_type": "code",
   "execution_count": 8,
   "metadata": {},
   "outputs": [
    {
     "data": {
      "text/plain": [
       "46"
      ]
     },
     "execution_count": 8,
     "metadata": {},
     "output_type": "execute_result"
    }
   ],
   "source": [
    "total_number_of_countries = len(df[\"Country\"].unique())\n",
    "total_number_of_countries"
   ]
  },
  {
   "cell_type": "markdown",
   "metadata": {},
   "source": [
    "#### Q4.2: What are they in order from most to least respondents?  Include the country name and number of responses in your output\n"
   ]
  },
  {
   "cell_type": "code",
   "execution_count": 9,
   "metadata": {},
   "outputs": [
    {
     "data": {
      "text/plain": [
       "United States             746\n",
       "United Kingdom            184\n",
       "Canada                     72\n",
       "Germany                    45\n",
       "Ireland                    27\n",
       "Netherlands                27\n",
       "Australia                  21\n",
       "France                     13\n",
       "India                      10\n",
       "New Zealand                 8\n",
       "Sweden                      7\n",
       "Poland                      7\n",
       "Italy                       7\n",
       "Switzerland                 7\n",
       "South Africa                6\n",
       "Belgium                     6\n",
       "Brazil                      6\n",
       "Israel                      5\n",
       "Bulgaria                    4\n",
       "Singapore                   4\n",
       "Austria                     3\n",
       "Russia                      3\n",
       "Mexico                      3\n",
       "Finland                     3\n",
       "Portugal                    2\n",
       "Colombia                    2\n",
       "Greece                      2\n",
       "Denmark                     2\n",
       "Croatia                     2\n",
       "Romania                     1\n",
       "Uruguay                     1\n",
       "Nigeria                     1\n",
       "Costa Rica                  1\n",
       "Georgia                     1\n",
       "Norway                      1\n",
       "Bosnia and Herzegovina      1\n",
       "Czech Republic              1\n",
       "Philippines                 1\n",
       "Latvia                      1\n",
       "Hungary                     1\n",
       "China                       1\n",
       "Japan                       1\n",
       "Spain                       1\n",
       "Slovenia                    1\n",
       "Thailand                    1\n",
       "Moldova                     1\n",
       "Name: Country, dtype: int64"
      ]
     },
     "execution_count": 9,
     "metadata": {},
     "output_type": "execute_result"
    }
   ],
   "source": [
    "country = df[\"Country\"].value_counts().sort_values(ascending = False)\n",
    "country\n",
    "# OR can do below \n",
    "#df_country_responses = pd.DataFrame(df.groupby(\"Country\").size().reset_index(name = \"Response_Count\")) \n",
    "#df_country_responses.sort_values([\"Response_Count\"],ascending = False)\n"
   ]
  },
  {
   "cell_type": "markdown",
   "metadata": {},
   "source": [
    "####  Q4.3: List the countries that had only one response."
   ]
  },
  {
   "cell_type": "code",
   "execution_count": 17,
   "metadata": {},
   "outputs": [],
   "source": [
    "df_country_responses = pd.DataFrame(df.groupby(\"Country\").size().reset_index(name = \"Response_Count\"))\n",
    "filtered_one_response = df_country_responses[(df_country_responses[\"Response_Count\"]==1)][\"Country\"].value_counts()\n",
    "filtered_one_response\n",
    "#df_country_responses[(df_country_responses[\"Response_Count\"]==1)]\n",
    "#df_country_responses[(df_country_responses[\"Response_Count\"]==1)][\"Country\"]\n",
    "#len(filtered_one_response)\n",
    "one_response = country[(country == 1)]\n"
   ]
  },
  {
   "cell_type": "markdown",
   "metadata": {},
   "source": [
    "#### Q4.4: Find the percentage of respondents who work for companies that provide mental health insurance who reported that they have received mental health treatment."
   ]
  },
  {
   "cell_type": "code",
   "execution_count": 11,
   "metadata": {},
   "outputs": [
    {
     "data": {
      "text/plain": [
       "63.8477801268499"
      ]
     },
     "execution_count": 11,
     "metadata": {},
     "output_type": "execute_result"
    }
   ],
   "source": [
    "(len(df[(df[\"treatment\"]== \"Yes\")&(df[\"benefits\"]== \"Yes\")])/len(df[(df[\"benefits\"]== \"Yes\")])) * 100 \n",
    "#(len(df[(df[\"treatment\"]== \"Yes\")&(df[\"benefits\"]== \"Yes\")])/len(df[\"benefits\"])) * 100 "
   ]
  },
  {
   "cell_type": "markdown",
   "metadata": {},
   "source": [
    "###  Q4.5: How does that compare to the percentage of respondents who work for companies that do not provide mental health insurance who reported that they have received mental health treatment?"
   ]
  },
  {
   "cell_type": "code",
   "execution_count": 12,
   "metadata": {},
   "outputs": [
    {
     "data": {
      "text/plain": [
       "48.24797843665768"
      ]
     },
     "execution_count": 12,
     "metadata": {},
     "output_type": "execute_result"
    }
   ],
   "source": [
    "(len(df[(df[\"treatment\"]== \"Yes\")&(df[\"benefits\"]== \"No\")])/len(df[(df[\"benefits\"]== \"No\")])) * 100 "
   ]
  },
  {
   "cell_type": "markdown",
   "metadata": {},
   "source": [
    "## BONUS: cleaning up boolean columns"
   ]
  },
  {
   "cell_type": "markdown",
   "metadata": {},
   "source": [
    "#### B.1: Recoding boolean columns\n",
    "There are a number of columns in this dataset that contain the values `Yes` and `No`. For the BONUS, write some code that finds each column `x` that contains `Yes` and `No` in its values and automatically creates a new column named `x_bool` where:\n",
    "\n",
    "- `Yes` becomes `True`\n",
    "- `No` becomes `False`\n",
    "- Any other value (such as `Maybe`) becomes `None`\n",
    "\n",
    "So, for example, the `treatment` and `benefits` columns used in Q4.4 should end up with corresponding `treatment_bool` and `benefits_bool` columns after your code is run.\n",
    "\n",
    "You **may not** hardcode column names; your code should *find* the columns automatically.\n",
    "\n",
    "This bonus will be graded in inverse proportion to how many lines your code takes (Note: if you spread a single function call over multiple lines for readability we will count it as one line), as follows:\n",
    "\n",
    "1. 1 line answer: Full bonus (+8 points)\n",
    "2. 2 line answer: Partial (+7 points)\n",
    "3. 3 line answer: Partial (+3 points)\n",
    "4. 4 line answer: Partial (+1 point)\n",
    "5. 5 or more lines: No bonus"
   ]
  },
  {
   "cell_type": "code",
   "execution_count": 13,
   "metadata": {},
   "outputs": [],
   "source": [
    "# columns =[column for column in df if df[column].unique() == ['No','Yes'] or df[column].unique() == ['Yes','No']]\n",
    "\n",
    "# for x in columns: \n",
    "#     print(df[x].unqiue())\n",
    "#     df[\"{}_bool\".format(x)] = np.where(df[x] == \"Yes\", True, False)\n",
    "# #for column in df: \n",
    "#     #print(column)\n",
    "#     #print(df[column].unique())"
   ]
  },
  {
   "cell_type": "markdown",
   "metadata": {},
   "source": [
    "#### B.2 Using boolean columns"
   ]
  },
  {
   "cell_type": "markdown",
   "metadata": {},
   "source": [
    "Re-write your answer to Q4.4 using your new `treatment_bool` and `benefits_bool` columns"
   ]
  },
  {
   "cell_type": "code",
   "execution_count": null,
   "metadata": {},
   "outputs": [],
   "source": []
  }
 ],
 "metadata": {
  "kernelspec": {
   "display_name": "Python 3",
   "language": "python",
   "name": "python3"
  },
  "language_info": {
   "codemirror_mode": {
    "name": "ipython",
    "version": 3
   },
   "file_extension": ".py",
   "mimetype": "text/x-python",
   "name": "python",
   "nbconvert_exporter": "python",
   "pygments_lexer": "ipython3",
   "version": "3.6.5"
  }
 },
 "nbformat": 4,
 "nbformat_minor": 2
}
