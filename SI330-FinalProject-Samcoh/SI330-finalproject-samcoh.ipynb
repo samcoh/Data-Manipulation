{
 "cells": [
  {
   "cell_type": "markdown",
   "metadata": {},
   "source": [
    "# Final Project: An Analysis of the Relationship Between Product Review Star Ratings and Comments\n",
    "### Name: Samantha Cohen \n",
    "### Uniqname: samcoh\n",
    "### Class: SI 330 "
   ]
  },
  {
   "cell_type": "markdown",
   "metadata": {},
   "source": [
    "### Main Question: ”What is the Relationship between Electronic Product Review Star Ratings and Comment Rating Reviews?” \n",
    "\n"
   ]
  },
  {
   "cell_type": "markdown",
   "metadata": {},
   "source": [
    "## 1. Import Data Needed"
   ]
  },
  {
   "cell_type": "code",
   "execution_count": 1,
   "metadata": {},
   "outputs": [],
   "source": [
    "import pandas as pd\n",
    "import requests\n",
    "import json\n",
    "import numpy as np\n",
    "import altair as alt\n",
    "from altair.expr import datum"
   ]
  },
  {
   "cell_type": "markdown",
   "metadata": {},
   "source": [
    "# Part 1: Put the CSV file into a Pandas DataFrame and Filter/Manipulate Columns"
   ]
  },
  {
   "cell_type": "markdown",
   "metadata": {},
   "source": [
    "## 1. Open the CSV file with Electronic Product Review Information and create a Pandas DataFrame "
   ]
  },
  {
   "cell_type": "code",
   "execution_count": 2,
   "metadata": {},
   "outputs": [],
   "source": [
    "df = pd.read_csv('DatafinitiElectronicsProductData.csv')\n"
   ]
  },
  {
   "cell_type": "markdown",
   "metadata": {},
   "source": [
    "## 2. Create a new Pandas DataFrame with just the columns you want\n",
    "#### Columns: id, name, brand, dateAdded, reviews.username, reviews.rating, reviews.text, sourceURLs "
   ]
  },
  {
   "cell_type": "code",
   "execution_count": 3,
   "metadata": {},
   "outputs": [],
   "source": [
    "new_df = df[[\"id\",\"name\",\"brand\",\"dateAdded\",\"reviews.username\",\"reviews.rating\",\"reviews.text\",\"sourceURLs\"]]\n"
   ]
  },
  {
   "cell_type": "markdown",
   "metadata": {},
   "source": [
    "## 3. Rename the Columns in the new Pandas DataFrame"
   ]
  },
  {
   "cell_type": "code",
   "execution_count": 4,
   "metadata": {},
   "outputs": [],
   "source": [
    "new_df.columns = [\"id\",\"product\",\"brand\",\"review_date_added\",\"username\",\"review_rating\",\"review_text\",\"sourceURLs\"]\n"
   ]
  },
  {
   "cell_type": "markdown",
   "metadata": {},
   "source": [
    "#### Columns should now be called: id, product, brand, review_date_added, username, review_rating, review_text, sourceURLs"
   ]
  },
  {
   "cell_type": "markdown",
   "metadata": {},
   "source": [
    "# Part 2: Get Sentiment Analysis Data for the review_text column in the Pandas Dataframe using the Datumbox API, and store responses into a cache file. "
   ]
  },
  {
   "cell_type": "markdown",
   "metadata": {},
   "source": [
    "## 1. Get a token from the Datumbox API "
   ]
  },
  {
   "cell_type": "code",
   "execution_count": 5,
   "metadata": {},
   "outputs": [],
   "source": [
    "API = \"8992c5d504360f35453252f4de762eab\""
   ]
  },
  {
   "cell_type": "markdown",
   "metadata": {},
   "source": [
    "## 2. Cache the Sentiment Analysis Data "
   ]
  },
  {
   "cell_type": "markdown",
   "metadata": {},
   "source": [
    "#### The cache file should be json formatted. The cache file will store a dictionary where the keys are the index and the values are the response from the Datumbox API "
   ]
  },
  {
   "cell_type": "markdown",
   "metadata": {},
   "source": [
    "### a) Try and Except Statement: Try opening the cache file, but if it doesn't exist than create an empty dictionary. "
   ]
  },
  {
   "cell_type": "code",
   "execution_count": 6,
   "metadata": {},
   "outputs": [],
   "source": [
    "CACHE_FNAME = 'cache_analysis_2.json'\n",
    "try:\n",
    "    cache_file = open(CACHE_FNAME, 'r')\n",
    "    cache_contents = cache_file.read()\n",
    "    CACHE_DICTION = json.loads(cache_contents)\n",
    "    cache_file.close()\n",
    "except:\n",
    "    CACHE_DICTION = {}\n"
   ]
  },
  {
   "cell_type": "markdown",
   "metadata": {},
   "source": [
    "### b) make a request using cache. \n",
    "#### create a function make_request_using_cache: The purpose of this function is to get response data from the cache file if it is there or the call the Datumbox API if it is not there. If the data is not in the cache file it should add it. \n",
    "#### parameters: baseurl, params, and the index of the the text comment (review_text) in the Pandas DataFrame\n",
    "#### return: the response from the Datumbox API (either from the cache file or call the API) "
   ]
  },
  {
   "cell_type": "code",
   "execution_count": 7,
   "metadata": {},
   "outputs": [],
   "source": [
    "def make_request_using_cache(baseurl, params, index):\n",
    "    unique_ident = index\n",
    "\n",
    "    if str(unique_ident) in CACHE_DICTION:\n",
    "        return CACHE_DICTION[str(unique_ident)]\n",
    "    else:\n",
    "        response = requests.post(baseurl, data = params)\n",
    "        resp = json.loads(response.text)\n",
    "        if resp[\"output\"][\"status\"] == 1:\n",
    "            CACHE_DICTION[unique_ident] = resp\n",
    "\n",
    "            dumped_json_cache = json.dumps(CACHE_DICTION)\n",
    "            fw = open(CACHE_FNAME,\"w\")\n",
    "            fw.write(dumped_json_cache)\n",
    "            fw.close()\n",
    "            return CACHE_DICTION[unique_ident]\n",
    "        else:\n",
    "            return resp"
   ]
  },
  {
   "cell_type": "markdown",
   "metadata": {},
   "source": [
    "### c) Create a function that will make the params dictionary (for the requests.post), get the url, and use the index (of review_text from the Pandas DataFrame) to call make_request_using_caching \n",
    "#### create a function get_datumbox_caching that will create the url and params dictionary. The function will then call the function make_request_using_cache. \n",
    "#### parameters: comment (review_text) and index (the index of the review_text from the pandas DataFrame). \n",
    "#### return: the response from the Datumbox API \n"
   ]
  },
  {
   "cell_type": "code",
   "execution_count": 8,
   "metadata": {},
   "outputs": [],
   "source": [
    "def get_datumbox_caching(comment, index):\n",
    "    baseurl = \"http://api.datumbox.com:80/1.0/SentimentAnalysis.json\"\n",
    "    params_diction = {\"api_key\": \"8992c5d504360f35453252f4de762eab\", \"text\":comment}\n",
    "    return make_request_using_cache(baseurl, params_diction, index)\n",
    "\n"
   ]
  },
  {
   "cell_type": "markdown",
   "metadata": {},
   "source": [
    "## 3. Create api_call function that will call get_datumbox_caching function which will get data from the API or the Cache"
   ]
  },
  {
   "cell_type": "markdown",
   "metadata": {},
   "source": [
    "#### api_call function: will call the get_datumbox_caching function. The purpose of this function is to stop calling the Datumbox API if it returns an error for a particular review_text \n",
    "\n",
    "#### parameters: a dictionary where the keys are the index from the pandas dataframe and the values are the review_text associated with that index \n",
    "\n",
    "#### returns: if it runs successfully it will return the string \"ran\" to indicate the job has completed successfully. If it does not run successfully, it will return the error dictionary returned from Datumbox "
   ]
  },
  {
   "cell_type": "code",
   "execution_count": 9,
   "metadata": {},
   "outputs": [],
   "source": [
    "def api_call(dic):\n",
    "    for i in dic:\n",
    "        index = i\n",
    "        text = dic[i]\n",
    "        response = get_datumbox_caching(text, index)\n",
    "        if response[\"output\"][\"status\"] == 1:\n",
    "            continue\n",
    "        else:\n",
    "            return response[\"output\"][\"error\"]\n",
    "    return \"ran\""
   ]
  },
  {
   "cell_type": "markdown",
   "metadata": {},
   "source": [
    "## 4. Datumbox API has a limit of 1000 calls per/day. In this step Create functions that you can call to get the sentiment analysis from the last review_text left off at. "
   ]
  },
  {
   "cell_type": "markdown",
   "metadata": {},
   "source": [
    "#### You will call these functions until you get all review_text sentiment analysis\n",
    "#### function last_index_gotten: The purpose of this function is to see the last review_text left off at. It does not take in any parameters and will return the last index in the cache file. If the cache file is empty (has not been created) call the index of 0 \n",
    "#### function get_1000_rows: the purpose of this function is to get the next 1000 review_text. The function form of a dictionary (keys = index, values = review_text). Then it will call the function api_call with this dictionary. The parameter of this function is an integer that indicates the last index left off at from the cache file. This function does not return anything, but it prints ran, if the api_call ran successfully, or error, if the api_call did not run succesfully. "
   ]
  },
  {
   "cell_type": "code",
   "execution_count": 10,
   "metadata": {},
   "outputs": [],
   "source": [
    "def get_1000_rows(last_ind_left_off_at):\n",
    "    index_text_tup = list(zip(new_df.index, new_df[\"review_text\"]))\n",
    "    if index_text_tup[-1][0] == last_ind_left_off_at: \n",
    "        return \"json file has all the sentiment analysis data\"\n",
    "    if index_text_tup[-1][0] - last_ind_left_off_at < 1000: \n",
    "        start = last_ind_left_off_at + 1\n",
    "        dict_index_text_tup = dict(index_text_tup[start:])\n",
    "        print(api_call(dict_index_text_tup))\n",
    "    else: \n",
    "        start = last_ind_left_off_at + 1\n",
    "        end = start + 1000\n",
    "        if last_ind_left_off_at == 0:\n",
    "            dict_index_text_tup = dict(index_text_tup[:end-1])\n",
    "            print(api_call(dict_index_text_tup))\n",
    "        else: \n",
    "            dict_index_text_tup = dict(index_text_tup[start:end])\n",
    "            print(api_call(dict_index_text_tup))\n",
    "\n",
    "def last_index_gotten():\n",
    "    try: \n",
    "        file = open(\"cache_analysis_2.json\", \"r\")\n",
    "        dic =json.loads(file.read())\n",
    "        last_ind_left_off_at = sorted(list(dic.keys()), key= lambda x: int(x))[-1]\n",
    "        #print(last_ind_left_off_at)\n",
    "        file.close()\n",
    "        return int(last_ind_left_off_at)\n",
    "    except: \n",
    "        return 0 \n",
    "\n"
   ]
  },
  {
   "cell_type": "markdown",
   "metadata": {},
   "source": [
    "## 5. Call the functions last_index_gotten and get_1000_rows to create the cache file. \n",
    "#### Run this line of Code everyday until you receive the string that says 'json file has all the sentiment analysis data' (should run for 8 days)."
   ]
  },
  {
   "cell_type": "code",
   "execution_count": 11,
   "metadata": {},
   "outputs": [
    {
     "data": {
      "text/plain": [
       "'json file has all the sentiment analysis data'"
      ]
     },
     "execution_count": 11,
     "metadata": {},
     "output_type": "execute_result"
    }
   ],
   "source": [
    "index = last_index_gotten()\n",
    "get_1000_rows(index)\n"
   ]
  },
  {
   "cell_type": "markdown",
   "metadata": {},
   "source": [
    "# Part 3: Combine Data Sources - Once you have all the sentiment analysis data in the cache file, you should put this data in the pandas DataFrame. "
   ]
  },
  {
   "cell_type": "markdown",
   "metadata": {},
   "source": [
    "## 1. Open the cache file and get the data "
   ]
  },
  {
   "cell_type": "code",
   "execution_count": 12,
   "metadata": {},
   "outputs": [],
   "source": [
    "file = open(\"cache_analysis_2.json\", \"r\")\n",
    "responses  = json.loads(file.read())\n",
    "file.close() \n",
    "\n"
   ]
  },
  {
   "cell_type": "markdown",
   "metadata": {},
   "source": [
    "## 2. Create a list of all the responses for each index in order. "
   ]
  },
  {
   "cell_type": "code",
   "execution_count": 13,
   "metadata": {},
   "outputs": [],
   "source": [
    "evaluations = [responses[x][\"output\"][\"result\"] for x in responses]"
   ]
  },
  {
   "cell_type": "markdown",
   "metadata": {},
   "source": [
    "## 3. Create a new column in the pandas DataFrame with the DatumBox analysis responses (which is now a list called evaluations) "
   ]
  },
  {
   "cell_type": "code",
   "execution_count": 14,
   "metadata": {},
   "outputs": [],
   "source": [
    "new_df = new_df.assign(Datumbox_Score = evaluations)"
   ]
  },
  {
   "cell_type": "markdown",
   "metadata": {},
   "source": [
    "# Part 4: Create Visualization to use for Analysis \n",
    "\n",
    "## 1. Create a new pandas DataFrame called graphing. Use new_df and groupby \"review_rating\" and \"Datumbox_Score\". Also include a count for each row. \n"
   ]
  },
  {
   "cell_type": "code",
   "execution_count": 15,
   "metadata": {},
   "outputs": [
    {
     "data": {
      "text/html": [
       "<div>\n",
       "<style scoped>\n",
       "    .dataframe tbody tr th:only-of-type {\n",
       "        vertical-align: middle;\n",
       "    }\n",
       "\n",
       "    .dataframe tbody tr th {\n",
       "        vertical-align: top;\n",
       "    }\n",
       "\n",
       "    .dataframe thead th {\n",
       "        text-align: right;\n",
       "    }\n",
       "</style>\n",
       "<table border=\"1\" class=\"dataframe\">\n",
       "  <thead>\n",
       "    <tr style=\"text-align: right;\">\n",
       "      <th></th>\n",
       "      <th>review_rating</th>\n",
       "      <th>Datumbox_Score</th>\n",
       "      <th>counts</th>\n",
       "    </tr>\n",
       "  </thead>\n",
       "  <tbody>\n",
       "    <tr>\n",
       "      <th>0</th>\n",
       "      <td>1.0</td>\n",
       "      <td>negative</td>\n",
       "      <td>289</td>\n",
       "    </tr>\n",
       "    <tr>\n",
       "      <th>1</th>\n",
       "      <td>1.0</td>\n",
       "      <td>neutral</td>\n",
       "      <td>2</td>\n",
       "    </tr>\n",
       "    <tr>\n",
       "      <th>2</th>\n",
       "      <td>1.0</td>\n",
       "      <td>positive</td>\n",
       "      <td>27</td>\n",
       "    </tr>\n",
       "    <tr>\n",
       "      <th>3</th>\n",
       "      <td>2.0</td>\n",
       "      <td>negative</td>\n",
       "      <td>169</td>\n",
       "    </tr>\n",
       "    <tr>\n",
       "      <th>4</th>\n",
       "      <td>2.0</td>\n",
       "      <td>neutral</td>\n",
       "      <td>2</td>\n",
       "    </tr>\n",
       "    <tr>\n",
       "      <th>5</th>\n",
       "      <td>2.0</td>\n",
       "      <td>positive</td>\n",
       "      <td>51</td>\n",
       "    </tr>\n",
       "    <tr>\n",
       "      <th>6</th>\n",
       "      <td>3.0</td>\n",
       "      <td>negative</td>\n",
       "      <td>240</td>\n",
       "    </tr>\n",
       "    <tr>\n",
       "      <th>7</th>\n",
       "      <td>3.0</td>\n",
       "      <td>neutral</td>\n",
       "      <td>4</td>\n",
       "    </tr>\n",
       "    <tr>\n",
       "      <th>8</th>\n",
       "      <td>3.0</td>\n",
       "      <td>positive</td>\n",
       "      <td>196</td>\n",
       "    </tr>\n",
       "    <tr>\n",
       "      <th>9</th>\n",
       "      <td>4.0</td>\n",
       "      <td>negative</td>\n",
       "      <td>308</td>\n",
       "    </tr>\n",
       "    <tr>\n",
       "      <th>10</th>\n",
       "      <td>4.0</td>\n",
       "      <td>neutral</td>\n",
       "      <td>16</td>\n",
       "    </tr>\n",
       "    <tr>\n",
       "      <th>11</th>\n",
       "      <td>4.0</td>\n",
       "      <td>positive</td>\n",
       "      <td>1339</td>\n",
       "    </tr>\n",
       "    <tr>\n",
       "      <th>12</th>\n",
       "      <td>5.0</td>\n",
       "      <td>negative</td>\n",
       "      <td>398</td>\n",
       "    </tr>\n",
       "    <tr>\n",
       "      <th>13</th>\n",
       "      <td>5.0</td>\n",
       "      <td>neutral</td>\n",
       "      <td>57</td>\n",
       "    </tr>\n",
       "    <tr>\n",
       "      <th>14</th>\n",
       "      <td>5.0</td>\n",
       "      <td>positive</td>\n",
       "      <td>4037</td>\n",
       "    </tr>\n",
       "  </tbody>\n",
       "</table>\n",
       "</div>"
      ],
      "text/plain": [
       "    review_rating Datumbox_Score  counts\n",
       "0             1.0       negative     289\n",
       "1             1.0        neutral       2\n",
       "2             1.0       positive      27\n",
       "3             2.0       negative     169\n",
       "4             2.0        neutral       2\n",
       "5             2.0       positive      51\n",
       "6             3.0       negative     240\n",
       "7             3.0        neutral       4\n",
       "8             3.0       positive     196\n",
       "9             4.0       negative     308\n",
       "10            4.0        neutral      16\n",
       "11            4.0       positive    1339\n",
       "12            5.0       negative     398\n",
       "13            5.0        neutral      57\n",
       "14            5.0       positive    4037"
      ]
     },
     "execution_count": 15,
     "metadata": {},
     "output_type": "execute_result"
    }
   ],
   "source": [
    "graphing = new_df.groupby([\"review_rating\",\"Datumbox_Score\"]).size().reset_index(name = \"counts\") #[reset+index numbers turn into last columm]\n",
    "graphing\n",
    "\n",
    "#cross tabulation \n",
    "#grouping by two variables taking count of instances of each in each unique combination \n"
   ]
  },
  {
   "cell_type": "markdown",
   "metadata": {},
   "source": [
    "## a) Create a heatmap where your normalize by review_rating (row) "
   ]
  },
  {
   "cell_type": "markdown",
   "metadata": {},
   "source": [
    "### 1. Create a new column in graphing that shows the sum of the counts for each group in review_rating. "
   ]
  },
  {
   "cell_type": "code",
   "execution_count": 16,
   "metadata": {},
   "outputs": [
    {
     "data": {
      "text/html": [
       "<div>\n",
       "<style scoped>\n",
       "    .dataframe tbody tr th:only-of-type {\n",
       "        vertical-align: middle;\n",
       "    }\n",
       "\n",
       "    .dataframe tbody tr th {\n",
       "        vertical-align: top;\n",
       "    }\n",
       "\n",
       "    .dataframe thead th {\n",
       "        text-align: right;\n",
       "    }\n",
       "</style>\n",
       "<table border=\"1\" class=\"dataframe\">\n",
       "  <thead>\n",
       "    <tr style=\"text-align: right;\">\n",
       "      <th></th>\n",
       "      <th>review_rating</th>\n",
       "      <th>Datumbox_Score</th>\n",
       "      <th>counts</th>\n",
       "      <th>Sum_of_Counts</th>\n",
       "    </tr>\n",
       "  </thead>\n",
       "  <tbody>\n",
       "    <tr>\n",
       "      <th>0</th>\n",
       "      <td>1.0</td>\n",
       "      <td>negative</td>\n",
       "      <td>289</td>\n",
       "      <td>318.0</td>\n",
       "    </tr>\n",
       "    <tr>\n",
       "      <th>1</th>\n",
       "      <td>1.0</td>\n",
       "      <td>neutral</td>\n",
       "      <td>2</td>\n",
       "      <td>318.0</td>\n",
       "    </tr>\n",
       "    <tr>\n",
       "      <th>2</th>\n",
       "      <td>1.0</td>\n",
       "      <td>positive</td>\n",
       "      <td>27</td>\n",
       "      <td>318.0</td>\n",
       "    </tr>\n",
       "    <tr>\n",
       "      <th>3</th>\n",
       "      <td>2.0</td>\n",
       "      <td>negative</td>\n",
       "      <td>169</td>\n",
       "      <td>222.0</td>\n",
       "    </tr>\n",
       "    <tr>\n",
       "      <th>4</th>\n",
       "      <td>2.0</td>\n",
       "      <td>neutral</td>\n",
       "      <td>2</td>\n",
       "      <td>222.0</td>\n",
       "    </tr>\n",
       "    <tr>\n",
       "      <th>5</th>\n",
       "      <td>2.0</td>\n",
       "      <td>positive</td>\n",
       "      <td>51</td>\n",
       "      <td>222.0</td>\n",
       "    </tr>\n",
       "    <tr>\n",
       "      <th>6</th>\n",
       "      <td>3.0</td>\n",
       "      <td>negative</td>\n",
       "      <td>240</td>\n",
       "      <td>440.0</td>\n",
       "    </tr>\n",
       "    <tr>\n",
       "      <th>7</th>\n",
       "      <td>3.0</td>\n",
       "      <td>neutral</td>\n",
       "      <td>4</td>\n",
       "      <td>440.0</td>\n",
       "    </tr>\n",
       "    <tr>\n",
       "      <th>8</th>\n",
       "      <td>3.0</td>\n",
       "      <td>positive</td>\n",
       "      <td>196</td>\n",
       "      <td>440.0</td>\n",
       "    </tr>\n",
       "    <tr>\n",
       "      <th>9</th>\n",
       "      <td>4.0</td>\n",
       "      <td>negative</td>\n",
       "      <td>308</td>\n",
       "      <td>1663.0</td>\n",
       "    </tr>\n",
       "    <tr>\n",
       "      <th>10</th>\n",
       "      <td>4.0</td>\n",
       "      <td>neutral</td>\n",
       "      <td>16</td>\n",
       "      <td>1663.0</td>\n",
       "    </tr>\n",
       "    <tr>\n",
       "      <th>11</th>\n",
       "      <td>4.0</td>\n",
       "      <td>positive</td>\n",
       "      <td>1339</td>\n",
       "      <td>1663.0</td>\n",
       "    </tr>\n",
       "    <tr>\n",
       "      <th>12</th>\n",
       "      <td>5.0</td>\n",
       "      <td>negative</td>\n",
       "      <td>398</td>\n",
       "      <td>4492.0</td>\n",
       "    </tr>\n",
       "    <tr>\n",
       "      <th>13</th>\n",
       "      <td>5.0</td>\n",
       "      <td>neutral</td>\n",
       "      <td>57</td>\n",
       "      <td>4492.0</td>\n",
       "    </tr>\n",
       "    <tr>\n",
       "      <th>14</th>\n",
       "      <td>5.0</td>\n",
       "      <td>positive</td>\n",
       "      <td>4037</td>\n",
       "      <td>4492.0</td>\n",
       "    </tr>\n",
       "  </tbody>\n",
       "</table>\n",
       "</div>"
      ],
      "text/plain": [
       "    review_rating Datumbox_Score  counts  Sum_of_Counts\n",
       "0             1.0       negative     289          318.0\n",
       "1             1.0        neutral       2          318.0\n",
       "2             1.0       positive      27          318.0\n",
       "3             2.0       negative     169          222.0\n",
       "4             2.0        neutral       2          222.0\n",
       "5             2.0       positive      51          222.0\n",
       "6             3.0       negative     240          440.0\n",
       "7             3.0        neutral       4          440.0\n",
       "8             3.0       positive     196          440.0\n",
       "9             4.0       negative     308         1663.0\n",
       "10            4.0        neutral      16         1663.0\n",
       "11            4.0       positive    1339         1663.0\n",
       "12            5.0       negative     398         4492.0\n",
       "13            5.0        neutral      57         4492.0\n",
       "14            5.0       positive    4037         4492.0"
      ]
     },
     "execution_count": 16,
     "metadata": {},
     "output_type": "execute_result"
    }
   ],
   "source": [
    "#get the sum of the counts for each group in review_rating \n",
    "sums = graphing.groupby(\"review_rating\").sum()\n",
    "\n",
    "\n",
    "#created a dictionary using pandas \n",
    "d= sums.to_dict(orient='dict')\n",
    "\n",
    "\n",
    "##print(d)\n",
    "##print(d[\"counts\"][1.0]) \n",
    "\n",
    "#create a sum column in the graphing pandas dataframe called Sum_of_Counts\n",
    "#Initally, make the values in this column the same values in review_rating \n",
    "graphing[\"Sum_of_Counts\"] = graphing[\"review_rating\"]\n",
    "\n",
    "#Use .replace to replace the values in Sum_of_Counts\n",
    "#Replace these values with the true sum of counts located in the dictionary created above, called d. \n",
    "graphing[\"Sum_of_Counts\"] = graphing[\"Sum_of_Counts\"].replace(1.0,d[\"counts\"][1.0])\n",
    "graphing[\"Sum_of_Counts\"] = graphing[\"Sum_of_Counts\"].replace(2.0,d[\"counts\"][2.0])\n",
    "graphing[\"Sum_of_Counts\"] = graphing[\"Sum_of_Counts\"].replace(3.0,d[\"counts\"][3.0])\n",
    "graphing[\"Sum_of_Counts\"] = graphing[\"Sum_of_Counts\"].replace(4.0,d[\"counts\"][4.0])\n",
    "graphing[\"Sum_of_Counts\"] = graphing[\"Sum_of_Counts\"].replace(5.0,d[\"counts\"][5.0])\n",
    "\n",
    "\n",
    "graphing\n",
    "\n"
   ]
  },
  {
   "cell_type": "markdown",
   "metadata": {},
   "source": [
    "### 2. Create a new column in graphing that shows a percentage for each row. This percentage is calculated for each row in each review_rating group. The percentage is calculated by doing (counts for that row)/(sum of counts for that review_rating group) "
   ]
  },
  {
   "cell_type": "code",
   "execution_count": 17,
   "metadata": {},
   "outputs": [
    {
     "data": {
      "text/html": [
       "<div>\n",
       "<style scoped>\n",
       "    .dataframe tbody tr th:only-of-type {\n",
       "        vertical-align: middle;\n",
       "    }\n",
       "\n",
       "    .dataframe tbody tr th {\n",
       "        vertical-align: top;\n",
       "    }\n",
       "\n",
       "    .dataframe thead th {\n",
       "        text-align: right;\n",
       "    }\n",
       "</style>\n",
       "<table border=\"1\" class=\"dataframe\">\n",
       "  <thead>\n",
       "    <tr style=\"text-align: right;\">\n",
       "      <th></th>\n",
       "      <th>review_rating</th>\n",
       "      <th>Datumbox_Score</th>\n",
       "      <th>counts</th>\n",
       "      <th>Sum_of_Counts</th>\n",
       "      <th>Percentage</th>\n",
       "    </tr>\n",
       "  </thead>\n",
       "  <tbody>\n",
       "    <tr>\n",
       "      <th>0</th>\n",
       "      <td>1.0</td>\n",
       "      <td>negative</td>\n",
       "      <td>289</td>\n",
       "      <td>318.0</td>\n",
       "      <td>90.9</td>\n",
       "    </tr>\n",
       "    <tr>\n",
       "      <th>1</th>\n",
       "      <td>1.0</td>\n",
       "      <td>neutral</td>\n",
       "      <td>2</td>\n",
       "      <td>318.0</td>\n",
       "      <td>0.6</td>\n",
       "    </tr>\n",
       "    <tr>\n",
       "      <th>2</th>\n",
       "      <td>1.0</td>\n",
       "      <td>positive</td>\n",
       "      <td>27</td>\n",
       "      <td>318.0</td>\n",
       "      <td>8.5</td>\n",
       "    </tr>\n",
       "    <tr>\n",
       "      <th>3</th>\n",
       "      <td>2.0</td>\n",
       "      <td>negative</td>\n",
       "      <td>169</td>\n",
       "      <td>222.0</td>\n",
       "      <td>76.1</td>\n",
       "    </tr>\n",
       "    <tr>\n",
       "      <th>4</th>\n",
       "      <td>2.0</td>\n",
       "      <td>neutral</td>\n",
       "      <td>2</td>\n",
       "      <td>222.0</td>\n",
       "      <td>0.9</td>\n",
       "    </tr>\n",
       "    <tr>\n",
       "      <th>5</th>\n",
       "      <td>2.0</td>\n",
       "      <td>positive</td>\n",
       "      <td>51</td>\n",
       "      <td>222.0</td>\n",
       "      <td>23.0</td>\n",
       "    </tr>\n",
       "    <tr>\n",
       "      <th>6</th>\n",
       "      <td>3.0</td>\n",
       "      <td>negative</td>\n",
       "      <td>240</td>\n",
       "      <td>440.0</td>\n",
       "      <td>54.5</td>\n",
       "    </tr>\n",
       "    <tr>\n",
       "      <th>7</th>\n",
       "      <td>3.0</td>\n",
       "      <td>neutral</td>\n",
       "      <td>4</td>\n",
       "      <td>440.0</td>\n",
       "      <td>0.9</td>\n",
       "    </tr>\n",
       "    <tr>\n",
       "      <th>8</th>\n",
       "      <td>3.0</td>\n",
       "      <td>positive</td>\n",
       "      <td>196</td>\n",
       "      <td>440.0</td>\n",
       "      <td>44.5</td>\n",
       "    </tr>\n",
       "    <tr>\n",
       "      <th>9</th>\n",
       "      <td>4.0</td>\n",
       "      <td>negative</td>\n",
       "      <td>308</td>\n",
       "      <td>1663.0</td>\n",
       "      <td>18.5</td>\n",
       "    </tr>\n",
       "    <tr>\n",
       "      <th>10</th>\n",
       "      <td>4.0</td>\n",
       "      <td>neutral</td>\n",
       "      <td>16</td>\n",
       "      <td>1663.0</td>\n",
       "      <td>1.0</td>\n",
       "    </tr>\n",
       "    <tr>\n",
       "      <th>11</th>\n",
       "      <td>4.0</td>\n",
       "      <td>positive</td>\n",
       "      <td>1339</td>\n",
       "      <td>1663.0</td>\n",
       "      <td>80.5</td>\n",
       "    </tr>\n",
       "    <tr>\n",
       "      <th>12</th>\n",
       "      <td>5.0</td>\n",
       "      <td>negative</td>\n",
       "      <td>398</td>\n",
       "      <td>4492.0</td>\n",
       "      <td>8.9</td>\n",
       "    </tr>\n",
       "    <tr>\n",
       "      <th>13</th>\n",
       "      <td>5.0</td>\n",
       "      <td>neutral</td>\n",
       "      <td>57</td>\n",
       "      <td>4492.0</td>\n",
       "      <td>1.3</td>\n",
       "    </tr>\n",
       "    <tr>\n",
       "      <th>14</th>\n",
       "      <td>5.0</td>\n",
       "      <td>positive</td>\n",
       "      <td>4037</td>\n",
       "      <td>4492.0</td>\n",
       "      <td>89.9</td>\n",
       "    </tr>\n",
       "  </tbody>\n",
       "</table>\n",
       "</div>"
      ],
      "text/plain": [
       "    review_rating Datumbox_Score  counts  Sum_of_Counts  Percentage\n",
       "0             1.0       negative     289          318.0        90.9\n",
       "1             1.0        neutral       2          318.0         0.6\n",
       "2             1.0       positive      27          318.0         8.5\n",
       "3             2.0       negative     169          222.0        76.1\n",
       "4             2.0        neutral       2          222.0         0.9\n",
       "5             2.0       positive      51          222.0        23.0\n",
       "6             3.0       negative     240          440.0        54.5\n",
       "7             3.0        neutral       4          440.0         0.9\n",
       "8             3.0       positive     196          440.0        44.5\n",
       "9             4.0       negative     308         1663.0        18.5\n",
       "10            4.0        neutral      16         1663.0         1.0\n",
       "11            4.0       positive    1339         1663.0        80.5\n",
       "12            5.0       negative     398         4492.0         8.9\n",
       "13            5.0        neutral      57         4492.0         1.3\n",
       "14            5.0       positive    4037         4492.0        89.9"
      ]
     },
     "execution_count": 17,
     "metadata": {},
     "output_type": "execute_result"
    }
   ],
   "source": [
    "Sum_of_Counts = graphing[\"Sum_of_Counts\"].values\n",
    "review_rating = graphing[\"review_rating\"].values\n",
    "counts = graphing[\"counts\"].values\n",
    "\n",
    "#assign variable percentages to the array counts/Sum_of_Counts \n",
    "percentages = counts/Sum_of_Counts\n",
    "\n",
    "#Create an empty list called percentages_rounded\n",
    "percentages_rounded = []\n",
    "\n",
    "#Loop through each element in the array percentages \n",
    "#round each percentage 3 decimal places and multipy by 100 to get a percentage \n",
    "#append the result to the list percentages_rounded \n",
    "for num in percentages: \n",
    "    percentages_rounded.append(round(num,3)*100)\n",
    "\n",
    "#Create a new column in graphing called Percentage with all the percentages in percentages_rounded \n",
    "graphing[\"Percentage\"] = percentages_rounded\n",
    "graphing\n",
    "\n"
   ]
  },
  {
   "cell_type": "markdown",
   "metadata": {},
   "source": [
    "### 3. Create Heatmap Visualization using Altair"
   ]
  },
  {
   "cell_type": "markdown",
   "metadata": {},
   "source": [
    "First chart assigned to the variable heatmap \n",
    "1.\tX axis is the Datumbox_Score from the pandas DataFrame graphing (type is nominal data) \n",
    "2.\tY axis is review_rating from the pandas DataFrame graphing (type is ordinal data) \n",
    "3.\tUse the Percentage column from the pandas DataFrame graphing  for the color. The color shown on the heatmap is based on how high or low the percentage is (the higher the percentage the darker the color—highest is dark red and the lowest is a super light orange) \n",
    "\n",
    "Second Chart assigned to the variable text \n",
    "1.\tX axis is the Datumbox_Score from the pandas DataFrame graphing (type is nominal data) \n",
    "2.\tY axis is review_rating from the pandas DataFrame graphing (type is ordinal data)\n",
    "3.\tThe color of the text is changed depending on the Percentage column from the pandas DataFrame graphing (type of data is quantitative) so it is easily readable. If the percentage score is over 70 percent the color is white, else the color of the text is black\n",
    "\n",
    "Lastly, Concatenate these two charts together so the percentage is shown (heatmap + text) "
   ]
  },
  {
   "cell_type": "code",
   "execution_count": 18,
   "metadata": {},
   "outputs": [
    {
     "data": {
      "application/vnd.vegalite.v2+json": {
       "$schema": "https://vega.github.io/schema/vega-lite/v2.6.0.json",
       "config": {
        "view": {
         "height": 300,
         "width": 400
        }
       },
       "datasets": {
        "data-3daae73ce8ab0e31dd42ab87d1d606c7": [
         {
          "Datumbox_Score": "negative",
          "Percentage": 90.9,
          "Sum_of_Counts": 318,
          "counts": 289,
          "review_rating": 1
         },
         {
          "Datumbox_Score": "neutral",
          "Percentage": 0.6,
          "Sum_of_Counts": 318,
          "counts": 2,
          "review_rating": 1
         },
         {
          "Datumbox_Score": "positive",
          "Percentage": 8.5,
          "Sum_of_Counts": 318,
          "counts": 27,
          "review_rating": 1
         },
         {
          "Datumbox_Score": "negative",
          "Percentage": 76.1,
          "Sum_of_Counts": 222,
          "counts": 169,
          "review_rating": 2
         },
         {
          "Datumbox_Score": "neutral",
          "Percentage": 0.8999999999999999,
          "Sum_of_Counts": 222,
          "counts": 2,
          "review_rating": 2
         },
         {
          "Datumbox_Score": "positive",
          "Percentage": 23,
          "Sum_of_Counts": 222,
          "counts": 51,
          "review_rating": 2
         },
         {
          "Datumbox_Score": "negative",
          "Percentage": 54.50000000000001,
          "Sum_of_Counts": 440,
          "counts": 240,
          "review_rating": 3
         },
         {
          "Datumbox_Score": "neutral",
          "Percentage": 0.8999999999999999,
          "Sum_of_Counts": 440,
          "counts": 4,
          "review_rating": 3
         },
         {
          "Datumbox_Score": "positive",
          "Percentage": 44.5,
          "Sum_of_Counts": 440,
          "counts": 196,
          "review_rating": 3
         },
         {
          "Datumbox_Score": "negative",
          "Percentage": 18.5,
          "Sum_of_Counts": 1663,
          "counts": 308,
          "review_rating": 4
         },
         {
          "Datumbox_Score": "neutral",
          "Percentage": 1,
          "Sum_of_Counts": 1663,
          "counts": 16,
          "review_rating": 4
         },
         {
          "Datumbox_Score": "positive",
          "Percentage": 80.5,
          "Sum_of_Counts": 1663,
          "counts": 1339,
          "review_rating": 4
         },
         {
          "Datumbox_Score": "negative",
          "Percentage": 8.9,
          "Sum_of_Counts": 4492,
          "counts": 398,
          "review_rating": 5
         },
         {
          "Datumbox_Score": "neutral",
          "Percentage": 1.3,
          "Sum_of_Counts": 4492,
          "counts": 57,
          "review_rating": 5
         },
         {
          "Datumbox_Score": "positive",
          "Percentage": 89.9,
          "Sum_of_Counts": 4492,
          "counts": 4037,
          "review_rating": 5
         }
        ]
       },
       "layer": [
        {
         "data": {
          "name": "data-3daae73ce8ab0e31dd42ab87d1d606c7"
         },
         "encoding": {
          "color": {
           "field": "Percentage",
           "scale": {
            "scheme": "orangered"
           },
           "type": "quantitative"
          },
          "x": {
           "field": "Datumbox_Score",
           "title": "Datumbox Analysis Score(predicted)",
           "type": "nominal"
          },
          "y": {
           "field": "review_rating",
           "title": "Review Star Rating(actual)",
           "type": "ordinal"
          }
         },
         "height": 500,
         "mark": "rect",
         "title": "Datumbox Score(predicted) vs. Review Star Rating(actual)",
         "width": 500
        },
        {
         "data": {
          "name": "data-3daae73ce8ab0e31dd42ab87d1d606c7"
         },
         "encoding": {
          "color": {
           "condition": {
            "test": "(datum['Percentage'] > 70)",
            "value": "white"
           },
           "value": "black"
          },
          "text": {
           "field": "Percentage",
           "type": "quantitative"
          },
          "x": {
           "field": "Datumbox_Score",
           "title": "Datumbox Analysis Score(predicted)",
           "type": "nominal"
          },
          "y": {
           "field": "review_rating",
           "title": "Review Star Rating(actual)",
           "type": "ordinal"
          }
         },
         "mark": "text"
        }
       ]
      },
      "image/png": "[encoded data removed]",
      "text/plain": [
       "<VegaLite 2 object>\n",
       "\n",
       "If you see this message, it means the renderer has not been properly enabled\n",
       "for the frontend that you are using. For more information, see\n",
       "https://altair-viz.github.io/user_guide/troubleshooting.html\n"
      ]
     },
     "execution_count": 18,
     "metadata": {},
     "output_type": "execute_result"
    }
   ],
   "source": [
    "heatmap = alt.Chart(graphing).mark_rect().encode(\n",
    "    alt.X('Datumbox_Score', type= \"nominal\", title = \"Datumbox Analysis Score(predicted)\"), \n",
    "    alt.Y('review_rating', type ='ordinal', title = \"Review Star Rating(actual)\"),\n",
    "    alt.Color('Percentage',type='quantitative',scale=alt.Scale(scheme='orangered'))\n",
    "    \n",
    ").properties(title = \"Datumbox Score(predicted) vs. Review Star Rating(actual)\", width=500, height=500)\n",
    "#heatmap\n",
    "\n",
    "text = alt.Chart(graphing).mark_text().encode(\n",
    "    alt.X('Datumbox_Score', type= \"nominal\", title = \"Datumbox Analysis Score(predicted)\"), \n",
    "    alt.Y('review_rating', type ='ordinal', title = \"Review Star Rating(actual)\"),\n",
    "    text = 'Percentage',\n",
    "    color = alt.condition(datum['Percentage'] > 70,\n",
    "                          alt.value('white'),\n",
    "                         alt.value('black'))\n",
    ")\n",
    "\n",
    "heatmap+text\n",
    "\n"
   ]
  },
  {
   "cell_type": "code",
   "execution_count": 19,
   "metadata": {},
   "outputs": [],
   "source": [
    "#normalizing within rows: easy to predict score to predict sentiment \n",
    "#percentage within rating \n",
    "#second heatmap percentage within sentiment \n",
    "\n",
    "#when its review score of 1 its __ percent negative \n",
    "#use rating to predict sentiment (strongly correlated); given this particular rating can have a good guess of sentiment\n",
    "#not skewed by counts \n",
    "\n",
    "##WORKS BEST FOR EXTREME but not so well for neutral. \n",
    "#The middle group should be dense here but its not\n",
    "#Meanings the API ambiguous when it encounters neutral category (almost nothing)\n",
    "#might think dense at netural \n",
    "\n",
    "#within ones most negative \n",
    "#normalizing within row \n",
    "\n",
    "#neutraal column barely every used \n",
    "#90 ish percent gave 1 star rating were rated as negative sentiment \n",
    "#this is what i would expect\n",
    "#strong relationship between \n",
    "#in the middle they are split 50/50 so in the middle\n",
    "\n",
    "#You cant predict neutral category on datumbox never used could use to predict if someone has a positive or negative score\n",
    "#\n"
   ]
  },
  {
   "cell_type": "markdown",
   "metadata": {},
   "source": [
    "## b) Create a heatmap where your normalize by Datumbox_Score (column) "
   ]
  },
  {
   "cell_type": "markdown",
   "metadata": {},
   "source": [
    "### 1. Create a new column in graphing that shows the sum of the counts for each group in Datumbox_Score. "
   ]
  },
  {
   "cell_type": "code",
   "execution_count": 20,
   "metadata": {},
   "outputs": [
    {
     "data": {
      "text/html": [
       "<div>\n",
       "<style scoped>\n",
       "    .dataframe tbody tr th:only-of-type {\n",
       "        vertical-align: middle;\n",
       "    }\n",
       "\n",
       "    .dataframe tbody tr th {\n",
       "        vertical-align: top;\n",
       "    }\n",
       "\n",
       "    .dataframe thead th {\n",
       "        text-align: right;\n",
       "    }\n",
       "</style>\n",
       "<table border=\"1\" class=\"dataframe\">\n",
       "  <thead>\n",
       "    <tr style=\"text-align: right;\">\n",
       "      <th></th>\n",
       "      <th>review_rating</th>\n",
       "      <th>Datumbox_Score</th>\n",
       "      <th>counts</th>\n",
       "      <th>Sum_of_Counts</th>\n",
       "      <th>Percentage</th>\n",
       "      <th>Sum_of_Counts_Datumbox_Score</th>\n",
       "    </tr>\n",
       "  </thead>\n",
       "  <tbody>\n",
       "    <tr>\n",
       "      <th>0</th>\n",
       "      <td>1.0</td>\n",
       "      <td>negative</td>\n",
       "      <td>289</td>\n",
       "      <td>318.0</td>\n",
       "      <td>90.9</td>\n",
       "      <td>1404</td>\n",
       "    </tr>\n",
       "    <tr>\n",
       "      <th>1</th>\n",
       "      <td>1.0</td>\n",
       "      <td>neutral</td>\n",
       "      <td>2</td>\n",
       "      <td>318.0</td>\n",
       "      <td>0.6</td>\n",
       "      <td>81</td>\n",
       "    </tr>\n",
       "    <tr>\n",
       "      <th>2</th>\n",
       "      <td>1.0</td>\n",
       "      <td>positive</td>\n",
       "      <td>27</td>\n",
       "      <td>318.0</td>\n",
       "      <td>8.5</td>\n",
       "      <td>5650</td>\n",
       "    </tr>\n",
       "    <tr>\n",
       "      <th>3</th>\n",
       "      <td>2.0</td>\n",
       "      <td>negative</td>\n",
       "      <td>169</td>\n",
       "      <td>222.0</td>\n",
       "      <td>76.1</td>\n",
       "      <td>1404</td>\n",
       "    </tr>\n",
       "    <tr>\n",
       "      <th>4</th>\n",
       "      <td>2.0</td>\n",
       "      <td>neutral</td>\n",
       "      <td>2</td>\n",
       "      <td>222.0</td>\n",
       "      <td>0.9</td>\n",
       "      <td>81</td>\n",
       "    </tr>\n",
       "    <tr>\n",
       "      <th>5</th>\n",
       "      <td>2.0</td>\n",
       "      <td>positive</td>\n",
       "      <td>51</td>\n",
       "      <td>222.0</td>\n",
       "      <td>23.0</td>\n",
       "      <td>5650</td>\n",
       "    </tr>\n",
       "    <tr>\n",
       "      <th>6</th>\n",
       "      <td>3.0</td>\n",
       "      <td>negative</td>\n",
       "      <td>240</td>\n",
       "      <td>440.0</td>\n",
       "      <td>54.5</td>\n",
       "      <td>1404</td>\n",
       "    </tr>\n",
       "    <tr>\n",
       "      <th>7</th>\n",
       "      <td>3.0</td>\n",
       "      <td>neutral</td>\n",
       "      <td>4</td>\n",
       "      <td>440.0</td>\n",
       "      <td>0.9</td>\n",
       "      <td>81</td>\n",
       "    </tr>\n",
       "    <tr>\n",
       "      <th>8</th>\n",
       "      <td>3.0</td>\n",
       "      <td>positive</td>\n",
       "      <td>196</td>\n",
       "      <td>440.0</td>\n",
       "      <td>44.5</td>\n",
       "      <td>5650</td>\n",
       "    </tr>\n",
       "    <tr>\n",
       "      <th>9</th>\n",
       "      <td>4.0</td>\n",
       "      <td>negative</td>\n",
       "      <td>308</td>\n",
       "      <td>1663.0</td>\n",
       "      <td>18.5</td>\n",
       "      <td>1404</td>\n",
       "    </tr>\n",
       "    <tr>\n",
       "      <th>10</th>\n",
       "      <td>4.0</td>\n",
       "      <td>neutral</td>\n",
       "      <td>16</td>\n",
       "      <td>1663.0</td>\n",
       "      <td>1.0</td>\n",
       "      <td>81</td>\n",
       "    </tr>\n",
       "    <tr>\n",
       "      <th>11</th>\n",
       "      <td>4.0</td>\n",
       "      <td>positive</td>\n",
       "      <td>1339</td>\n",
       "      <td>1663.0</td>\n",
       "      <td>80.5</td>\n",
       "      <td>5650</td>\n",
       "    </tr>\n",
       "    <tr>\n",
       "      <th>12</th>\n",
       "      <td>5.0</td>\n",
       "      <td>negative</td>\n",
       "      <td>398</td>\n",
       "      <td>4492.0</td>\n",
       "      <td>8.9</td>\n",
       "      <td>1404</td>\n",
       "    </tr>\n",
       "    <tr>\n",
       "      <th>13</th>\n",
       "      <td>5.0</td>\n",
       "      <td>neutral</td>\n",
       "      <td>57</td>\n",
       "      <td>4492.0</td>\n",
       "      <td>1.3</td>\n",
       "      <td>81</td>\n",
       "    </tr>\n",
       "    <tr>\n",
       "      <th>14</th>\n",
       "      <td>5.0</td>\n",
       "      <td>positive</td>\n",
       "      <td>4037</td>\n",
       "      <td>4492.0</td>\n",
       "      <td>89.9</td>\n",
       "      <td>5650</td>\n",
       "    </tr>\n",
       "  </tbody>\n",
       "</table>\n",
       "</div>"
      ],
      "text/plain": [
       "    review_rating Datumbox_Score  counts  Sum_of_Counts  Percentage  \\\n",
       "0             1.0       negative     289          318.0        90.9   \n",
       "1             1.0        neutral       2          318.0         0.6   \n",
       "2             1.0       positive      27          318.0         8.5   \n",
       "3             2.0       negative     169          222.0        76.1   \n",
       "4             2.0        neutral       2          222.0         0.9   \n",
       "5             2.0       positive      51          222.0        23.0   \n",
       "6             3.0       negative     240          440.0        54.5   \n",
       "7             3.0        neutral       4          440.0         0.9   \n",
       "8             3.0       positive     196          440.0        44.5   \n",
       "9             4.0       negative     308         1663.0        18.5   \n",
       "10            4.0        neutral      16         1663.0         1.0   \n",
       "11            4.0       positive    1339         1663.0        80.5   \n",
       "12            5.0       negative     398         4492.0         8.9   \n",
       "13            5.0        neutral      57         4492.0         1.3   \n",
       "14            5.0       positive    4037         4492.0        89.9   \n",
       "\n",
       "    Sum_of_Counts_Datumbox_Score  \n",
       "0                           1404  \n",
       "1                             81  \n",
       "2                           5650  \n",
       "3                           1404  \n",
       "4                             81  \n",
       "5                           5650  \n",
       "6                           1404  \n",
       "7                             81  \n",
       "8                           5650  \n",
       "9                           1404  \n",
       "10                            81  \n",
       "11                          5650  \n",
       "12                          1404  \n",
       "13                            81  \n",
       "14                          5650  "
      ]
     },
     "execution_count": 20,
     "metadata": {},
     "output_type": "execute_result"
    }
   ],
   "source": [
    "#get the sum of the counts for each group in Datumbox_Score \n",
    "sums_2 = graphing.groupby(\"Datumbox_Score\").sum()\n",
    "\n",
    "\n",
    "#created a dictionary using pandas \n",
    "d2 = sums_2.to_dict(orient='dict')\n",
    "\n",
    "\n",
    "##print(d)\n",
    "##print(d[\"counts\"][1.0]) \n",
    "\n",
    "#create a sum column in the graphing pandas dataframe \n",
    "#Name this column Sum_of_Counts_Datumbox_Score\n",
    "#Initially, make the values in this column the same values in Datumbox_Score. \n",
    "graphing[\"Sum_of_Counts_Datumbox_Score\"] = graphing[\"Datumbox_Score\"]\n",
    "\n",
    "\n",
    "#Use .replace to replace the values in Sum_of_Counts_Datumbox_Score.\n",
    "#Replace these values with the true sum of counts located in the dictionary created above, called d2. \n",
    "#The sum of counts for each Datumbox_Score are nested: d[“counts”][insert Datumbox Score str (positive, negative, or neutral)] \n",
    "graphing[\"Sum_of_Counts_Datumbox_Score\"] = graphing[\"Sum_of_Counts_Datumbox_Score\"].replace(\"positive\",d2[\"counts\"][\"positive\"])\n",
    "graphing[\"Sum_of_Counts_Datumbox_Score\"] = graphing[\"Sum_of_Counts_Datumbox_Score\"].replace(\"negative\",d2[\"counts\"][\"negative\"])\n",
    "graphing[\"Sum_of_Counts_Datumbox_Score\"] = graphing[\"Sum_of_Counts_Datumbox_Score\"].replace(\"neutral\",d2[\"counts\"][\"neutral\"])\n",
    "\n",
    "\n",
    "\n",
    "graphing\n",
    "\n"
   ]
  },
  {
   "cell_type": "markdown",
   "metadata": {},
   "source": [
    "### 2. Create a new column in graphing that shows a percentage for each row. This percentage is calculated for each row in each Datumbox_Score group. The percentage is calculated by doing (counts for that row)/(sum of counts for that Datumbox_Score group) "
   ]
  },
  {
   "cell_type": "code",
   "execution_count": 21,
   "metadata": {},
   "outputs": [
    {
     "data": {
      "text/html": [
       "<div>\n",
       "<style scoped>\n",
       "    .dataframe tbody tr th:only-of-type {\n",
       "        vertical-align: middle;\n",
       "    }\n",
       "\n",
       "    .dataframe tbody tr th {\n",
       "        vertical-align: top;\n",
       "    }\n",
       "\n",
       "    .dataframe thead th {\n",
       "        text-align: right;\n",
       "    }\n",
       "</style>\n",
       "<table border=\"1\" class=\"dataframe\">\n",
       "  <thead>\n",
       "    <tr style=\"text-align: right;\">\n",
       "      <th></th>\n",
       "      <th>review_rating</th>\n",
       "      <th>Datumbox_Score</th>\n",
       "      <th>counts</th>\n",
       "      <th>Sum_of_Counts</th>\n",
       "      <th>Percentage</th>\n",
       "      <th>Sum_of_Counts_Datumbox_Score</th>\n",
       "      <th>Percentage_Datumbox_Score</th>\n",
       "    </tr>\n",
       "  </thead>\n",
       "  <tbody>\n",
       "    <tr>\n",
       "      <th>0</th>\n",
       "      <td>1.0</td>\n",
       "      <td>negative</td>\n",
       "      <td>289</td>\n",
       "      <td>318.0</td>\n",
       "      <td>90.9</td>\n",
       "      <td>1404</td>\n",
       "      <td>20.6</td>\n",
       "    </tr>\n",
       "    <tr>\n",
       "      <th>1</th>\n",
       "      <td>1.0</td>\n",
       "      <td>neutral</td>\n",
       "      <td>2</td>\n",
       "      <td>318.0</td>\n",
       "      <td>0.6</td>\n",
       "      <td>81</td>\n",
       "      <td>2.5</td>\n",
       "    </tr>\n",
       "    <tr>\n",
       "      <th>2</th>\n",
       "      <td>1.0</td>\n",
       "      <td>positive</td>\n",
       "      <td>27</td>\n",
       "      <td>318.0</td>\n",
       "      <td>8.5</td>\n",
       "      <td>5650</td>\n",
       "      <td>0.5</td>\n",
       "    </tr>\n",
       "    <tr>\n",
       "      <th>3</th>\n",
       "      <td>2.0</td>\n",
       "      <td>negative</td>\n",
       "      <td>169</td>\n",
       "      <td>222.0</td>\n",
       "      <td>76.1</td>\n",
       "      <td>1404</td>\n",
       "      <td>12.0</td>\n",
       "    </tr>\n",
       "    <tr>\n",
       "      <th>4</th>\n",
       "      <td>2.0</td>\n",
       "      <td>neutral</td>\n",
       "      <td>2</td>\n",
       "      <td>222.0</td>\n",
       "      <td>0.9</td>\n",
       "      <td>81</td>\n",
       "      <td>2.5</td>\n",
       "    </tr>\n",
       "    <tr>\n",
       "      <th>5</th>\n",
       "      <td>2.0</td>\n",
       "      <td>positive</td>\n",
       "      <td>51</td>\n",
       "      <td>222.0</td>\n",
       "      <td>23.0</td>\n",
       "      <td>5650</td>\n",
       "      <td>0.9</td>\n",
       "    </tr>\n",
       "    <tr>\n",
       "      <th>6</th>\n",
       "      <td>3.0</td>\n",
       "      <td>negative</td>\n",
       "      <td>240</td>\n",
       "      <td>440.0</td>\n",
       "      <td>54.5</td>\n",
       "      <td>1404</td>\n",
       "      <td>17.1</td>\n",
       "    </tr>\n",
       "    <tr>\n",
       "      <th>7</th>\n",
       "      <td>3.0</td>\n",
       "      <td>neutral</td>\n",
       "      <td>4</td>\n",
       "      <td>440.0</td>\n",
       "      <td>0.9</td>\n",
       "      <td>81</td>\n",
       "      <td>4.9</td>\n",
       "    </tr>\n",
       "    <tr>\n",
       "      <th>8</th>\n",
       "      <td>3.0</td>\n",
       "      <td>positive</td>\n",
       "      <td>196</td>\n",
       "      <td>440.0</td>\n",
       "      <td>44.5</td>\n",
       "      <td>5650</td>\n",
       "      <td>3.5</td>\n",
       "    </tr>\n",
       "    <tr>\n",
       "      <th>9</th>\n",
       "      <td>4.0</td>\n",
       "      <td>negative</td>\n",
       "      <td>308</td>\n",
       "      <td>1663.0</td>\n",
       "      <td>18.5</td>\n",
       "      <td>1404</td>\n",
       "      <td>21.9</td>\n",
       "    </tr>\n",
       "    <tr>\n",
       "      <th>10</th>\n",
       "      <td>4.0</td>\n",
       "      <td>neutral</td>\n",
       "      <td>16</td>\n",
       "      <td>1663.0</td>\n",
       "      <td>1.0</td>\n",
       "      <td>81</td>\n",
       "      <td>19.8</td>\n",
       "    </tr>\n",
       "    <tr>\n",
       "      <th>11</th>\n",
       "      <td>4.0</td>\n",
       "      <td>positive</td>\n",
       "      <td>1339</td>\n",
       "      <td>1663.0</td>\n",
       "      <td>80.5</td>\n",
       "      <td>5650</td>\n",
       "      <td>23.7</td>\n",
       "    </tr>\n",
       "    <tr>\n",
       "      <th>12</th>\n",
       "      <td>5.0</td>\n",
       "      <td>negative</td>\n",
       "      <td>398</td>\n",
       "      <td>4492.0</td>\n",
       "      <td>8.9</td>\n",
       "      <td>1404</td>\n",
       "      <td>28.3</td>\n",
       "    </tr>\n",
       "    <tr>\n",
       "      <th>13</th>\n",
       "      <td>5.0</td>\n",
       "      <td>neutral</td>\n",
       "      <td>57</td>\n",
       "      <td>4492.0</td>\n",
       "      <td>1.3</td>\n",
       "      <td>81</td>\n",
       "      <td>70.4</td>\n",
       "    </tr>\n",
       "    <tr>\n",
       "      <th>14</th>\n",
       "      <td>5.0</td>\n",
       "      <td>positive</td>\n",
       "      <td>4037</td>\n",
       "      <td>4492.0</td>\n",
       "      <td>89.9</td>\n",
       "      <td>5650</td>\n",
       "      <td>71.5</td>\n",
       "    </tr>\n",
       "  </tbody>\n",
       "</table>\n",
       "</div>"
      ],
      "text/plain": [
       "    review_rating Datumbox_Score  counts  Sum_of_Counts  Percentage  \\\n",
       "0             1.0       negative     289          318.0        90.9   \n",
       "1             1.0        neutral       2          318.0         0.6   \n",
       "2             1.0       positive      27          318.0         8.5   \n",
       "3             2.0       negative     169          222.0        76.1   \n",
       "4             2.0        neutral       2          222.0         0.9   \n",
       "5             2.0       positive      51          222.0        23.0   \n",
       "6             3.0       negative     240          440.0        54.5   \n",
       "7             3.0        neutral       4          440.0         0.9   \n",
       "8             3.0       positive     196          440.0        44.5   \n",
       "9             4.0       negative     308         1663.0        18.5   \n",
       "10            4.0        neutral      16         1663.0         1.0   \n",
       "11            4.0       positive    1339         1663.0        80.5   \n",
       "12            5.0       negative     398         4492.0         8.9   \n",
       "13            5.0        neutral      57         4492.0         1.3   \n",
       "14            5.0       positive    4037         4492.0        89.9   \n",
       "\n",
       "    Sum_of_Counts_Datumbox_Score  Percentage_Datumbox_Score  \n",
       "0                           1404                       20.6  \n",
       "1                             81                        2.5  \n",
       "2                           5650                        0.5  \n",
       "3                           1404                       12.0  \n",
       "4                             81                        2.5  \n",
       "5                           5650                        0.9  \n",
       "6                           1404                       17.1  \n",
       "7                             81                        4.9  \n",
       "8                           5650                        3.5  \n",
       "9                           1404                       21.9  \n",
       "10                            81                       19.8  \n",
       "11                          5650                       23.7  \n",
       "12                          1404                       28.3  \n",
       "13                            81                       70.4  \n",
       "14                          5650                       71.5  "
      ]
     },
     "execution_count": 21,
     "metadata": {},
     "output_type": "execute_result"
    }
   ],
   "source": [
    "Sum_of_Counts_datumbox = graphing[\"Sum_of_Counts_Datumbox_Score\"].values\n",
    "datumbox_score = graphing[\"Datumbox_Score\"].values\n",
    "counts = graphing[\"counts\"].values\n",
    "\n",
    "#Assign variable percentages to the array counts/Sum_of_Counts_Datumbox_Score\n",
    "percentages = counts/Sum_of_Counts_datumbox\n",
    "\n",
    "#Create an empty list called percentages_rounded. \n",
    "percentages_rounded = []\n",
    "\n",
    "#Loop through array percentages and round each decimal 3 decimal places, multiply by 100 (to get a percentage)\n",
    "#append each result to the list percentages_rounded. \n",
    "for num in percentages: \n",
    "    percentages_rounded.append(round(num,3)*100) \n",
    "    \n",
    "#Create a new column in graphing called Percentage_Datumbox_Score with all the percentages in percentages_rounded \n",
    "graphing[\"Percentage_Datumbox_Score\"] = percentages_rounded\n",
    "graphing\n",
    "\n",
    "#print(graphing.groupby(\"Datumbox_Score\")[\"Percentage_Datumbox_Score\"].sum())"
   ]
  },
  {
   "cell_type": "markdown",
   "metadata": {},
   "source": [
    "### 3. Create Heatmap Visualization using Altair"
   ]
  },
  {
   "cell_type": "markdown",
   "metadata": {},
   "source": [
    "First chart assigned to the variable heatmap \n",
    "1.\tX axis is the Datumbox_Score from the pandas DataFrame graphing (type is nominal data) \n",
    "2.\tY axis is review_rating from the pandas DataFrame graphing (type is ordinal data) \n",
    "3.\tUse the Percentage_Datumbox_Score column from the pandas DataFrame graphing  for the color. The color shown on the heatmap is based on how high or low the percentage is (the higher the percentage the darker the color— highest is dark red and the lowest is a super light orange) \n",
    "\n",
    "Second Chart assigned to the variable text \n",
    "1.\tX axis is the Datumbox_Score from the pandas DataFrame graphing (type is nominal data) \n",
    "2.\tY axis is review_rating from the pandas DataFrame graphing (type is ordinal data)\n",
    "3.\tThe color of the text is changed depending on the Percentage_Datumbox_Score column from the pandas DataFrame graphing (type of data is quantitative) so it is easily readable. If the percentage score is over 30 percent the color is white, else the color of the text is black\n",
    "\n",
    "Lastly, Concatenate these two charts together so the percentage is shown (heatmap + text) "
   ]
  },
  {
   "cell_type": "code",
   "execution_count": 22,
   "metadata": {},
   "outputs": [
    {
     "data": {
      "application/vnd.vegalite.v2+json": {
       "$schema": "https://vega.github.io/schema/vega-lite/v2.6.0.json",
       "config": {
        "view": {
         "height": 300,
         "width": 400
        }
       },
       "datasets": {
        "data-894764f60797ae1654d6f9cc378d66f5": [
         {
          "Datumbox_Score": "negative",
          "Percentage": 90.9,
          "Percentage_Datumbox_Score": 20.599999999999998,
          "Sum_of_Counts": 318,
          "Sum_of_Counts_Datumbox_Score": 1404,
          "counts": 289,
          "review_rating": 1
         },
         {
          "Datumbox_Score": "neutral",
          "Percentage": 0.6,
          "Percentage_Datumbox_Score": 2.5,
          "Sum_of_Counts": 318,
          "Sum_of_Counts_Datumbox_Score": 81,
          "counts": 2,
          "review_rating": 1
         },
         {
          "Datumbox_Score": "positive",
          "Percentage": 8.5,
          "Percentage_Datumbox_Score": 0.5,
          "Sum_of_Counts": 318,
          "Sum_of_Counts_Datumbox_Score": 5650,
          "counts": 27,
          "review_rating": 1
         },
         {
          "Datumbox_Score": "negative",
          "Percentage": 76.1,
          "Percentage_Datumbox_Score": 12,
          "Sum_of_Counts": 222,
          "Sum_of_Counts_Datumbox_Score": 1404,
          "counts": 169,
          "review_rating": 2
         },
         {
          "Datumbox_Score": "neutral",
          "Percentage": 0.8999999999999999,
          "Percentage_Datumbox_Score": 2.5,
          "Sum_of_Counts": 222,
          "Sum_of_Counts_Datumbox_Score": 81,
          "counts": 2,
          "review_rating": 2
         },
         {
          "Datumbox_Score": "positive",
          "Percentage": 23,
          "Percentage_Datumbox_Score": 0.8999999999999999,
          "Sum_of_Counts": 222,
          "Sum_of_Counts_Datumbox_Score": 5650,
          "counts": 51,
          "review_rating": 2
         },
         {
          "Datumbox_Score": "negative",
          "Percentage": 54.50000000000001,
          "Percentage_Datumbox_Score": 17.1,
          "Sum_of_Counts": 440,
          "Sum_of_Counts_Datumbox_Score": 1404,
          "counts": 240,
          "review_rating": 3
         },
         {
          "Datumbox_Score": "neutral",
          "Percentage": 0.8999999999999999,
          "Percentage_Datumbox_Score": 4.9,
          "Sum_of_Counts": 440,
          "Sum_of_Counts_Datumbox_Score": 81,
          "counts": 4,
          "review_rating": 3
         },
         {
          "Datumbox_Score": "positive",
          "Percentage": 44.5,
          "Percentage_Datumbox_Score": 3.5000000000000004,
          "Sum_of_Counts": 440,
          "Sum_of_Counts_Datumbox_Score": 5650,
          "counts": 196,
          "review_rating": 3
         },
         {
          "Datumbox_Score": "negative",
          "Percentage": 18.5,
          "Percentage_Datumbox_Score": 21.9,
          "Sum_of_Counts": 1663,
          "Sum_of_Counts_Datumbox_Score": 1404,
          "counts": 308,
          "review_rating": 4
         },
         {
          "Datumbox_Score": "neutral",
          "Percentage": 1,
          "Percentage_Datumbox_Score": 19.8,
          "Sum_of_Counts": 1663,
          "Sum_of_Counts_Datumbox_Score": 81,
          "counts": 16,
          "review_rating": 4
         },
         {
          "Datumbox_Score": "positive",
          "Percentage": 80.5,
          "Percentage_Datumbox_Score": 23.7,
          "Sum_of_Counts": 1663,
          "Sum_of_Counts_Datumbox_Score": 5650,
          "counts": 1339,
          "review_rating": 4
         },
         {
          "Datumbox_Score": "negative",
          "Percentage": 8.9,
          "Percentage_Datumbox_Score": 28.299999999999997,
          "Sum_of_Counts": 4492,
          "Sum_of_Counts_Datumbox_Score": 1404,
          "counts": 398,
          "review_rating": 5
         },
         {
          "Datumbox_Score": "neutral",
          "Percentage": 1.3,
          "Percentage_Datumbox_Score": 70.39999999999999,
          "Sum_of_Counts": 4492,
          "Sum_of_Counts_Datumbox_Score": 81,
          "counts": 57,
          "review_rating": 5
         },
         {
          "Datumbox_Score": "positive",
          "Percentage": 89.9,
          "Percentage_Datumbox_Score": 71.5,
          "Sum_of_Counts": 4492,
          "Sum_of_Counts_Datumbox_Score": 5650,
          "counts": 4037,
          "review_rating": 5
         }
        ]
       },
       "layer": [
        {
         "data": {
          "name": "data-894764f60797ae1654d6f9cc378d66f5"
         },
         "encoding": {
          "color": {
           "field": "Percentage_Datumbox_Score",
           "scale": {
            "scheme": "orangered"
           },
           "type": "quantitative"
          },
          "x": {
           "field": "Datumbox_Score",
           "title": "Datumbox Analysis Score(predicted)",
           "type": "nominal"
          },
          "y": {
           "field": "review_rating",
           "title": "Review Star Rating(actual)",
           "type": "ordinal"
          }
         },
         "height": 500,
         "mark": "rect",
         "title": "Datumbox Score(predicted) versus Review Star Rating(actual)",
         "width": 500
        },
        {
         "data": {
          "name": "data-894764f60797ae1654d6f9cc378d66f5"
         },
         "encoding": {
          "color": {
           "condition": {
            "test": "(datum['Percentage_Datumbox_Score'] > 30)",
            "value": "white"
           },
           "value": "black"
          },
          "text": {
           "field": "Percentage_Datumbox_Score",
           "type": "quantitative"
          },
          "x": {
           "field": "Datumbox_Score",
           "title": "Datumbox Analysis Score(predicted)",
           "type": "nominal"
          },
          "y": {
           "field": "review_rating",
           "title": "Review Star Rating(actual)",
           "type": "ordinal"
          }
         },
         "mark": "text"
        }
       ]
      },
      "image/png": "[encoded data removed]",
      "text/plain": [
       "<VegaLite 2 object>\n",
       "\n",
       "If you see this message, it means the renderer has not been properly enabled\n",
       "for the frontend that you are using. For more information, see\n",
       "https://altair-viz.github.io/user_guide/troubleshooting.html\n"
      ]
     },
     "execution_count": 22,
     "metadata": {},
     "output_type": "execute_result"
    }
   ],
   "source": [
    "heatmap = alt.Chart(graphing).mark_rect().encode(\n",
    "    alt.X('Datumbox_Score', type= \"nominal\", title = \"Datumbox Analysis Score(predicted)\"), \n",
    "    alt.Y('review_rating', type ='ordinal', title = \"Review Star Rating(actual)\"),\n",
    "    alt.Color('Percentage_Datumbox_Score',type='quantitative',scale=alt.Scale(scheme='orangered')) \n",
    ").properties(title = \"Datumbox Score(predicted) versus Review Star Rating(actual)\", width=500, height=500) \n",
    "heatmap\n",
    "\n",
    "text = alt.Chart(graphing).mark_text().encode(\n",
    "    alt.X('Datumbox_Score', type= \"nominal\", title = \"Datumbox Analysis Score(predicted)\"), \n",
    "    alt.Y('review_rating', type ='ordinal', title = \"Review Star Rating(actual)\"),\n",
    "    text = 'Percentage_Datumbox_Score',\n",
    "    color = alt.condition(datum['Percentage_Datumbox_Score'] > 30,alt.value('white'),alt.value('black'))\n",
    ")\n",
    "heatmap + text\n",
    "\n"
   ]
  },
  {
   "cell_type": "code",
   "execution_count": 23,
   "metadata": {},
   "outputs": [],
   "source": [
    "#analysis comments: \n",
    "\n",
    "#neutral or positive then its probably a 4 or 5 \n",
    "#if negative could be almost anything \n",
    "#alot fewer negative reviews \n",
    "#normalizing within columns \n",
    "#because people are so much less likely to give negative. Although if negative review most likely negative\n",
    "#when look at negative reviews \n",
    "\n",
    "#if positive score its most likely a 5 review star rating, but also 4 is reasonably likely \n",
    "#if negative score you cant as easily predict\n",
    "#if try to go other way around 100 positive reviews only 10 negative reviews. Same amount of reviews \n",
    "#arent alot of negative reviews in te data set. Even though review score predicting sentiment if you have sentiment score for negative you cant easily predict which review star rating it will have \n",
    "#result of lack of negative reviews \n",
    "#alsmost always have negative sentiment when writing negative reviews. Any sentiment thats not negative will most likely positive. Negative sentiment could be negative review or could be minority of positive reviews that are written negatively\n"
   ]
  }
 ],
 "metadata": {
  "kernelspec": {
   "display_name": "Python 3",
   "language": "python",
   "name": "python3"
  },
  "language_info": {
   "codemirror_mode": {
    "name": "ipython",
    "version": 3
   },
   "file_extension": ".py",
   "mimetype": "text/x-python",
   "name": "python",
   "nbconvert_exporter": "python",
   "pygments_lexer": "ipython3",
   "version": "3.6.5"
  }
 },
 "nbformat": 4,
 "nbformat_minor": 2
}
