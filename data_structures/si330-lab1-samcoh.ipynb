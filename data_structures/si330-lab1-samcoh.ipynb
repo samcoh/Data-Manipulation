{
 "cells": [
  {
   "cell_type": "markdown",
   "metadata": {},
   "source": [
    "# Lab 1 - Data Structures and Sorting\n",
    "\n",
    "### Name:  Samantha Cohen\n",
    "### Uniqname: samcoh\n",
    "### People you worked with: Rhea Kulkarni\n",
    "\n",
    "## Submission instructions\n",
    "\n",
    "Fill in the three fields above and turn in the Lab by tomorrow night (Thurs) at 11:59pm.\n",
    "\n",
    "Turn in the following files via Canvas -> Assignments -> Lab 1:\n",
    "\n",
    "* Your Notebook, named `si330-hw1-YOUR_UNIQUE_NAME.ipynb`\n",
    "* the HTML file, named `si330-hw1-YOUR_UNIQUE_NAME.html`\n",
    "\n",
    "## Objectives\n",
    "After completing this homework assignment, you should know how to\n",
    "* use compound data structures\n",
    "* perform simple and complex sorting\n",
    "* use lambda functions\n",
    "\n",
    "In addition, this assignment will provide an opportunity to work with a large (100,000 row) data set.\n",
    "\n",
    "## Background\n",
    "\n",
    "Massive Open Online Courses (MOOCs) are a popular way for people to learn new skills.  The University of Michigan\n",
    "offers many different MOOCs, which are produced by faculty members and supported by the Office of Academic \n",
    "Innovation.\n",
    "\n",
    "MOOCs tend to be used by hundreds to hundreds of thousands of users.  These users leave \"digital exhaust\" when\n",
    "they work through the MOOC in the form of web server log entries.  We have obtained a small sample of these data\n",
    "files from Prof. Chris Brooks, who is a colleague here at UMSI.  The data files are de-identified: anything\n",
    "that could identify a person, such as their UMID or their IP address are \"hashed\" (encrypted).  Each line in the\n",
    "data file represents a \"page view\" by a user.  The schema for each line is:\n",
    "\n",
    "```umich_user_id, hashed_session_cookie_id, server_timestamp, hashed_ip, user_agent, url, initial_referrer_url, rowser_language, course_id, country_cd, region_cd, timezone, os, browser, key, value```\n",
    "\n",
    "**For this lab we will only concern ourselves with ```umich_user_id```, which identifies each user.**\n",
    "\n",
    "We will use the files **mooc_small.csv** and **countrycodes.tsv** for this lab.\n",
    "\n",
    "In the lab, we will go through the motions of some manipulation of the MOOC log data. These concepts would be tested in your homework assignment, where you will use these manipulations to answer some real world questions."
   ]
  },
  {
   "cell_type": "markdown",
   "metadata": {},
   "source": [
    "## Setup"
   ]
  },
  {
   "cell_type": "code",
   "execution_count": 2,
   "metadata": {},
   "outputs": [],
   "source": [
    "import csv\n",
    "from collections import defaultdict"
   ]
  },
  {
   "cell_type": "markdown",
   "metadata": {},
   "source": [
    "## The data\n",
    "\n",
    "We will use two data files:\n",
    "\n",
    "- `mooc_small.csv`: MOOC usage logs, as described above\n",
    "- `countrycodes.tsv`: a table of country codes and corresponding country names, so that we can determine the names of countries which are represented as country codes in ```mooc_small.csv```. "
   ]
  },
  {
   "cell_type": "markdown",
   "metadata": {},
   "source": [
    "## Part 0: Inspecting the data\n",
    "\n",
    "A good first step, **before** writing/executing code, is to inspect the data files you'll use.\n",
    "\n",
    "Double-click on `countrycodes.tsv` and `mooc.csv` in Jupyter Lab's left-hand file pane to open them up in Jupyter Lab's built-in data file viewer. \n",
    "We will be trying to use the `country_cd` column in `mooc.csv` to look up countries in `countrycodes.tsv`."
   ]
  },
  {
   "cell_type": "markdown",
   "metadata": {},
   "source": [
    "## Part 1: Importing the data"
   ]
  },
  {
   "cell_type": "markdown",
   "metadata": {},
   "source": [
    "### Part 1.1: MOOC logs\n",
    "\n",
    "First, we'll import the MOOC usage logs from `mooc_small.csv` into a list-of-dictionaries data structure called `mooc_data`:"
   ]
  },
  {
   "cell_type": "code",
   "execution_count": 6,
   "metadata": {},
   "outputs": [],
   "source": [
    "mooc_data_file_name = \"mooc_small.csv\"\n",
    "\n",
    "with open(mooc_data_file_name, \"r\") as csvfile:\n",
    "    mooc_data = list(csv.DictReader(csvfile))\n",
    "    # CHANGE ME\n",
    "    # insert lines here to create a variable called `mooc_data` containing a\n",
    "    # list-of-dictionaries, where each dictionary is a row from \"mooc_small.csv\"\n",
    "    #pass\n",
    "#mooc_data"
   ]
  },
  {
   "cell_type": "markdown",
   "metadata": {},
   "source": [
    "Print the **first 10 lines** from ```mooc_data```. We will output the ```user id``` and ```country code```:"
   ]
  },
  {
   "cell_type": "code",
   "execution_count": 7,
   "metadata": {},
   "outputs": [
    {
     "name": "stdout",
     "output_type": "stream",
     "text": [
      "0ea5cc6ff0ca76782e6c0a81f070cae9cf0971d9 PF\n",
      "0ea5cc6ff0ca76782e6c0a81f070cae9cf0971d9 PF\n",
      "5450de1c9e1874d613a9649a39352a10313a3b8f IT\n",
      "0ea5cc6ff0ca76782e6c0a81f070cae9cf0971d9 PF\n",
      "25424b1007637699cf0c672edc7a64c2b65268fa US\n",
      "a95f04999ccf8fcd0f26fb0851745073a147e009 CZ\n",
      "4ea0a18ab02a30290dda02bdb2da8a7a6a469245 US\n",
      "25424b1007637699cf0c672edc7a64c2b65268fa US\n",
      "44185055eece5d1bc7986d743d240a7633d968ff US\n",
      "005aa91c779e6fe84b49398793dbda670dd6c352 NO\n"
     ]
    }
   ],
   "source": [
    "for row in mooc_data[:10]: # CHANGE ME: As-is, this will print all the rows. Change it so that it prints only the first 10\n",
    "    print(row[\"umich_user_id\"],row[\"country_cd\"]) # CHANGE ME: Write down the code within the print statement so that it prints user id and country code"
   ]
  },
  {
   "cell_type": "markdown",
   "metadata": {},
   "source": [
    "### Part 1.2: Country names"
   ]
  },
  {
   "cell_type": "markdown",
   "metadata": {},
   "source": [
    "We want to know for a given two digit ```country_cd``` in ```mooc_small.csv```, the complete name of the country. Hence, we will import the country codes into a dictionary."
   ]
  },
  {
   "cell_type": "markdown",
   "metadata": {},
   "source": [
    "Double-click on `countrycodes.tsv`\n",
    "\n",
    "**Q1.2.1. What is the name of the column that corresponds to the country name?**\n",
    "\n",
    "> Country or Area Name\n",
    "\n",
    "**Q1.2.2: What is the name of the column that corresponds to the two-digit country code?**\n",
    "\n",
    "> ISO ALPHA-2 Code"
   ]
  },
  {
   "cell_type": "markdown",
   "metadata": {},
   "source": [
    "In order to be able to lookup the country name corresponding to a particular country code, we will create a dictionary with these properties:\n",
    "- **keys** in the dictionary are country codes\n",
    "- **values** in the dictionary are country names"
   ]
  },
  {
   "cell_type": "code",
   "execution_count": 4,
   "metadata": {},
   "outputs": [],
   "source": [
    "with open(\"countrycodes.tsv\", \"r\") as csvfile:\n",
    "    reader = csv.DictReader(csvfile, delimiter = \"\\t\", quotechar = '\"')\n",
    "    country_names = {}\n",
    "    for row in reader:\n",
    "        country_names[row['ISO ALPHA-2 Code']]=row['Country or Area Name']"
   ]
  },
  {
   "cell_type": "markdown",
   "metadata": {},
   "source": [
    "Let's see what it looks like:"
   ]
  },
  {
   "cell_type": "code",
   "execution_count": 5,
   "metadata": {},
   "outputs": [
    {
     "name": "stdout",
     "output_type": "stream",
     "text": [
      "AF Afghanistan\n",
      "AX Aland Islands\n",
      "AL Albania\n",
      "DZ Algeria\n",
      "AS American Samoa\n",
      "AD Andorra\n",
      "AO Angola\n",
      "AI Anguilla\n",
      "AQ Antarctica\n",
      "AG Antigua and Barbuda\n",
      "AR Argentina\n",
      "AM Armenia\n",
      "AW Aruba\n",
      "AU Australia\n",
      "AT Austria\n",
      "AZ Azerbaijan\n",
      "BS Bahamas\n",
      "BH Bahrain\n",
      "BD Bangladesh\n",
      "BB Barbados\n",
      "BY Belarus\n",
      "BE Belgium\n",
      "BZ Belize\n",
      "BJ Benin\n",
      "BM Bermuda\n",
      "BT Bhutan\n",
      "BO Bolivia\n",
      "BA Bosnia and Herzegovina\n",
      "BW Botswana\n",
      "BV Bouvet Island\n",
      "BR Brazil\n",
      "VG British Virgin Islands\n",
      "IO British Indian Ocean Territory\n",
      "BN Brunei Darussalam\n",
      "BG Bulgaria\n",
      "BF Burkina Faso\n",
      "BI Burundi\n",
      "KH Cambodia\n",
      "CM Cameroon\n",
      "CA Canada\n",
      "CV Cape Verde\n",
      "KY Cayman Islands\n",
      "CF Central African Republic\n",
      "TD Chad\n",
      "CL Chile\n",
      "CN China\n",
      "HK Hong Kong, SAR China\n",
      "MO Macao, SAR China\n",
      "CX Christmas Island\n",
      "CC Cocos (Keeling) Islands\n",
      "CO Colombia\n",
      "KM Comoros\n",
      "CG Congo (Brazzaville)\n",
      "CD Congo, (Kinshasa)\n",
      "CK Cook Islands\n",
      "CR Costa Rica\n",
      "CI Cote d'Ivoire\n",
      "HR Croatia\n",
      "CU Cuba\n",
      "CY Cyprus\n",
      "CZ Czech Republic\n",
      "DK Denmark\n",
      "DJ Djibouti\n",
      "DM Dominica\n",
      "DO Dominican Republic\n",
      "EC Ecuador\n",
      "EG Egypt\n",
      "SV El Salvador\n",
      "GQ Equatorial Guinea\n",
      "ER Eritrea\n",
      "EE Estonia\n",
      "ET Ethiopia\n",
      "FK Falkland Islands (Malvinas)\n",
      "FO Faroe Islands\n",
      "FJ Fiji\n",
      "FI Finland\n",
      "FR France\n",
      "GF French Guiana\n",
      "PF French Polynesia\n",
      "TF French Southern Territories\n",
      "GA Gabon\n",
      "GM Gambia\n",
      "GE Georgia\n",
      "DE Germany\n",
      "GH Ghana\n",
      "GI Gibraltar\n",
      "GR Greece\n",
      "GL Greenland\n",
      "GD Grenada\n",
      "GP Guadeloupe\n",
      "GU Guam\n",
      "GT Guatemala\n",
      "GG Guernsey\n",
      "GN Guinea\n",
      "GW Guinea-Bissau\n",
      "GY Guyana\n",
      "HT Haiti\n",
      "HM Heard and Mcdonald Islands\n",
      "VA Holy See (Vatican City State)\n",
      "HN Honduras\n",
      "HU Hungary\n",
      "IS Iceland\n",
      "IN India\n",
      "ID Indonesia\n",
      "IR Iran, Islamic Republic of\n",
      "IQ Iraq\n",
      "IE Ireland\n",
      "IM Isle of Man\n",
      "IL Israel\n",
      "IT Italy\n",
      "JM Jamaica\n",
      "JP Japan\n",
      "JE Jersey\n",
      "JO Jordan\n",
      "KZ Kazakhstan\n",
      "KE Kenya\n",
      "KI Kiribati\n",
      "KP Korea (North)\n",
      "KR Korea (South)\n",
      "KW Kuwait\n",
      "KG Kyrgyzstan\n",
      "LA Lao PDR\n",
      "LV Latvia\n",
      "LB Lebanon\n",
      "LS Lesotho\n",
      "LR Liberia\n",
      "LY Libya\n",
      "LI Liechtenstein\n",
      "LT Lithuania\n",
      "LU Luxembourg\n",
      "MK Macedonia, Republic of\n",
      "MG Madagascar\n",
      "MW Malawi\n",
      "MY Malaysia\n",
      "MV Maldives\n",
      "ML Mali\n",
      "MT Malta\n",
      "MH Marshall Islands\n",
      "MQ Martinique\n",
      "MR Mauritania\n",
      "MU Mauritius\n",
      "YT Mayotte\n",
      "MX Mexico\n",
      "FM Micronesia, Federated States of\n",
      "MD Moldova\n",
      "MC Monaco\n",
      "MN Mongolia\n",
      "ME Montenegro\n",
      "MS Montserrat\n",
      "MA Morocco\n",
      "MZ Mozambique\n",
      "MM Myanmar\n",
      "NA Namibia\n",
      "NR Nauru\n",
      "NP Nepal\n",
      "NL Netherlands\n",
      "AN Netherlands Antilles\n",
      "NC New Caledonia\n",
      "NZ New Zealand\n",
      "NI Nicaragua\n",
      "NE Niger\n",
      "NG Nigeria\n",
      "NU Niue\n",
      "NF Norfolk Island\n",
      "MP Northern Mariana Islands\n",
      "NO Norway\n",
      "OM Oman\n",
      "PK Pakistan\n",
      "PW Palau\n",
      "PS Palestinian Territory\n",
      "PA Panama\n",
      "PG Papua New Guinea\n",
      "PY Paraguay\n",
      "PE Peru\n",
      "PH Philippines\n",
      "PN Pitcairn\n",
      "PL Poland\n",
      "PT Portugal\n",
      "PR Puerto Rico\n",
      "QA Qatar\n",
      "RE Reunion\n",
      "RO Romania\n",
      "RU Russian Federation\n",
      "RW Rwanda\n",
      "BL Saint-Barthlemy\n",
      "SH Saint Helena\n",
      "KN Saint Kitts and Nevis\n",
      "LC Saint Lucia\n",
      "MF Saint-Martin (French part)\n",
      "PM Saint Pierre and Miquelon\n",
      "VC Saint Vincent and Grenadines\n",
      "WS Samoa\n",
      "SM San Marino\n",
      "ST Sao Tome and Principe\n",
      "SA Saudi Arabia\n",
      "SN Senegal\n",
      "RS Serbia\n",
      "SC Seychelles\n",
      "SL Sierra Leone\n",
      "SG Singapore\n",
      "SK Slovakia\n",
      "SI Slovenia\n",
      "SB Solomon Islands\n",
      "SO Somalia\n",
      "ZA South Africa\n",
      "GS South Georgia and the South Sandwich Islands\n",
      "SS South Sudan\n",
      "ES Spain\n",
      "LK Sri Lanka\n",
      "SD Sudan\n",
      "SR Suriname\n",
      "SJ Svalbard and Jan Mayen Islands\n",
      "SZ Swaziland\n",
      "SE Sweden\n",
      "CH Switzerland\n",
      "SY Syrian Arab Republic (Syria)\n",
      "TW Taiwan, Republic of China\n",
      "TJ Tajikistan\n",
      "TZ Tanzania, United Republic of\n",
      "TH Thailand\n",
      "TL Timor-Leste\n",
      "TG Togo\n",
      "TK Tokelau\n",
      "TO Tonga\n",
      "TT Trinidad and Tobago\n",
      "TN Tunisia\n",
      "TR Turkey\n",
      "TM Turkmenistan\n",
      "TC Turks and Caicos Islands\n",
      "TV Tuvalu\n",
      "UG Uganda\n",
      "UA Ukraine\n",
      "AE United Arab Emirates\n",
      "GB United Kingdom\n",
      "US United States of America\n",
      "UM US Minor Outlying Islands\n",
      "UY Uruguay\n",
      "UZ Uzbekistan\n",
      "VU Vanuatu\n",
      "VE Venezuela (Bolivarian Republic)\n",
      "VN Vietnam\n",
      "VI Virgin Islands, US\n",
      "WF Wallis and Futuna Islands\n",
      "EH Western Sahara\n",
      "YE Yemen\n",
      "ZM Zambia\n",
      "ZW Zimbabwe\n"
     ]
    }
   ],
   "source": [
    "for country_code, country_name in country_names.items():  # CHANGE ME: Change XXXX to the appropriate expression to iterate over\n",
    "    print(country_code, country_name) #CHANGE ME: print out the country code and country name"
   ]
  },
  {
   "cell_type": "markdown",
   "metadata": {},
   "source": [
    "Now, let's re-write the code you used to create `country_names` to use a *dictionary comprehension* instead of a loop:"
   ]
  },
  {
   "cell_type": "code",
   "execution_count": 6,
   "metadata": {},
   "outputs": [],
   "source": [
    "with open(\"countrycodes.tsv\", \"r\") as csvfile:\n",
    "    reader = csv.DictReader(csvfile, delimiter = \"\\t\", quotechar = '\"')\n",
    "    country_names = {row[\"ISO ALPHA-2 Code\"]: row['Country or Area Name'] for row in reader}# CHANGE ME: Change this line to a dictionary comprehension that creates the same data structure you created above"
   ]
  },
  {
   "cell_type": "markdown",
   "metadata": {},
   "source": [
    "Re-run the code block that prints country codes and names to make sure your dictionary comprehension version works."
   ]
  },
  {
   "cell_type": "markdown",
   "metadata": {},
   "source": [
    "## Part 2: Combining `mooc_data` and `country_names`\n",
    "\n",
    "Print the **first 10 lines** from ```mooc_data``` again. This time, we will output the ```user id```, ```country code```, **and full country name**.\n",
    "\n",
    "Hint: you'll need to use `country_names` to look up the country name."
   ]
  },
  {
   "cell_type": "code",
   "execution_count": 7,
   "metadata": {},
   "outputs": [
    {
     "name": "stdout",
     "output_type": "stream",
     "text": [
      "0ea5cc6ff0ca76782e6c0a81f070cae9cf0971d9 PF French Polynesia\n",
      "0ea5cc6ff0ca76782e6c0a81f070cae9cf0971d9 PF French Polynesia\n",
      "5450de1c9e1874d613a9649a39352a10313a3b8f IT Italy\n",
      "0ea5cc6ff0ca76782e6c0a81f070cae9cf0971d9 PF French Polynesia\n",
      "25424b1007637699cf0c672edc7a64c2b65268fa US United States of America\n",
      "a95f04999ccf8fcd0f26fb0851745073a147e009 CZ Czech Republic\n",
      "4ea0a18ab02a30290dda02bdb2da8a7a6a469245 US United States of America\n",
      "25424b1007637699cf0c672edc7a64c2b65268fa US United States of America\n",
      "44185055eece5d1bc7986d743d240a7633d968ff US United States of America\n",
      "005aa91c779e6fe84b49398793dbda670dd6c352 NO Norway\n"
     ]
    }
   ],
   "source": [
    "for row in mooc_data[:10]: # CHANGE ME: As-is, this will print all the rows. Change it so that it prints only the first 10\n",
    "    print(row[\"umich_user_id\"], row[\"country_cd\"], country_names[row[\"country_cd\"]]) # CHANGE ME: Write down the code within the print statement so that it prints user id, country code, and country name"
   ]
  },
  {
   "cell_type": "markdown",
   "metadata": {},
   "source": [
    "**Q1.2.3: Why is a dictionary a good data structure for `country_names`? Hint: think about (1) what operations we needed to perform on this data structure and\n",
    "(2) what operations are fast or slow for this data structure.**\n",
    "\n",
    "> The operation we need to perform on this data structure is getting items by index.\n",
    "Dictionaies are fast when you are trying to get a value by an index, which is why it is a good data structure to use. The operations that are fast for this data structure:  to get/set items by index,  to test for key membership, and deletion of values by key. The operation that is slow for a dictionary data structure is testing for value membership. "
   ]
  },
  {
   "cell_type": "markdown",
   "metadata": {},
   "source": [
    "## Part 3: Organizing user ids by country code\n",
    "\n",
    "Next, we want to re-organize the `mooc_data` into a data structure which will make it easier for us to get all user ids for one country.\n",
    "\n",
    "We will create a dictionary of lists, where:\n",
    "\n",
    "- each **key** is a country code\n",
    "- each **value** is a list of user ids from that country"
   ]
  },
  {
   "cell_type": "markdown",
   "metadata": {},
   "source": [
    "We will use a `defaultdict(list)` object instead of just a normal dictionary. A `defaultdict(list)` acts just like a normal dictionary,\n",
    "except that when you try to retrieve the value for a key that is not in the dictionary, it calls the `list()` function, which creates a new list.\n",
    "It then takes that list, assigns it to that key, and returns it."
   ]
  },
  {
   "cell_type": "code",
   "execution_count": 10,
   "metadata": {
    "collapsed": true
   },
   "outputs": [],
   "source": [
    "user_data_by_country = defaultdict(list)\n",
    "\n",
    "for row in mooc_data:\n",
    "    user_data_by_country[row[\"country_cd\"]].append(row[\"umich_user_id\"])\n",
    "    # CHANGE ME: insert code here to add the user id for each row to the correct list within `user_data_by_country`.\n",
    "#print(user_data_by_country)"
   ]
  },
  {
   "cell_type": "markdown",
   "metadata": {},
   "source": [
    "## Part 4: Getting all user ids for just the US\n",
    "\n",
    "We want to find out the number of different users overall, and from the US. For that we will first need to filter ```user_data_by_country``` to retrieve data from the US, and store it in ```us_user_data```. Since we are using a dictionary, this is relatively straightforward: (nothing for you to change here):"
   ]
  },
  {
   "cell_type": "code",
   "execution_count": 9,
   "metadata": {
    "collapsed": true
   },
   "outputs": [],
   "source": [
    "us_user_data = user_data_by_country['US']"
   ]
  },
  {
   "cell_type": "markdown",
   "metadata": {},
   "source": [
    "## Part 5: Counting unique users\n",
    "\n",
    "To get the number of unique users, we can do it in two different ways - **dictionaries** and **sets**.\n",
    "\n",
    "Sets are useful if you just want to know what the unique user ids are. Dictionaries are useful if you want to associate some additional information with each unique user, such as the number of logs for that user."
   ]
  },
  {
   "cell_type": "markdown",
   "metadata": {},
   "source": [
    "First, you will use **dictionaries** to count unique users and store the number of logs for each. You will do this both for all users globally (`unique_user_log_count_overall`) and for just users in the US (`unique_user_log_count_us`). It is easiest to do this using ```defaultdict```:"
   ]
  },
  {
   "cell_type": "code",
   "execution_count": 11,
   "metadata": {
    "collapsed": true
   },
   "outputs": [
    {
     "name": "stdout",
     "output_type": "stream",
     "text": [
      "defaultdict(<class 'int'>, {'25424b1007637699cf0c672edc7a64c2b65268fa': 2, '4ea0a18ab02a30290dda02bdb2da8a7a6a469245': 2, '44185055eece5d1bc7986d743d240a7633d968ff': 3, '95cffc5948af183853735930299a0bc48c1cdc6c': 3, '90e1b71e4948330711a9bb9f2df6818532945829': 1, '81f41b99410e89adfd934416faf87e361da5815f': 1, 'f9a7816134e0397b5f380ab082cdef5b37d3a323': 1, '7fe732fdcf374ef1ea747a19e1eb28478c6ad656': 2, 'c7e0b7e873392815abee61a53c231a1d5866a659': 6, '1066a697903937dcb2bba46698b65c9067602b13': 4, 'ba41844ae5dba3fe42d7cc13c124d68062656cd2': 1, '6834ae47d226b2053f130fb9e52eab3c63212ca1': 1, 'b8ee892ce61b98c391c7f49dac24a32569548d15': 1, 'bec8d341e667a015f933c171705ab73c3affdf03': 1, '1e791177b039f48de777a632003765c1ee10f349': 1, '7c08d6e31857a6cf120b5a22b5c659ead920e4dc': 1, '70d530b2e677aa82a680b36ba534dbabc884e010': 3, '95b5bdb0c8007d9deb2adfdbc585300ca4346b9f': 1, '32b73c34b1f858c72bfdb95114891bcc90f6856d': 1, '5ea1e0b32644f577a0f9f08f43d793a7f8c864ef': 2, '02b921627914e08b888160fafef88ab27dc9338c': 1, '6dc77e5d88674d7358f7a6f4fb40323a150d5b19': 1, 'c652fdea90bf6770420eb55236382b5353b347e6': 1, '152b5f9c93e7b076b88f235b8581b9945f77c2e8': 2, '3e09689513e561c8381174b3d25a4ae779211159': 1})\n",
      "Total no. of unique users:  51\n",
      "No. of unique users from the US:  25\n"
     ]
    }
   ],
   "source": [
    "unique_user_log_count_overall = defaultdict(int) # CHANGE ME: should be defaultdict(XXX) --- figure out what XXX should be!\n",
    "unique_user_log_count_us = defaultdict(int)       # CHANGE ME\n",
    "for row in mooc_data:\n",
    "    unique_user_log_count_overall[row[\"umich_user_id\"]] += 1\n",
    "    if row[\"country_cd\"] == \"US\": \n",
    "        unique_user_log_count_us[row[\"umich_user_id\"]] += 1\n",
    "    #CHANGE ME\n",
    "    #pass\n",
    "#print(unique_user_log_count_us)\n",
    "print(\"Total no. of unique users: \", len(unique_user_log_count_overall))\n",
    "print(\"No. of unique users from the US: \", len(unique_user_log_count_us))"
   ]
  },
  {
   "cell_type": "markdown",
   "metadata": {},
   "source": [
    "Second, you will count unique users using **sets**. In the following block you will create two sets to store the unique user ids of all users globally (`unique_users_overall`)\n",
    "and from just the US (`unique_users_us`). Remember that a set will only store unique ids, unlike a list.\n",
    "\n",
    "In the following chunk, write down the **set comprehensions** to get the sets of all the unique users globally and in the US:"
   ]
  },
  {
   "cell_type": "code",
   "execution_count": 4,
   "metadata": {},
   "outputs": [
    {
     "name": "stdout",
     "output_type": "stream",
     "text": [
      "Total no. of unique users:  51\n",
      "No. of unique users from the US:  25\n"
     ]
    }
   ],
   "source": [
    "unique_users_overall = {row[\"umich_user_id\"] for row in mooc_data}   # CHANGE ME: write down a set comprehension to get all unique users \n",
    "unique_users_us = {row[\"umich_user_id\"] for row in mooc_data if row[\"country_cd\"]==\"US\"}         # CHANGE ME: write down a set comprehension to get US unique users \n",
    "\n",
    "print(\"Total no. of unique users: \", len(unique_users_overall))\n",
    "print(\"No. of unique users from the US: \", len(unique_users_us))"
   ]
  },
  {
   "cell_type": "markdown",
   "metadata": {},
   "source": [
    "## Part 6: Getting the average number of logs per user\n",
    "Here we want to get the average number of logs for users in the world versus users just in the US. We can use the dictionaries that we created previously, ```unique_user_log_count_overall``` and ```unique_user_log_count_us``` to compute this. The easiest way to do this is using the `sum()` function --- look it up if you are not familiar with it."
   ]
  },
  {
   "cell_type": "code",
   "execution_count": 12,
   "metadata": {},
   "outputs": [
    {
     "name": "stdout",
     "output_type": "stream",
     "text": [
      "Total no. of unique users:  1.9607843137254901\n",
      "No. of unique users from the US:  1.76\n"
     ]
    }
   ],
   "source": [
    "#print(unique_user_log_count_overall)\n",
    "#print(sum([log_count for log_count in unique_user_log_count_overall.values()]))\n",
    "#print(len(unique_user_log_count_overall))\n",
    "mean_logs_per_user_overall = sum(unique_user_log_count_overall.values())/ len(unique_user_log_count_overall)  # CHANGE ME: Calculate the sum over the values of the dictionary. Divide by the length of the dictionary\n",
    "mean_logs_per_user_us = sum(unique_user_log_count_us.values())/ len(unique_user_log_count_us)\n",
    "\n",
    "print(\"Total no. of unique users: \", mean_logs_per_user_overall)\n",
    "print(\"No. of unique users from the US: \", mean_logs_per_user_us)"
   ]
  },
  {
   "cell_type": "markdown",
   "metadata": {},
   "source": [
    "## Part 7: Top 5 users\n",
    "\n",
    "Let's get the ```user_id``` of the top 5 users who visited the most pages, globally and from the US.\n",
    "\n",
    "To do this, you will need to use the ```sorted``` and pass a ```lambda``` function through the ```key``` parameter. **Hint:** you should sort `unique_user_log_count_overall.items()` and `unique_user_log_count_us.items()`."
   ]
  },
  {
   "cell_type": "markdown",
   "metadata": {},
   "source": [
    "First, globally:"
   ]
  },
  {
   "cell_type": "code",
   "execution_count": 13,
   "metadata": {},
   "outputs": [
    {
     "data": {
      "text/plain": [
       "['bb116a9af763fa2f53139c1dfa851c760a667169',\n",
       " 'c7e0b7e873392815abee61a53c231a1d5866a659',\n",
       " '0ea5cc6ff0ca76782e6c0a81f070cae9cf0971d9',\n",
       " '17c1eed00cc46d9dfe62d95570d1b8e8846d5239',\n",
       " '005aa91c779e6fe84b49398793dbda670dd6c352']"
      ]
     },
     "execution_count": 13,
     "metadata": {},
     "output_type": "execute_result"
    }
   ],
   "source": [
    "sorted_users_overall = [tup[0] for tup in sorted(unique_user_log_count_overall.items(), key= lambda x: x[1], reverse= True)] # CHANGE ME: Fill in within the parenthesis to sort the dictionary `unique_user_log_count_overall` by the number of logs in the descending order\n",
    "sorted_users_overall[:5] # Do not change this. This will output the top 5users.\n",
    "\n",
    "#print(sorted_users_overall)"
   ]
  },
  {
   "cell_type": "markdown",
   "metadata": {},
   "source": [
    "Then for US only:"
   ]
  },
  {
   "cell_type": "code",
   "execution_count": 14,
   "metadata": {},
   "outputs": [
    {
     "data": {
      "text/plain": [
       "['c7e0b7e873392815abee61a53c231a1d5866a659',\n",
       " '1066a697903937dcb2bba46698b65c9067602b13',\n",
       " '44185055eece5d1bc7986d743d240a7633d968ff',\n",
       " '95cffc5948af183853735930299a0bc48c1cdc6c',\n",
       " '70d530b2e677aa82a680b36ba534dbabc884e010']"
      ]
     },
     "execution_count": 14,
     "metadata": {},
     "output_type": "execute_result"
    }
   ],
   "source": [
    "sorted_users_us = [tup[0] for tup in sorted(unique_user_log_count_us.items(), key= lambda x: x[1], reverse = True)] # CHANGE ME: Similar to above\n",
    "sorted_users_us[:5] # Do not change this. This will output the top 5 users.\n",
    "\n"
   ]
  },
  {
   "cell_type": "code",
   "execution_count": null,
   "metadata": {},
   "outputs": [],
   "source": []
  }
 ],
 "metadata": {
  "kernelspec": {
   "display_name": "Python 3",
   "language": "python",
   "name": "python3"
  },
  "language_info": {
   "codemirror_mode": {
    "name": "ipython",
    "version": 3
   },
   "file_extension": ".py",
   "mimetype": "text/x-python",
   "name": "python",
   "nbconvert_exporter": "python",
   "pygments_lexer": "ipython3",
   "version": "3.6.5"
  }
 },
 "nbformat": 4,
 "nbformat_minor": 2
}
