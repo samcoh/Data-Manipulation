{
 "cells": [
  {
   "cell_type": "markdown",
   "metadata": {},
   "source": [
    "# Homework 1 - Data Structures and Sorting\n",
    "\n",
    "## Due: Friday, Sep 21, 2018 at 11:59:00pm\n",
    "\n",
    "### Name:  Samantha Cohen \n",
    "### Uniqname: samcoh\n",
    "### People you worked with: Rhea\n",
    "\n",
    "### Submission instructions\n",
    "After completing this homework, you will turn in two files via Canvas ->  Assignments -> Homework 1:\n",
    "\n",
    "- Your Notebook, named ```si330-hw1-YOUR_UNIQUE_NAME.ipynb```\n",
    "- The HTML file, named ```si330-hw1-YOUR_UNIQUE_NAME.html```\n",
    "\n",
    "## Objectives\n",
    "After completing this homework assignment, you should know how to\n",
    "* use compound data structures\n",
    "* perform simple and complex sorting\n",
    "* use lambda functions\n",
    "\n",
    "In addition, this assignment will provide an opportunity to work with a large (100,000 row) data set.\n",
    "\n",
    "## Background\n",
    "\n",
    "Massive Open Online Courses (MOOCs) are a popular way for people to learn new skills.  The University of Michigan\n",
    "offers many different MOOCs, which are produced by faculty members and supported by the Office of Academic \n",
    "Innovation.\n",
    "\n",
    "MOOCs tend to be used by hundreds to hundreds of thousands of users.  These users leave \"digital exhaust\" when\n",
    "they work through the MOOC in the form of web server log entries.  We have obtained a small sample of these data\n",
    "files from Prof. Chris Brooks, who is a colleague here at UMSI.  The data files are de-identified: anything\n",
    "that could identify a person, such as their UMID or their IP address are \"hashed\" (encrypted).  Each line in the\n",
    "data file represents a \"page view\" by a user.  The schema for each line is:\n",
    "\n",
    "```umich_user_id, hashed_session_cookie_id, server_timestamp, hashed_ip, user_agent, url, initial_referrer_url, rowser_language, course_id, country_cd, region_cd, timezone, os, browser, key, value```\n",
    "\n",
    "Of note is the ```umich_user_id```, which identifies each user, and ```hashed_session_cookie_id``` which identifies a session.\n",
    "Sessions are important:  they represent a collection of pageviews between the time that a user logs in and,\n",
    "usually, when they log out.\n",
    "\n",
    "In the lab, we went through the motions of some manipulation of the MOOC log data.  For this assignment, you'll try to answer several real-world questions:\n",
    "\n",
    "1. How many different countries (based on ```country_cd```) are represented in the data file?\n",
    "2. What are the top 5 countries with the most number of page views?\n",
    "3. For people accessing the MOOC from the US, what is the average number of page views per session?\n",
    "4. What are the top 5 sessions in terms of their number of logs?\n",
    "\n",
    "In addition to the MOOC data file, you're also going to use a file called ```countrycodes.tsv``` to map\n",
    "2-digit country codes to the full name of the country.  Why?  Because not everyone knows that PF is \n",
    "\"French Polynesia\"."
   ]
  },
  {
   "cell_type": "markdown",
   "metadata": {},
   "source": [
    "The rest of the notebook contains specific steps that you need to follow and complete."
   ]
  },
  {
   "cell_type": "markdown",
   "metadata": {},
   "source": [
    "First, let's load up the ```csv``` library; we're going to need it to read the comma- and tab-separated \n",
    "values files."
   ]
  },
  {
   "cell_type": "code",
   "execution_count": 2,
   "metadata": {},
   "outputs": [],
   "source": [
    "import csv\n",
    "from collections import defaultdict"
   ]
  },
  {
   "cell_type": "markdown",
   "metadata": {},
   "source": [
    "## Part 1. Import the data\n",
    "\n",
    "You'll load the data from the two files ```mooc_small.csv``` and ```countrycodes.tsv``` into two separate \n",
    "data structures. \n",
    "\n",
    "### Part 1.1 Country codes\n",
    "\n",
    "Let's start with ```countrycodes.tsv```.  Remember, we're going to use that file to map from the \n",
    "2-digit country code to the country name (e.g. from \"CA\" to \"Canada\").  \n",
    "\n"
   ]
  },
  {
   "cell_type": "markdown",
   "metadata": {},
   "source": [
    "\n",
    " <font color=\"magenta\">Modify the next block of code so that it loads ```countrycodes.tsv``` into a data structure\n",
    "    that would allow you to efficiently look up the country name that corresponds to the 2-digit country code.</font>"
   ]
  },
  {
   "cell_type": "code",
   "execution_count": 3,
   "metadata": {},
   "outputs": [],
   "source": [
    "country_names = {} # CHANGE ME: Change \"None\" to the appropriate data structure\n",
    "\n",
    "with open(\"countrycodes.tsv\", \"r\") as csvfile:\n",
    "    reader = csv.DictReader(csvfile, delimiter = \"\\t\", quotechar = '\"')\n",
    "    for row in reader:\n",
    "        country_names[row[\"ISO ALPHA-2 Code\"]] = row[\"Country or Area Name\"]\n",
    "        #pass # CHANGE ME: Change this line to populate the data structure you created above with the data from the file\n",
    "#country_names   "
   ]
  },
  {
   "cell_type": "markdown",
   "metadata": {},
   "source": [
    "### Part 1.2 MOOC data\n",
    "\n",
    "Now load the MOOC log data into an appropriate data structure (start with the mooc_small.csv file, then remember to change to mooc_big.csv). For this file, you should store all the rows in a data structure."
   ]
  },
  {
   "cell_type": "markdown",
   "metadata": {},
   "source": [
    "\n",
    " <font color=\"magenta\">Modify the next block of code so that it loads the MOOC log data into a data structure \n",
    "   that will allow you to answer the three real-world questions.</font>"
   ]
  },
  {
   "cell_type": "code",
   "execution_count": 4,
   "metadata": {},
   "outputs": [],
   "source": [
    "mooc_data_file_name = \"mooc-small.csv\"\n",
    "\n",
    "mooc_data = [] # CHANGE ME: Change \"None\" to the appropriate data structure\n",
    "\n",
    "with open(mooc_data_file_name, \"r\") as csvfile:\n",
    "    reader = csv.DictReader(csvfile, delimiter = \",\", quotechar = '\"')\n",
    "    for row in reader:\n",
    "        mooc_data.append(row)\n",
    "        #pass; # CHANGE ME: Change this line to populate the data structure you created above with data from the file\n",
    "#mooc_data\n",
    "#print(mooc_data)"
   ]
  },
  {
   "cell_type": "markdown",
   "metadata": {},
   "source": [
    "## Part 2. Manipulating and interpreting the data to answer our questions\n",
    "\n",
    "### Part 2.1: Unique countries\n",
    "\n",
    "Now that we have our data loaded, we can start to answer the real-world questions.\n",
    "\n",
    "Recall that the first question\n",
    "is **\"How many different countries (based on `country_cd`) are represented in the data file?\"**\n",
    "\n",
    "To do this, you're going to have to figure out how many unique country codes there are in the MOOC log file. There are few different ways to do this, but you probably want to use either a ```set``` or a ```dict```."
   ]
  },
  {
   "cell_type": "markdown",
   "metadata": {},
   "source": [
    "<font color=\"magenta\">Modify the following code block so that the print statement at the end prints\n",
    "    the number of countries represented in the MOOC log file.</font>"
   ]
  },
  {
   "cell_type": "code",
   "execution_count": 5,
   "metadata": {},
   "outputs": [
    {
     "name": "stdout",
     "output_type": "stream",
     "text": [
      "There are 19 unique countries in the MOOC log data file.\n"
     ]
    }
   ],
   "source": [
    "countries = {} # CHANGE ME: Change \"None\" to an appropriate data structure\n",
    "\n",
    "for row in mooc_data:\n",
    "    if row[\"country_cd\"] not in countries: \n",
    "        countries[row[\"country_cd\"]] = []\n",
    "    countries[row[\"country_cd\"]].append(row)\n",
    "    #pass # CHANGE ME: Change this line to include code that will populate your data structure\n",
    "#print(countries)\n",
    "# Do not change the following line\n",
    "print(\"There are {0} unique countries in the MOOC log data file.\".format(len(countries)))"
   ]
  },
  {
   "cell_type": "markdown",
   "metadata": {},
   "source": [
    "### Part 2.2: Top 5 countries\n",
    "\n",
    "Next you want to find out the <b>top 5 countries with the most page views</b> (each row in the MOOC log file is counted as one page view). There are multiple ways to finish this. But here, you need to implement a composite data structure (a *dictionary of lists*) which stores, for each country, meta data from each log (specifically, the ```hashed_session_cookie_id```). This data structure will be used to answer the 3rd question later. Think about how you would populate this data structure.\n",
    "\n",
    "After that you will sort the data structure using the ```sorted()``` function. You will need to write down the code to provide the ```sorted()``` function with a `key` parameter using ```lambda```. This will specify what the data structure will be sorted by."
   ]
  },
  {
   "cell_type": "markdown",
   "metadata": {},
   "source": [
    "<font color=\"magenta\">Modify the following code block so that the print statement at the end prints\n",
    "    the top 5 of countries represented in the MOOC log file, and the corresponding number of users.</font>"
   ]
  },
  {
   "cell_type": "code",
   "execution_count": 10,
   "metadata": {},
   "outputs": [
    {
     "name": "stdout",
     "output_type": "stream",
     "text": [
      "United States of America : 44\n",
      "Canada : 10\n",
      "Germany : 8\n",
      "French Polynesia : 5\n",
      "Belarus : 5\n"
     ]
    }
   ],
   "source": [
    "country_user_data = {} # CHANGE ME: Change \"None\" to an appropriate data structure\n",
    "\n",
    "for row in mooc_data:\n",
    "    if row[\"country_cd\"] not in country_user_data:\n",
    "        country_user_data[row[\"country_cd\"]] = []\n",
    "    country_user_data[row[\"country_cd\"]].append(row[\"hashed_session_cookie_id\"])\n",
    "    # CHANGE ME: Include code that will populate your data structure\n",
    "#print(country_user_data) \n",
    "\n",
    "# CHANGE ME: Add a key parameter to the sorted() function to sort `country_user_data` by the number of users from that country.\n",
    "sorted_country_user_data = sorted(country_user_data.items(),key = lambda x: len(x[1]), reverse = True)\n",
    "\n",
    "#below is a different way to do it (Note: doesnt work for this question)\n",
    "\n",
    "#sorted_country_user_data = sorted(country_user_data, key = lambda x: len(country_user_data[x]), reverse = True) \n",
    "#print(sorted_country_user_data)\n",
    "\n",
    "#print statements to check work: \n",
    "\n",
    "#print(sorted_country_user_data)\n",
    "#print(sorted(country_user_data.items(), key = lambda x: len(x[1]), reverse = True) )\n",
    "\n",
    "#for x in sorted_country_user_data: \n",
    "    #print(country_names[x[0]], \":\",len(x[1]))\n",
    "\n",
    "    \n",
    "# Do not change the following lines of code. \n",
    "# This should output the top 5 countries, along with the number of users from each of those countries.\n",
    "#print(sorted_country_user_data)\n",
    "\n",
    "for i in range(5):\n",
    "    print(country_names[sorted_country_user_data[i][0]], ':', len(sorted_country_user_data[i][1]))\n",
    "\n",
    "\n",
    "    "
   ]
  },
  {
   "cell_type": "markdown",
   "metadata": {},
   "source": [
    "From this step on, you will be working with the ```country_user_data``` data structure."
   ]
  },
  {
   "cell_type": "markdown",
   "metadata": {},
   "source": [
    "### Part 2.3 Filter to US data\n",
    "\n",
    "Here, you will need to <b>filter the data so you only have entries from the US (i.e. where COUNTRY_CD is US)</b>. Then you can retrieve the number of logs for each session, i.e. which have the same ```hashed_session_cookie_id```.\n",
    "\n",
    "From the ```country_user_data``` data structure, you can retrieve the entries from US. Then, you will create a new data structure called `us_data` using a ```defaultdict```, \n",
    "which you will use to can count the number of logs (number of rows) in each unique session from the US (sessions are uniquely identified by ```hashed_session_cookie_id```).\n",
    "The number of logs will give you the number of pages a user has viewed in one session."
   ]
  },
  {
   "cell_type": "markdown",
   "metadata": {},
   "source": [
    "Modify the following code block so the data structure `us_data` contains counts of the number of logs for each session from the US."
   ]
  },
  {
   "cell_type": "code",
   "execution_count": 6,
   "metadata": {},
   "outputs": [],
   "source": [
    "us_data = defaultdict(int) # CHANGE ME: Change none to the appropriate data structure\n",
    "for row in country_user_data['US']:\n",
    "    us_data[row] += 1\n",
    "    #pass # CHANGE ME: Write your code here to store the number of log entries per session in us_data\n",
    "#print(us_data)"
   ]
  },
  {
   "cell_type": "markdown",
   "metadata": {},
   "source": [
    "### Part 2.4 Average number of pageviews per session\n",
    "\n",
    "Now, you need to calculate the <b>average number of pageviews per session</b> for users in the US. While the ```numpy``` package, which will be covered later in the semester, has a built-in method for calculating means, for now you will do this manuallly. You will iterate over the values, sum them up, and divide by the number of values. Use the ```sum``` and ```len``` methods."
   ]
  },
  {
   "cell_type": "markdown",
   "metadata": {},
   "source": [
    "<font color=\"magenta\">In the following block of code put in the formula for calculating the average.</font>"
   ]
  },
  {
   "cell_type": "code",
   "execution_count": 7,
   "metadata": {},
   "outputs": [
    {
     "name": "stdout",
     "output_type": "stream",
     "text": [
      "1.76\n"
     ]
    }
   ],
   "source": [
    "avg_page_views_per_session = sum(us_data.values())/ len(us_data)  # CHANGE ME: change this to count the average number of logs per session\n",
    "print(avg_page_views_per_session)"
   ]
  },
  {
   "cell_type": "markdown",
   "metadata": {},
   "source": [
    "### Part 2.5 Find top 5 sessions\n",
    "\n",
    "Finally, you want to <b>sort the sessions to retrieve the ones have maximum number of logs</b>. Implement a ```sorted``` function, pass the appropriate ```lambda``` function to the ```key``` parameter and store it into the data structure ```sorted_us_data```."
   ]
  },
  {
   "cell_type": "markdown",
   "metadata": {},
   "source": [
    "In the following block, write down the code for the `sorted` function. The `print` statement should output the top 5 `hashed_session_cookie_id` and the corresponding number of logs for that session."
   ]
  },
  {
   "cell_type": "code",
   "execution_count": 8,
   "metadata": {},
   "outputs": [
    {
     "name": "stdout",
     "output_type": "stream",
     "text": [
      "('d8fe83dbeba4af9b001d3ad8f8aa8940b40e06ce', 6)\n",
      "('9431b24e18b18ea6b5aea81920abd33fb9ce55ee', 4)\n",
      "('c13cb2cdb6e7ebbc4e1e434a29e449e221f3c5d3', 3)\n",
      "('e0f1598cc697187a9ab35f12562f7ad7ce2dcc2a', 3)\n",
      "('85bf1f93b06602d828147c5b2ffabb066e63c4b1', 3)\n"
     ]
    }
   ],
   "source": [
    "sorted_us_data = sorted(us_data.items(), key= lambda t: t[1], reverse = True)  # CHANGE ME: Change this line to include a sorted function.\n",
    "\n",
    "for i in range(5):\n",
    "    print(sorted_us_data[i]) #This will print out the top 5 sessions with their hashed_session_cookie_id and no. of log entries"
   ]
  },
  {
   "cell_type": "markdown",
   "metadata": {},
   "source": [
    "## Part 3 BONUS (up to 10 points)\n",
    "\n",
    "For BONUS points, re-write all the code from above (including any code we provided) without using *any* loops, **only** comprehensions.\n",
    "\n",
    "Leave your original code above, and **create new blocks below** containing your BONUS code for each section from Part 1 and Part 2."
   ]
  },
  {
   "cell_type": "code",
   "execution_count": 9,
   "metadata": {},
   "outputs": [],
   "source": [
    "## Write your BONUS code here"
   ]
  },
  {
   "cell_type": "markdown",
   "metadata": {},
   "source": [
    "First, let's load up the ```csv``` library; we're going to need it to read the comma- and tab-separated \n",
    "values files."
   ]
  },
  {
   "cell_type": "code",
   "execution_count": 10,
   "metadata": {},
   "outputs": [],
   "source": [
    "import csv\n",
    "from collections import defaultdict"
   ]
  },
  {
   "cell_type": "markdown",
   "metadata": {},
   "source": [
    "## Part 1. Import the data (BONUS)\n",
    "\n",
    "You'll load the data from the two files ```mooc_small.csv``` and ```countrycodes.tsv``` into two separate \n",
    "data structures. \n",
    "\n",
    "### Part 1.1 Country codes (BONUS) \n",
    "\n",
    "Let's start with ```countrycodes.tsv```.  Remember, we're going to use that file to map from the \n",
    "2-digit country code to the country name (e.g. from \"CA\" to \"Canada\").  \n",
    "\n"
   ]
  },
  {
   "cell_type": "code",
   "execution_count": 11,
   "metadata": {},
   "outputs": [],
   "source": [
    "country_names = {} # CHANGE ME: Change \"None\" to the appropriate data structure\n",
    "\n",
    "with open(\"countrycodes.tsv\", \"r\") as csvfile:\n",
    "    reader = csv.DictReader(csvfile, delimiter = \"\\t\", quotechar = '\"')\n",
    "    country_names= {row[\"ISO ALPHA-2 Code\"]:row[\"Country or Area Name\"] for row in reader}\n",
    "    # CHANGE ME: Change this line to populate the data structure you created above with the data from the file\n",
    "#country_names\n",
    "    "
   ]
  },
  {
   "cell_type": "markdown",
   "metadata": {},
   "source": [
    "### Part 1.2 MOOC data (BONUS)\n",
    "\n",
    "Now load the MOOC log data into an appropriate data structure (start with the mooc_small.csv file, then remember to change to mooc_big.csv). For this file, you should store all the rows in a data structure."
   ]
  },
  {
   "cell_type": "markdown",
   "metadata": {},
   "source": [
    "\n",
    " <font color=\"magenta\">Modify the next block of code so that it loads the MOOC log data into a data structure \n",
    "   that will allow you to answer the three real-world questions.</font>"
   ]
  },
  {
   "cell_type": "code",
   "execution_count": 12,
   "metadata": {},
   "outputs": [],
   "source": [
    "mooc_data_file_name = \"mooc-small.csv\"\n",
    "\n",
    "with open(mooc_data_file_name, \"r\") as csvfile:\n",
    "    reader = csv.DictReader(csvfile, delimiter = \",\", quotechar = '\"')\n",
    "    mooc_data = [row for row in reader]\n",
    "    #pass; # CHANGE ME: Change this line to populate the data structure you created above with data from the file\n"
   ]
  },
  {
   "cell_type": "markdown",
   "metadata": {},
   "source": [
    "## Part 2. Manipulating and interpreting the data to answer our questions (BONUS)\n",
    "\n",
    "### Part 2.1: Unique countries (BONUS)\n",
    "\n",
    "Now that we have our data loaded, we can start to answer the real-world questions.\n",
    "\n",
    "Recall that the first question\n",
    "is **\"How many different countries (based on `country_cd`) are represented in the data file?\"**\n",
    "\n",
    "To do this, you're going to have to figure out how many unique country codes there are in the MOOC log file. There are few different ways to do this, but you probably want to use either a ```set``` or a ```dict```."
   ]
  },
  {
   "cell_type": "markdown",
   "metadata": {},
   "source": [
    "<font color=\"magenta\">Modify the following code block so that the print statement at the end prints\n",
    "    the number of countries represented in the MOOC log file.</font>"
   ]
  },
  {
   "cell_type": "code",
   "execution_count": 13,
   "metadata": {},
   "outputs": [
    {
     "name": "stdout",
     "output_type": "stream",
     "text": [
      "There are 19 unique countries in the MOOC log data file.\n"
     ]
    }
   ],
   "source": [
    "countries = {} # CHANGE ME: Change \"None\" to an appropriate data structure\n",
    "countries = {row[\"country_cd\"]: [] for row in mooc_data}\n",
    "[countries[row[\"country_cd\"]].append(row) for row in mooc_data]\n",
    "#pass # CHANGE ME: Change this line to include code that will populate your data structure\n",
    "#print(countries)\n",
    "# Do not change the following line\n",
    "print(\"There are {0} unique countries in the MOOC log data file.\".format(len(countries)))"
   ]
  },
  {
   "cell_type": "markdown",
   "metadata": {},
   "source": [
    "### Part 2.2: Top 5 countries (BONUS)\n",
    "\n",
    "Next you want to find out the <b>top 5 countries with the most page views</b> (each row in the MOOC log file is counted as one page view). There are multiple ways to finish this. But here, you need to implement a composite data structure (a *dictionary of lists*) which stores, for each country, meta data from each log (specifically, the ```hashed_session_cookie_id```). This data structure will be used to answer the 3rd question later. Think about how you would populate this data structure.\n",
    "\n",
    "After that you will sort the data structure using the ```sorted()``` function. You will need to write down the code to provide the ```sorted()``` function with a `key` parameter using ```lambda```. This will specify what the data structure will be sorted by."
   ]
  },
  {
   "cell_type": "markdown",
   "metadata": {},
   "source": [
    "<font color=\"magenta\">Modify the following code block so that the print statement at the end prints\n",
    "    the top 5 of countries represented in the MOOC log file, and the corresponding number of users.</font>"
   ]
  },
  {
   "cell_type": "code",
   "execution_count": 14,
   "metadata": {},
   "outputs": [
    {
     "name": "stdout",
     "output_type": "stream",
     "text": [
      "United States of America : 44\n",
      "Canada : 10\n",
      "Germany : 8\n",
      "French Polynesia : 5\n",
      "Belarus : 5\n"
     ]
    }
   ],
   "source": [
    "country_user_data = {row[\"country_cd\"]: [] for row in mooc_data} # CHANGE ME: Change \"None\" to an appropriate data structure\n",
    "[country_user_data[row[\"country_cd\"]].append(row[\"hashed_session_cookie_id\"]) for row in mooc_data]\n",
    "\n",
    "sorted_country_user_data = sorted(country_user_data.items(),key = lambda x: len(x[1]), reverse = True)\n",
    "empty_ls=[print(country_names[sorted_country_user_data[i][0]], ':', len(sorted_country_user_data[i][1])) for i in range(5)]\n",
    "#for i in range(5):\n",
    "    #print(country_names[sorted_country_user_data[i][0]], ':', len(sorted_country_user_data[i][1]))\n"
   ]
  },
  {
   "cell_type": "markdown",
   "metadata": {},
   "source": [
    "### Part 2.3 Filter to US data (BONUS)\n",
    "​\n",
    "Here, you will need to <b>filter the data so you only have entries from the US (i.e. where COUNTRY_CD is US)</b>. Then you can retrieve the number of logs for each session, i.e. which have the same ```hashed_session_cookie_id```.\n",
    "​\n",
    "From the ```country_user_data``` data structure, you can retrieve the entries from US. Then, you will create a new data structure called `us_data` using a ```defaultdict```, \n",
    "which you will use to can count the number of logs (number of rows) in each unique session from the US (sessions are uniquely identified by ```hashed_session_cookie_id```).\n",
    "The number of logs will give you the number of pages a user has viewed in one session."
   ]
  },
  {
   "cell_type": "markdown",
   "metadata": {},
   "source": [
    "Modify the following code block so the data structure `us_data` contains counts of the number of logs for each session from the US."
   ]
  },
  {
   "cell_type": "code",
   "execution_count": 15,
   "metadata": {},
   "outputs": [],
   "source": [
    "us_data = defaultdict(int,{row: len([row2 for row2 in country_user_data['US'] if row == row2]) for row in country_user_data['US']}) # CHANGE ME: Change none to the appropriate data structure \n",
    "#print(us_data)\n"
   ]
  },
  {
   "cell_type": "markdown",
   "metadata": {},
   "source": [
    "### Part 2.4 Average number of pageviews per session (BONUS)\n",
    "\n",
    "Now, you need to calculate the <b>average number of pageviews per session</b> for users in the US. While the ```numpy``` package, which will be covered later in the semester, has a built-in method for calculating means, for now you will do this manuallly. You will iterate over the values, sum them up, and divide by the number of values. Use the ```sum``` and ```len``` methods."
   ]
  },
  {
   "cell_type": "markdown",
   "metadata": {},
   "source": [
    "<font color=\"magenta\">In the following block of code put in the formula for calculating the average.</font>"
   ]
  },
  {
   "cell_type": "code",
   "execution_count": 16,
   "metadata": {},
   "outputs": [
    {
     "name": "stdout",
     "output_type": "stream",
     "text": [
      "1.76\n"
     ]
    }
   ],
   "source": [
    "avg_page_views_per_session = sum(us_data.values())/ len(us_data)  # CHANGE ME: change this to count the average number of logs per session\n",
    "print(avg_page_views_per_session)"
   ]
  },
  {
   "cell_type": "markdown",
   "metadata": {},
   "source": [
    "### Part 2.5 Find top 5 sessions (BONUS)\n",
    "\n",
    "Finally, you want to <b>sort the sessions to retrieve the ones have maximum number of logs</b>. Implement a ```sorted``` function, pass the appropriate ```lambda``` function to the ```key``` parameter and store it into the data structure ```sorted_us_data```."
   ]
  },
  {
   "cell_type": "markdown",
   "metadata": {},
   "source": [
    "In the following block, write down the code for the `sorted` function. The `print` statement should output the top 5 `hashed_session_cookie_id` and the corresponding number of logs for that session."
   ]
  },
  {
   "cell_type": "code",
   "execution_count": 17,
   "metadata": {},
   "outputs": [
    {
     "name": "stdout",
     "output_type": "stream",
     "text": [
      "('d8fe83dbeba4af9b001d3ad8f8aa8940b40e06ce', 6)\n",
      "('9431b24e18b18ea6b5aea81920abd33fb9ce55ee', 4)\n",
      "('c13cb2cdb6e7ebbc4e1e434a29e449e221f3c5d3', 3)\n",
      "('e0f1598cc697187a9ab35f12562f7ad7ce2dcc2a', 3)\n",
      "('85bf1f93b06602d828147c5b2ffabb066e63c4b1', 3)\n"
     ]
    }
   ],
   "source": [
    "sorted_us_data = sorted(us_data.items(), key= lambda t: t[1], reverse = True)  # CHANGE ME: Change this line to include a sorted function.\n",
    "empty_l= [print(sorted_us_data[i]) for i in range(5)]\n",
    "#for i in range(5):\n",
    "    #print(sorted_us_data[i]) #This will print out the top 5 sessions with their hashed_session_cookie_id and no. of log entries"
   ]
  },
  {
   "cell_type": "code",
   "execution_count": null,
   "metadata": {},
   "outputs": [],
   "source": []
  }
 ],
 "metadata": {
  "kernelspec": {
   "display_name": "Python 3",
   "language": "python",
   "name": "python3"
  },
  "language_info": {
   "codemirror_mode": {
    "name": "ipython",
    "version": 3
   },
   "file_extension": ".py",
   "mimetype": "text/x-python",
   "name": "python",
   "nbconvert_exporter": "python",
   "pygments_lexer": "ipython3",
   "version": "3.6.5"
  }
 },
 "nbformat": 4,
 "nbformat_minor": 2
}
