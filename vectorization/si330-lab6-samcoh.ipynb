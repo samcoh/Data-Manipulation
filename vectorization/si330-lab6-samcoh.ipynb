{
 "cells": [
  {
   "cell_type": "markdown",
   "metadata": {},
   "source": [
    "# Lab 6 - Vectorization\n",
    "\n",
    "\n",
    "## Due: Thursday, Oct 18, 2018, 11:59:00pm\n",
    "\n",
    "### Submission instructions\n",
    "After completing this homework, you will turn in two files via Canvas ->  Assignments -> Lab 6:\n",
    "Your Notebook, named si330-lab6-YOUR_UNIQUE_NAME.ipynb and\n",
    "the HTML file, named si330-lab6-YOUR_UNIQUE_NAME.html\n",
    "\n",
    "### Name:  Samantha Cohen \n",
    "### Uniqname: samcoh\n",
    "### People you worked with: I worked by myself\n",
    "\n",
    "\n",
    "## Objectives\n",
    "After completing this Lab, you should know how to use numpy arrays to:\n",
    "* Perform basic vectiorized arithmetic and boolean operations on an array\n",
    "* Filter arrays using vectorized operations"
   ]
  },
  {
   "cell_type": "markdown",
   "metadata": {},
   "source": [
    "## Part 0: Setup"
   ]
  },
  {
   "cell_type": "code",
   "execution_count": 1,
   "metadata": {},
   "outputs": [],
   "source": [
    "import numpy as np"
   ]
  },
  {
   "cell_type": "markdown",
   "metadata": {},
   "source": [
    "## Part 1"
   ]
  },
  {
   "cell_type": "markdown",
   "metadata": {},
   "source": [
    "### Q1.1 - add 3 to every element of list `start_list1` (comprehension)\n",
    "\n",
    "Convert the code below to use a **comprehension** instead of a for loop.\n",
    "The result should be a python list."
   ]
  },
  {
   "cell_type": "code",
   "execution_count": 2,
   "metadata": {},
   "outputs": [
    {
     "data": {
      "text/plain": [
       "[8, 5, 4, 11, 7, 9]"
      ]
     },
     "execution_count": 2,
     "metadata": {},
     "output_type": "execute_result"
    }
   ],
   "source": [
    "start_list1 = [5, 2, 1, 8, 4, 6]\n",
    "\n",
    "#result = []\n",
    "#for element in start_list1:\n",
    "    #result.append(element + 3)\n",
    "#print(result)\n",
    "result = [element + 3 for element in start_list1]\n",
    "result"
   ]
  },
  {
   "cell_type": "markdown",
   "metadata": {},
   "source": [
    "### Q1.2 - add 3 to every element of list `start_list1` (vectorization)\n",
    "\n",
    "Convert the code below to use **vectorization** instead of a for loop.\n",
    "The result should be a numpy array."
   ]
  },
  {
   "cell_type": "code",
   "execution_count": 3,
   "metadata": {},
   "outputs": [
    {
     "data": {
      "text/plain": [
       "array([ 8,  5,  4, 11,  7,  9])"
      ]
     },
     "execution_count": 3,
     "metadata": {},
     "output_type": "execute_result"
    }
   ],
   "source": [
    "start_list1 = [5, 2, 1, 8, 4, 6]\n",
    "\n",
    "# result = []\n",
    "# for element in start_list1:\n",
    "#     result.append(element + 3)\n",
    "# print(result)\n",
    "result = np.array(start_list1)\n",
    "result2=result + 3 \n",
    "result2\n"
   ]
  },
  {
   "cell_type": "markdown",
   "metadata": {},
   "source": [
    "### Q2.1 - multiply every element of list `start_List2` by 2 (for loop)\n",
    "\n",
    "Convert the code below to use **a for loop** instead of a comprehension.\n",
    "The result should be a python list."
   ]
  },
  {
   "cell_type": "code",
   "execution_count": 4,
   "metadata": {},
   "outputs": [
    {
     "data": {
      "text/plain": [
       "[4, 8, 14, 4, 12, 2]"
      ]
     },
     "execution_count": 4,
     "metadata": {},
     "output_type": "execute_result"
    }
   ],
   "source": [
    "start_list2 = [2, 4, 7, 2, 6, 1]\n",
    "\n",
    "#print([element * 2 for element in start_list2])\n",
    "result = [] \n",
    "for element in start_list2: \n",
    "    result.append(element * 2)\n",
    "result\n",
    "    "
   ]
  },
  {
   "cell_type": "markdown",
   "metadata": {},
   "source": [
    "### Q2.2 - multiply every element of list `start_List2` by 2 (vectorization)\n",
    "\n",
    "Convert the code below to use **vectorization** instead of a comprehension.\n",
    "The result should be a numpy array."
   ]
  },
  {
   "cell_type": "code",
   "execution_count": 5,
   "metadata": {},
   "outputs": [
    {
     "data": {
      "text/plain": [
       "array([ 4,  8, 14,  4, 12,  2])"
      ]
     },
     "execution_count": 5,
     "metadata": {},
     "output_type": "execute_result"
    }
   ],
   "source": [
    "start_list2 = [2, 4, 7, 2, 6, 1]\n",
    "\n",
    "#print([element * 2 for element in start_list2])\n",
    "result = np.array(start_list2) \n",
    "result2 =result * 2 \n",
    "result2"
   ]
  },
  {
   "cell_type": "markdown",
   "metadata": {},
   "source": [
    "### Q3.1 - raise every element of list `start_list3` to the power of 2 (for loop)\n",
    "\n",
    "Convert the code below to use **a for loop** instead of a comprehension.\n",
    "The result should be a python list."
   ]
  },
  {
   "cell_type": "code",
   "execution_count": 6,
   "metadata": {},
   "outputs": [
    {
     "data": {
      "text/plain": [
       "[1, 4, 9, 16]"
      ]
     },
     "execution_count": 6,
     "metadata": {},
     "output_type": "execute_result"
    }
   ],
   "source": [
    "start_list3 = [1, 2, 3, 4]\n",
    "\n",
    "#print([element * element for element in start_list3])\n",
    "result =[] \n",
    "for element in start_list3: \n",
    "    result.append(element *element)\n",
    "result\n",
    "    "
   ]
  },
  {
   "cell_type": "markdown",
   "metadata": {},
   "source": [
    "### Q3.2 - raise every element of list `start_list3` to the power of 2 (vectorization)\n",
    "\n",
    "Convert the code below to use **vectorization** instead of a comprehension.\n",
    "The result should be a numpy array."
   ]
  },
  {
   "cell_type": "code",
   "execution_count": 7,
   "metadata": {},
   "outputs": [
    {
     "data": {
      "text/plain": [
       "array([ 1,  4,  9, 16])"
      ]
     },
     "execution_count": 7,
     "metadata": {},
     "output_type": "execute_result"
    }
   ],
   "source": [
    "start_list3 = [1, 2, 3, 4]\n",
    "\n",
    "#print([element * element for element in start_list3])\n",
    "result = np.array(start_list3)\n",
    "result2 = result * result\n",
    "result2"
   ]
  },
  {
   "cell_type": "markdown",
   "metadata": {},
   "source": [
    "### Q4.1 - filter the list `start_list4` so that every element is > 5 (comprehension)\n",
    "\n",
    "Convert the code below to use **a comprehension** instead of a for loop.\n",
    "The result should be a python list."
   ]
  },
  {
   "cell_type": "code",
   "execution_count": 8,
   "metadata": {},
   "outputs": [
    {
     "name": "stdout",
     "output_type": "stream",
     "text": [
      "[25, 7, 13]\n"
     ]
    }
   ],
   "source": [
    "start_list4 = [1, 25, 7, 13, 4]\n",
    "\n",
    "# result = []\n",
    "# for element in start_list4:\n",
    "#     if element > 5:\n",
    "#         result.append(element)\n",
    "# print(result)\n",
    "result = [element for element in start_list4 if element > 5]\n",
    "print(result)"
   ]
  },
  {
   "cell_type": "markdown",
   "metadata": {},
   "source": [
    "### Q4.2 - filter the list `start_list4` so that every element is > 5 (vectorization)\n",
    "\n",
    "Convert the code below to use **vectorization** instead of a for loop.\n",
    "The result should be a numpy array."
   ]
  },
  {
   "cell_type": "code",
   "execution_count": 9,
   "metadata": {},
   "outputs": [
    {
     "data": {
      "text/plain": [
       "array([25,  7, 13])"
      ]
     },
     "execution_count": 9,
     "metadata": {},
     "output_type": "execute_result"
    }
   ],
   "source": [
    "start_list4 = [1, 25, 7, 13, 4]\n",
    "\n",
    "# result = []\n",
    "# for element in start_list4:\n",
    "#     if element > 5:\n",
    "#         result.append(element)\n",
    "# print(result)\n",
    "result = np.array(start_list4)\n",
    "result2=result[result > 5]\n",
    "result2"
   ]
  },
  {
   "cell_type": "markdown",
   "metadata": {},
   "source": [
    "### Q5 - filter the list `start_list5` so that every element is > 2 and < 7 (vectorization)\n",
    "\n",
    "Convert the code below to use **vectorization** instead of a comprehension.\n",
    "The result should be a numpy array."
   ]
  },
  {
   "cell_type": "code",
   "execution_count": 10,
   "metadata": {},
   "outputs": [
    {
     "data": {
      "text/plain": [
       "array([5, 4, 6])"
      ]
     },
     "execution_count": 10,
     "metadata": {},
     "output_type": "execute_result"
    }
   ],
   "source": [
    "start_list5 = [5, 2, 1, 8, 4, 6]\n",
    "\n",
    "#print([element for element in start_list5 if 2 < element < 7])\n",
    "result = np.array(start_list5)\n",
    "result2=result[(2<result)&(result < 7)]\n",
    "\n",
    "result2"
   ]
  },
  {
   "cell_type": "markdown",
   "metadata": {},
   "source": [
    "### Q6.1 - add the corresponding elements of two lists, `start_list6a` and `start_list6b` (vectorization)\n",
    "\n",
    "Convert the code below to use **vectorization** instead of a for loop.\n",
    "The result should be a numpy array."
   ]
  },
  {
   "cell_type": "code",
   "execution_count": 11,
   "metadata": {},
   "outputs": [
    {
     "data": {
      "text/plain": [
       "array([ 6,  4,  4, 12,  9])"
      ]
     },
     "execution_count": 11,
     "metadata": {},
     "output_type": "execute_result"
    }
   ],
   "source": [
    "start_list6a = [5, 2, 1, 8, 4]\n",
    "start_list6b = [1, 2, 3, 4, 5]\n",
    "\n",
    "# result = []\n",
    "# for i in range(len(start_list6a)):\n",
    "#     result.append(start_list6a[i] + start_list6b[i])\n",
    "# print(result)\n",
    "\n",
    "result1 = np.array(start_list6a)\n",
    "result2= np.array(start_list6b)\n",
    "result3 =result1+result2\n",
    "result3"
   ]
  },
  {
   "cell_type": "markdown",
   "metadata": {},
   "source": [
    "## Part 2: BONUS"
   ]
  },
  {
   "cell_type": "markdown",
   "metadata": {},
   "source": [
    "### Q6.2 (Bonus) - add the corresponding elements of two lists, `start_list6a` and `start_list6b` (comprehension)\n",
    "\n",
    "Convert the code below to use **a single comprehension** instead of a for loop.\n",
    "The result should be a python list."
   ]
  },
  {
   "cell_type": "code",
   "execution_count": 12,
   "metadata": {},
   "outputs": [
    {
     "name": "stdout",
     "output_type": "stream",
     "text": [
      "[6, 4, 4, 12, 9]\n"
     ]
    }
   ],
   "source": [
    "start_list6a = [5, 2, 1, 8, 4]\n",
    "start_list6b = [1, 2, 3, 4, 5]\n",
    "\n",
    "# result = []\n",
    "# for i in range(len(start_list6a)):\n",
    "#     result.append(start_list6a[i] + start_list6b[i])\n",
    "# print(result)\n",
    "\n",
    "result = [start_list6a[i] + start_list6b[i] for i in range(len(start_list6a))]\n",
    "print(result)"
   ]
  },
  {
   "cell_type": "markdown",
   "metadata": {},
   "source": [
    "### Q7 (Bonus) - filter the list `start_list7` so that every element is divisible by 2\n",
    "\n",
    "Write the code below using **vectorization**. The result should be a numpy array."
   ]
  },
  {
   "cell_type": "code",
   "execution_count": 13,
   "metadata": {},
   "outputs": [
    {
     "data": {
      "text/plain": [
       "array([2, 8, 4])"
      ]
     },
     "execution_count": 13,
     "metadata": {},
     "output_type": "execute_result"
    }
   ],
   "source": [
    "start_list7 = np.array([5, 2, 1, 8, 4])\n",
    "\n",
    "# INSERT CODE HERE...\n",
    "result = start_list7[start_list7%2 ==0]\n",
    "result"
   ]
  },
  {
   "cell_type": "markdown",
   "metadata": {},
   "source": [
    "### Q8 (Bonus 2) - filter the list `start_list8` to contain only elements that are greater than or equal to their corresponding element (same index) in list `minimum` AND less than or equal to their corresponding element in list `maximum`.\n",
    "\n",
    "Write the code below using **vectorization**. The result should be a numpy array."
   ]
  },
  {
   "cell_type": "code",
   "execution_count": 14,
   "metadata": {},
   "outputs": [
    {
     "data": {
      "text/plain": [
       "array([3, 6, 3, 5])"
      ]
     },
     "execution_count": 14,
     "metadata": {},
     "output_type": "execute_result"
    }
   ],
   "source": [
    "start_list8 = np.array([3, 6, 6, 2, 3, 5])\n",
    "minimum = np.array([0, 7, 2, 5, 3, 4])\n",
    "maximum = np.array([4, 9, 6, 10, 7, 6])\n",
    "\n",
    "# INSERT CODE HERE...\n",
    "result =start_list8[(start_list8 >= minimum )& (start_list8 <= maximum)]\n",
    "result"
   ]
  },
  {
   "cell_type": "code",
   "execution_count": null,
   "metadata": {},
   "outputs": [],
   "source": []
  }
 ],
 "metadata": {
  "kernelspec": {
   "display_name": "Python 3",
   "language": "python",
   "name": "python3"
  },
  "language_info": {
   "codemirror_mode": {
    "name": "ipython",
    "version": 3
   },
   "file_extension": ".py",
   "mimetype": "text/x-python",
   "name": "python",
   "nbconvert_exporter": "python",
   "pygments_lexer": "ipython3",
   "version": "3.6.5"
  }
 },
 "nbformat": 4,
 "nbformat_minor": 2
}
