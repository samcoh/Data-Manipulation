{
 "cells": [
  {
   "cell_type": "markdown",
   "metadata": {},
   "source": [
    "# SI 330 - Lab 10: Taking a Step Back\n",
    "\n",
    "## Submission Instructions:\n",
    "Please turn in this Jupyter notebook file (both .ipynb and .html formats) on Canvas.\n",
    "\n",
    "### Name:  Samantha Cohen\n",
    "### Uniqname: samcoh\n",
    "### People you worked with: Emil, Rhea, and Will \n",
    "\n",
    "## Objectives:\n",
    "\n",
    "* Practice translating between data manipulation frameworks\n",
    "\n",
    "In each question in this lab, we will give you code in one framework, and you will write it out in another framework."
   ]
  },
  {
   "cell_type": "markdown",
   "metadata": {},
   "source": [
    "## Part 0: Setup"
   ]
  },
  {
   "cell_type": "code",
   "execution_count": 1,
   "metadata": {},
   "outputs": [],
   "source": [
    "import sqlite3 as sqlite\n",
    "import numpy as np\n",
    "import pandas as pd\n",
    "from collections import defaultdict"
   ]
  },
  {
   "cell_type": "markdown",
   "metadata": {},
   "source": [
    "### Part 0.1: SQLite Setup"
   ]
  },
  {
   "cell_type": "markdown",
   "metadata": {},
   "source": [
    "Way back in HW4, we used an SQLite database called `chinook.db`. That database contains the following tables:\n",
    "\n",
    "- `artists`: Musical artists, each with an artist id and name.\n",
    "- `albums`: Musical albums. Each album belongs to one artist. However, one artist may have multiple albums.\n",
    "- `tracks`: Songs. Each track belongs to one album.\n",
    "- `invoices` and `invoice_items`: Purchase invoices. Each invoice represents a single purchase, associated with one or more invoice items. Each invoice item represents the purchase of a single track, the dollar amount paid, and the quantity.\n",
    "- `employees`: Employees, each with an employee id, last name, first name, etc. It also has a field named ReportsTo to specify who reports to whom.\n",
    "- `customers`: Customers.\n",
    "- `media_types`: Media types, such as MPEG audio file, ACC audio file, etc.\n",
    "- `genres`: Music types such as rock, jazz, metal, etc.\n",
    "- `playlists` and `playlist_track`: Musical playlists. Each playlist contains a list of tracks. Each track may belong to multiple playlists. The relationship between the playlists table and tracks table is many-to-many. The playlist_track table is used to reflect this relationship.\n",
    " "
   ]
  },
  {
   "cell_type": "markdown",
   "metadata": {},
   "source": [
    "A schematic view of this database is below:\n",
    "    \n",
    "![The chinook database](chinook.png)"
   ]
  },
  {
   "cell_type": "markdown",
   "metadata": {},
   "source": [
    "Now let's connect to the database:"
   ]
  },
  {
   "cell_type": "code",
   "execution_count": 2,
   "metadata": {},
   "outputs": [],
   "source": [
    "con = sqlite.connect('chinook.db')\n",
    "con.row_factory = sqlite.Row\n",
    "cur = con.cursor()"
   ]
  },
  {
   "cell_type": "markdown",
   "metadata": {},
   "source": [
    "Now that we're connected, we can print out the contents of a table:"
   ]
  },
  {
   "cell_type": "code",
   "execution_count": 3,
   "metadata": {},
   "outputs": [
    {
     "data": {
      "text/plain": [
       "[{'MediaTypeId': 1, 'Name': 'MPEG audio file'},\n",
       " {'MediaTypeId': 2, 'Name': 'Protected AAC audio file'},\n",
       " {'MediaTypeId': 3, 'Name': 'Protected MPEG-4 video file'},\n",
       " {'MediaTypeId': 4, 'Name': 'Purchased AAC audio file'},\n",
       " {'MediaTypeId': 5, 'Name': 'AAC audio file'}]"
      ]
     },
     "execution_count": 3,
     "metadata": {},
     "output_type": "execute_result"
    }
   ],
   "source": [
    "cur.execute(\"SELECT * FROM media_types\")\n",
    "[dict(row) for row in cur.fetchall()]"
   ]
  },
  {
   "cell_type": "markdown",
   "metadata": {},
   "source": [
    "### Part 0.2: List-of-dictionaries setup"
   ]
  },
  {
   "cell_type": "markdown",
   "metadata": {},
   "source": [
    "Let's translate all the tables from the database into lists of dictionaries so that we can write code in list-of-dictionaries style.\n",
    "\n",
    "For every table in the database, we'll create a variable with the suffix `_lod` in list-of-dictionaries format representing that table. For example, for `media_types`:"
   ]
  },
  {
   "cell_type": "code",
   "execution_count": 4,
   "metadata": {},
   "outputs": [
    {
     "data": {
      "text/plain": [
       "[{'MediaTypeId': 1, 'Name': 'MPEG audio file'},\n",
       " {'MediaTypeId': 2, 'Name': 'Protected AAC audio file'},\n",
       " {'MediaTypeId': 3, 'Name': 'Protected MPEG-4 video file'},\n",
       " {'MediaTypeId': 4, 'Name': 'Purchased AAC audio file'},\n",
       " {'MediaTypeId': 5, 'Name': 'AAC audio file'}]"
      ]
     },
     "execution_count": 4,
     "metadata": {},
     "output_type": "execute_result"
    }
   ],
   "source": [
    "cur.execute(\"SELECT * FROM media_types\")\n",
    "media_types_lod = [dict(row) for row in cur.fetchall()]\n",
    "\n",
    "media_types_lod"
   ]
  },
  {
   "cell_type": "markdown",
   "metadata": {},
   "source": [
    "Now the rest of them:"
   ]
  },
  {
   "cell_type": "code",
   "execution_count": 5,
   "metadata": {},
   "outputs": [],
   "source": [
    "cur.execute(\"SELECT * FROM artists\")\n",
    "artists_lod = [dict(row) for row in cur.fetchall()]\n",
    "\n",
    "cur.execute(\"SELECT * FROM albums\")\n",
    "albums_lod = [dict(row) for row in cur.fetchall()]\n",
    "\n",
    "cur.execute(\"SELECT * FROM tracks\")\n",
    "tracks_lod = [dict(row) for row in cur.fetchall()]\n",
    "\n",
    "cur.execute(\"SELECT * FROM invoices\")\n",
    "invoices_lod = [dict(row) for row in cur.fetchall()]\n",
    "\n",
    "cur.execute(\"SELECT * FROM employees\")\n",
    "employees_lod = [dict(row) for row in cur.fetchall()]\n",
    "\n",
    "cur.execute(\"SELECT * FROM customers\")\n",
    "customers_lod = [dict(row) for row in cur.fetchall()]\n",
    "\n",
    "cur.execute(\"SELECT * FROM genres\")\n",
    "genres_lod = [dict(row) for row in cur.fetchall()]\n",
    "\n",
    "cur.execute(\"SELECT * FROM playlists\")\n",
    "playlists_lod = [dict(row) for row in cur.fetchall()]"
   ]
  },
  {
   "cell_type": "markdown",
   "metadata": {},
   "source": [
    "### Part 0.3: Pandas setup"
   ]
  },
  {
   "cell_type": "markdown",
   "metadata": {},
   "source": [
    "Let's translate all the tables from lists of dictionaries into pandas dataframes so that we can write code in pandas style.\n",
    "\n",
    "For every table, we'll create a variable with the suffix `_df` in pandas data frame format representing that table. For example, for `media_types`:"
   ]
  },
  {
   "cell_type": "code",
   "execution_count": 6,
   "metadata": {},
   "outputs": [
    {
     "data": {
      "text/html": [
       "<div>\n",
       "<style scoped>\n",
       "    .dataframe tbody tr th:only-of-type {\n",
       "        vertical-align: middle;\n",
       "    }\n",
       "\n",
       "    .dataframe tbody tr th {\n",
       "        vertical-align: top;\n",
       "    }\n",
       "\n",
       "    .dataframe thead th {\n",
       "        text-align: right;\n",
       "    }\n",
       "</style>\n",
       "<table border=\"1\" class=\"dataframe\">\n",
       "  <thead>\n",
       "    <tr style=\"text-align: right;\">\n",
       "      <th></th>\n",
       "      <th>MediaTypeId</th>\n",
       "      <th>Name</th>\n",
       "    </tr>\n",
       "  </thead>\n",
       "  <tbody>\n",
       "    <tr>\n",
       "      <th>0</th>\n",
       "      <td>1</td>\n",
       "      <td>MPEG audio file</td>\n",
       "    </tr>\n",
       "    <tr>\n",
       "      <th>1</th>\n",
       "      <td>2</td>\n",
       "      <td>Protected AAC audio file</td>\n",
       "    </tr>\n",
       "    <tr>\n",
       "      <th>2</th>\n",
       "      <td>3</td>\n",
       "      <td>Protected MPEG-4 video file</td>\n",
       "    </tr>\n",
       "    <tr>\n",
       "      <th>3</th>\n",
       "      <td>4</td>\n",
       "      <td>Purchased AAC audio file</td>\n",
       "    </tr>\n",
       "    <tr>\n",
       "      <th>4</th>\n",
       "      <td>5</td>\n",
       "      <td>AAC audio file</td>\n",
       "    </tr>\n",
       "  </tbody>\n",
       "</table>\n",
       "</div>"
      ],
      "text/plain": [
       "   MediaTypeId                         Name\n",
       "0            1              MPEG audio file\n",
       "1            2     Protected AAC audio file\n",
       "2            3  Protected MPEG-4 video file\n",
       "3            4     Purchased AAC audio file\n",
       "4            5               AAC audio file"
      ]
     },
     "execution_count": 6,
     "metadata": {},
     "output_type": "execute_result"
    }
   ],
   "source": [
    "media_types_df = pd.DataFrame(media_types_lod)\n",
    "\n",
    "media_types_df"
   ]
  },
  {
   "cell_type": "markdown",
   "metadata": {},
   "source": [
    "Now the rest of them:"
   ]
  },
  {
   "cell_type": "code",
   "execution_count": 7,
   "metadata": {},
   "outputs": [],
   "source": [
    "artists_df = pd.DataFrame(artists_lod)\n",
    "albums_df = pd.DataFrame(albums_lod)\n",
    "tracks_df = pd.DataFrame(tracks_lod)\n",
    "invoices_df = pd.DataFrame(invoices_lod)\n",
    "employees_df = pd.DataFrame(employees_lod)\n",
    "customers_df = pd.DataFrame(customers_lod)\n",
    "genres_df = pd.DataFrame(genres_lod)\n",
    "playlists_df = pd.DataFrame(playlists_lod)"
   ]
  },
  {
   "cell_type": "markdown",
   "metadata": {},
   "source": [
    "## Part 1: Examples of expected responses"
   ]
  },
  {
   "cell_type": "markdown",
   "metadata": {},
   "source": [
    "In this lab, we'll give you some code in one framework and name another framework you should translate it into one or more other frameworks so that equivalent output is returned. Something like this:\n",
    "\n",
    "Given this code:"
   ]
  },
  {
   "cell_type": "code",
   "execution_count": 8,
   "metadata": {},
   "outputs": [
    {
     "data": {
      "text/plain": [
       "[{'FirstName': 'Andrew'},\n",
       " {'FirstName': 'Nancy'},\n",
       " {'FirstName': 'Jane'},\n",
       " {'FirstName': 'Margaret'},\n",
       " {'FirstName': 'Steve'},\n",
       " {'FirstName': 'Michael'},\n",
       " {'FirstName': 'Robert'},\n",
       " {'FirstName': 'Laura'}]"
      ]
     },
     "execution_count": 8,
     "metadata": {},
     "output_type": "execute_result"
    }
   ],
   "source": [
    "cur.execute(\"SELECT FirstName FROM employees\")\n",
    "[dict(row) for row in cur.fetchall()]"
   ]
  },
  {
   "cell_type": "markdown",
   "metadata": {},
   "source": [
    "If we ask you to translate it into **pandas**, you would write something like this:"
   ]
  },
  {
   "cell_type": "code",
   "execution_count": 9,
   "metadata": {},
   "outputs": [
    {
     "data": {
      "text/plain": [
       "0      Andrew\n",
       "1       Nancy\n",
       "2        Jane\n",
       "3    Margaret\n",
       "4       Steve\n",
       "5     Michael\n",
       "6      Robert\n",
       "7       Laura\n",
       "Name: FirstName, dtype: object"
      ]
     },
     "execution_count": 9,
     "metadata": {},
     "output_type": "execute_result"
    }
   ],
   "source": [
    "employees_df[\"FirstName\"]"
   ]
  },
  {
   "cell_type": "markdown",
   "metadata": {},
   "source": [
    "Or if we had asked to translate that code into **list-of-dictionaries**, you could write something like:"
   ]
  },
  {
   "cell_type": "code",
   "execution_count": 10,
   "metadata": {},
   "outputs": [
    {
     "data": {
      "text/plain": [
       "['Andrew', 'Nancy', 'Jane', 'Margaret', 'Steve', 'Michael', 'Robert', 'Laura']"
      ]
     },
     "execution_count": 10,
     "metadata": {},
     "output_type": "execute_result"
    }
   ],
   "source": [
    "[row[\"FirstName\"] for row in employees_lod]"
   ]
  },
  {
   "cell_type": "markdown",
   "metadata": {},
   "source": [
    "## Part 2: Let's get translating!"
   ]
  },
  {
   "cell_type": "markdown",
   "metadata": {},
   "source": [
    "### Q1\n",
    "\n",
    "Given this code:"
   ]
  },
  {
   "cell_type": "code",
   "execution_count": 11,
   "metadata": {},
   "outputs": [
    {
     "data": {
      "text/plain": [
       "[{'count(*)': 275}]"
      ]
     },
     "execution_count": 11,
     "metadata": {},
     "output_type": "execute_result"
    }
   ],
   "source": [
    "cur.execute(\"SELECT count(*) FROM artists\")\n",
    "[dict(row) for row in cur.fetchall()]"
   ]
  },
  {
   "cell_type": "markdown",
   "metadata": {},
   "source": [
    "Translate it into **pandas**:"
   ]
  },
  {
   "cell_type": "code",
   "execution_count": 12,
   "metadata": {},
   "outputs": [
    {
     "data": {
      "text/plain": [
       "275"
      ]
     },
     "execution_count": 12,
     "metadata": {},
     "output_type": "execute_result"
    }
   ],
   "source": [
    "#artists_df.count()\n",
    "#or \n",
    "len(artists_df)"
   ]
  },
  {
   "cell_type": "markdown",
   "metadata": {},
   "source": [
    "Translate it into **lod**:"
   ]
  },
  {
   "cell_type": "code",
   "execution_count": 13,
   "metadata": {},
   "outputs": [
    {
     "data": {
      "text/plain": [
       "275"
      ]
     },
     "execution_count": 13,
     "metadata": {},
     "output_type": "execute_result"
    }
   ],
   "source": [
    "len(artists_lod)"
   ]
  },
  {
   "cell_type": "markdown",
   "metadata": {},
   "source": [
    "### Q2\n",
    "\n",
    "Given this code:"
   ]
  },
  {
   "cell_type": "code",
   "execution_count": 14,
   "metadata": {},
   "outputs": [
    {
     "data": {
      "text/plain": [
       "['Intro',\n",
       " 'School',\n",
       " 'Drain You',\n",
       " 'Been A Son',\n",
       " 'Lithium',\n",
       " 'Sliver',\n",
       " 'Spank Thru',\n",
       " 'Heart-Shaped Box',\n",
       " 'Milk It',\n",
       " 'Negative Creep',\n",
       " 'Polly',\n",
       " 'Breed',\n",
       " \"Tourette's\",\n",
       " 'Blew',\n",
       " 'Smells Like Teen Spirit',\n",
       " 'In Bloom',\n",
       " 'Come As You Are',\n",
       " 'Breed',\n",
       " 'Lithium',\n",
       " 'Polly',\n",
       " 'Territorial Pissings',\n",
       " 'Drain You',\n",
       " 'Lounge Act',\n",
       " 'Stay Away',\n",
       " 'On A Plain',\n",
       " 'Something In The Way']"
      ]
     },
     "execution_count": 14,
     "metadata": {},
     "output_type": "execute_result"
    }
   ],
   "source": [
    "[r[\"Name\"] for r in tracks_lod if r[\"Composer\"] == \"Kurt Cobain\"]"
   ]
  },
  {
   "cell_type": "markdown",
   "metadata": {},
   "source": [
    "Translate it into **pandas**:"
   ]
  },
  {
   "cell_type": "code",
   "execution_count": 15,
   "metadata": {},
   "outputs": [
    {
     "data": {
      "text/plain": [
       "array(['Intro', 'School', 'Drain You', 'Been A Son', 'Lithium', 'Sliver',\n",
       "       'Spank Thru', 'Heart-Shaped Box', 'Milk It', 'Negative Creep',\n",
       "       'Polly', 'Breed', \"Tourette's\", 'Blew', 'Smells Like Teen Spirit',\n",
       "       'In Bloom', 'Come As You Are', 'Breed', 'Lithium', 'Polly',\n",
       "       'Territorial Pissings', 'Drain You', 'Lounge Act', 'Stay Away',\n",
       "       'On A Plain', 'Something In The Way'], dtype=object)"
      ]
     },
     "execution_count": 15,
     "metadata": {},
     "output_type": "execute_result"
    }
   ],
   "source": [
    "tracks_df[(tracks_df[\"Composer\"]== \"Kurt Cobain\")][\"Name\"].values\n"
   ]
  },
  {
   "cell_type": "markdown",
   "metadata": {},
   "source": [
    "Translate it into **SQL**:"
   ]
  },
  {
   "cell_type": "code",
   "execution_count": 16,
   "metadata": {},
   "outputs": [
    {
     "data": {
      "text/plain": [
       "[{'Name': 'Intro'},\n",
       " {'Name': 'School'},\n",
       " {'Name': 'Drain You'},\n",
       " {'Name': 'Been A Son'},\n",
       " {'Name': 'Lithium'},\n",
       " {'Name': 'Sliver'},\n",
       " {'Name': 'Spank Thru'},\n",
       " {'Name': 'Heart-Shaped Box'},\n",
       " {'Name': 'Milk It'},\n",
       " {'Name': 'Negative Creep'},\n",
       " {'Name': 'Polly'},\n",
       " {'Name': 'Breed'},\n",
       " {'Name': \"Tourette's\"},\n",
       " {'Name': 'Blew'},\n",
       " {'Name': 'Smells Like Teen Spirit'},\n",
       " {'Name': 'In Bloom'},\n",
       " {'Name': 'Come As You Are'},\n",
       " {'Name': 'Breed'},\n",
       " {'Name': 'Lithium'},\n",
       " {'Name': 'Polly'},\n",
       " {'Name': 'Territorial Pissings'},\n",
       " {'Name': 'Drain You'},\n",
       " {'Name': 'Lounge Act'},\n",
       " {'Name': 'Stay Away'},\n",
       " {'Name': 'On A Plain'},\n",
       " {'Name': 'Something In The Way'}]"
      ]
     },
     "execution_count": 16,
     "metadata": {},
     "output_type": "execute_result"
    }
   ],
   "source": [
    "statement = '''\n",
    "    SELECT Name \n",
    "    FROM Tracks \n",
    "    WHERE Composer = 'Kurt Cobain'\n",
    "'''\n",
    "\n",
    "cur.execute(statement)\n",
    "[dict(row) for row in cur.fetchall()]"
   ]
  },
  {
   "cell_type": "markdown",
   "metadata": {},
   "source": [
    "### Q3\n",
    "\n",
    "Given this code:"
   ]
  },
  {
   "cell_type": "code",
   "execution_count": 17,
   "metadata": {},
   "outputs": [
    {
     "data": {
      "text/plain": [
       "Steve Harris                                      80\n",
       "U2                                                44\n",
       "Jagger/Richards                                   35\n",
       "Billy Corgan                                      31\n",
       "Kurt Cobain                                       26\n",
       "Bill Berry-Peter Buck-Mike Mills-Michael Stipe    25\n",
       "The Tea Party                                     24\n",
       "Chico Science                                     23\n",
       "Chris Cornell                                     23\n",
       "Miles Davis                                       23\n",
       "Name: Composer, dtype: int64"
      ]
     },
     "execution_count": 17,
     "metadata": {},
     "output_type": "execute_result"
    }
   ],
   "source": [
    "tracks_df[\"Composer\"].value_counts().sort_values(ascending = False).head(10)"
   ]
  },
  {
   "cell_type": "markdown",
   "metadata": {},
   "source": [
    "Translate it into **SQL** (Note: the SQL solution will count NULL values, while the pandas count does not --- that is fine):"
   ]
  },
  {
   "cell_type": "code",
   "execution_count": 18,
   "metadata": {},
   "outputs": [
    {
     "data": {
      "text/plain": [
       "[{'Composer': 'Steve Harris', 'count(*)': 80},\n",
       " {'Composer': 'U2', 'count(*)': 44},\n",
       " {'Composer': 'Jagger/Richards', 'count(*)': 35},\n",
       " {'Composer': 'Billy Corgan', 'count(*)': 31},\n",
       " {'Composer': 'Kurt Cobain', 'count(*)': 26},\n",
       " {'Composer': 'Bill Berry-Peter Buck-Mike Mills-Michael Stipe',\n",
       "  'count(*)': 25},\n",
       " {'Composer': 'The Tea Party', 'count(*)': 24},\n",
       " {'Composer': 'Chico Science', 'count(*)': 23},\n",
       " {'Composer': 'Chris Cornell', 'count(*)': 23},\n",
       " {'Composer': 'Gilberto Gil', 'count(*)': 23}]"
      ]
     },
     "execution_count": 18,
     "metadata": {},
     "output_type": "execute_result"
    }
   ],
   "source": [
    "statement = '''\n",
    "    SELECT Composer, count(*)\n",
    "    FROM Tracks \n",
    "    WHERE Composer NOT LIKE 'None'\n",
    "    GROUP BY Composer\n",
    "    ORDER BY Count(*) DESC \n",
    "    LIMIT 10\n",
    "'''\n",
    "\n",
    "cur.execute(statement)\n",
    "[dict(row) for row in cur.fetchall()]"
   ]
  },
  {
   "cell_type": "markdown",
   "metadata": {},
   "source": [
    "Translate it into **lod**:"
   ]
  },
  {
   "cell_type": "code",
   "execution_count": 19,
   "metadata": {},
   "outputs": [
    {
     "data": {
      "text/plain": [
       "[('Steve Harris', 80),\n",
       " ('U2', 44),\n",
       " ('Jagger/Richards', 35),\n",
       " ('Billy Corgan', 31),\n",
       " ('Kurt Cobain', 26),\n",
       " ('Bill Berry-Peter Buck-Mike Mills-Michael Stipe', 25),\n",
       " ('The Tea Party', 24),\n",
       " ('Gilberto Gil', 23),\n",
       " ('Chico Science', 23),\n",
       " ('Miles Davis', 23)]"
      ]
     },
     "execution_count": 19,
     "metadata": {},
     "output_type": "execute_result"
    }
   ],
   "source": [
    "\n",
    "d= defaultdict(int)\n",
    "for x in tracks_lod: \n",
    "    if x[\"Composer\"] != None:\n",
    "        d[x[\"Composer\"]] += 1\n",
    "\n",
    "sorted(d.items(), key =lambda x: x[1], reverse = True)[:10]\n",
    "  "
   ]
  },
  {
   "cell_type": "markdown",
   "metadata": {},
   "source": [
    "### Q4\n",
    "\n",
    "Given this code:"
   ]
  },
  {
   "cell_type": "code",
   "execution_count": 20,
   "metadata": {},
   "outputs": [
    {
     "data": {
      "text/plain": [
       "0                                                  AC/DC\n",
       "1                                                 Accept\n",
       "2                                              Aerosmith\n",
       "3                                      Alanis Morissette\n",
       "4                                        Alice In Chains\n",
       "5                                   Antônio Carlos Jobim\n",
       "6                                           Apocalyptica\n",
       "7                                             Audioslave\n",
       "25                                               Azymuth\n",
       "42                                          A Cor Do Som\n",
       "158                                              Aquaman\n",
       "160          Aerosmith & Sierra Leone's Refugee Allstars\n",
       "165                                        Avril Lavigne\n",
       "196                                            Aisha Duo\n",
       "201                                       Aaron Goldberg\n",
       "205               Alberto Turco & Nova Schola Gregoriana\n",
       "208    Anne-Sophie Mutter, Herbert Von Karajan & Wien...\n",
       "213    Academy of St. Martin in the Fields & Sir Nevi...\n",
       "214    Academy of St. Martin in the Fields Chamber En...\n",
       "221    Academy of St. Martin in the Fields, John Birc...\n",
       "229            Aaron Copland & London Symphony Orchestra\n",
       "238    Academy of St. Martin in the Fields, Sir Nevil...\n",
       "242             Antal Doráti & London Symphony Orchestra\n",
       "251                                        Amy Winehouse\n",
       "256    Academy of St. Martin in the Fields, Sir Nevil...\n",
       "259                       Adrian Leaper & Doreen de Feis\n",
       "Name: Name, dtype: object"
      ]
     },
     "execution_count": 20,
     "metadata": {},
     "output_type": "execute_result"
    }
   ],
   "source": [
    "artists_df.Name[artists_df.Name.str.startswith(\"A\")]"
   ]
  },
  {
   "cell_type": "markdown",
   "metadata": {},
   "source": [
    "Translate it into **SQL** (Note: the SQL solution will count NULL values, while the pandas count does not --- that is fine):"
   ]
  },
  {
   "cell_type": "code",
   "execution_count": 21,
   "metadata": {},
   "outputs": [
    {
     "data": {
      "text/plain": [
       "[{'Name': 'AC/DC'},\n",
       " {'Name': 'Accept'},\n",
       " {'Name': 'Aerosmith'},\n",
       " {'Name': 'Alanis Morissette'},\n",
       " {'Name': 'Alice In Chains'},\n",
       " {'Name': 'Antônio Carlos Jobim'},\n",
       " {'Name': 'Apocalyptica'},\n",
       " {'Name': 'Audioslave'},\n",
       " {'Name': 'Azymuth'},\n",
       " {'Name': 'A Cor Do Som'},\n",
       " {'Name': 'Aquaman'},\n",
       " {'Name': \"Aerosmith & Sierra Leone's Refugee Allstars\"},\n",
       " {'Name': 'Avril Lavigne'},\n",
       " {'Name': 'Aisha Duo'},\n",
       " {'Name': 'Aaron Goldberg'},\n",
       " {'Name': 'Alberto Turco & Nova Schola Gregoriana'},\n",
       " {'Name': 'Anne-Sophie Mutter, Herbert Von Karajan & Wiener Philharmoniker'},\n",
       " {'Name': 'Academy of St. Martin in the Fields & Sir Neville Marriner'},\n",
       " {'Name': 'Academy of St. Martin in the Fields Chamber Ensemble & Sir Neville Marriner'},\n",
       " {'Name': 'Academy of St. Martin in the Fields, John Birch, Sir Neville Marriner & Sylvia McNair'},\n",
       " {'Name': 'Aaron Copland & London Symphony Orchestra'},\n",
       " {'Name': 'Academy of St. Martin in the Fields, Sir Neville Marriner & William Bennett'},\n",
       " {'Name': 'Antal Doráti & London Symphony Orchestra'},\n",
       " {'Name': 'Amy Winehouse'},\n",
       " {'Name': 'Academy of St. Martin in the Fields, Sir Neville Marriner & Thurston Dart'},\n",
       " {'Name': 'Adrian Leaper & Doreen de Feis'}]"
      ]
     },
     "execution_count": 21,
     "metadata": {},
     "output_type": "execute_result"
    }
   ],
   "source": [
    "statement = '''\n",
    "    SELECT Name \n",
    "    FROM artists \n",
    "    WHERE Name LIKE 'A%'\n",
    "'''\n",
    "cur.execute(statement)\n",
    "[dict(row) for row in cur.fetchall()]"
   ]
  },
  {
   "cell_type": "markdown",
   "metadata": {},
   "source": [
    "Translate it into **lod**:"
   ]
  },
  {
   "cell_type": "code",
   "execution_count": 22,
   "metadata": {},
   "outputs": [
    {
     "data": {
      "text/plain": [
       "['AC/DC',\n",
       " 'Accept',\n",
       " 'Aerosmith',\n",
       " 'Alanis Morissette',\n",
       " 'Alice In Chains',\n",
       " 'Antônio Carlos Jobim',\n",
       " 'Apocalyptica',\n",
       " 'Audioslave',\n",
       " 'Azymuth',\n",
       " 'A Cor Do Som',\n",
       " 'Aquaman',\n",
       " \"Aerosmith & Sierra Leone's Refugee Allstars\",\n",
       " 'Avril Lavigne',\n",
       " 'Aisha Duo',\n",
       " 'Aaron Goldberg',\n",
       " 'Alberto Turco & Nova Schola Gregoriana',\n",
       " 'Anne-Sophie Mutter, Herbert Von Karajan & Wiener Philharmoniker',\n",
       " 'Academy of St. Martin in the Fields & Sir Neville Marriner',\n",
       " 'Academy of St. Martin in the Fields Chamber Ensemble & Sir Neville Marriner',\n",
       " 'Academy of St. Martin in the Fields, John Birch, Sir Neville Marriner & Sylvia McNair',\n",
       " 'Aaron Copland & London Symphony Orchestra',\n",
       " 'Academy of St. Martin in the Fields, Sir Neville Marriner & William Bennett',\n",
       " 'Antal Doráti & London Symphony Orchestra',\n",
       " 'Amy Winehouse',\n",
       " 'Academy of St. Martin in the Fields, Sir Neville Marriner & Thurston Dart',\n",
       " 'Adrian Leaper & Doreen de Feis']"
      ]
     },
     "execution_count": 22,
     "metadata": {},
     "output_type": "execute_result"
    }
   ],
   "source": [
    "[x[\"Name\"] for x in artists_lod if x[\"Name\"][0] == \"A\"] \n"
   ]
  },
  {
   "cell_type": "markdown",
   "metadata": {},
   "source": [
    "### Q5\n",
    "\n",
    "Given this code:"
   ]
  },
  {
   "cell_type": "code",
   "execution_count": 23,
   "metadata": {},
   "outputs": [
    {
     "data": {
      "text/plain": [
       "ArtistId  Name           \n",
       "90        Iron Maiden        21\n",
       "22        Led Zeppelin       14\n",
       "58        Deep Purple        11\n",
       "150       U2                 10\n",
       "50        Metallica          10\n",
       "114       Ozzy Osbourne       6\n",
       "118       Pearl Jam           5\n",
       "82        Faith No More       4\n",
       "84        Foo Fighters        4\n",
       "21        Various Artists     4\n",
       "Name: Name, dtype: int64"
      ]
     },
     "execution_count": 23,
     "metadata": {},
     "output_type": "execute_result"
    }
   ],
   "source": [
    "artists_df\\\n",
    "    .merge(albums_df, on = \"ArtistId\")\\\n",
    "    .groupby([\"ArtistId\", \"Name\"])\\\n",
    "    [\"Name\"]\\\n",
    "    .count()\\\n",
    "    .sort_values(ascending = False)\\\n",
    "    .head(10)"
   ]
  },
  {
   "cell_type": "markdown",
   "metadata": {},
   "source": [
    "Translate it into **SQL**:"
   ]
  },
  {
   "cell_type": "code",
   "execution_count": 24,
   "metadata": {},
   "outputs": [
    {
     "data": {
      "text/plain": [
       "[{'ArtistId': 90, 'Name': 'Iron Maiden', 'COUNT(*)': 21},\n",
       " {'ArtistId': 22, 'Name': 'Led Zeppelin', 'COUNT(*)': 14},\n",
       " {'ArtistId': 58, 'Name': 'Deep Purple', 'COUNT(*)': 11},\n",
       " {'ArtistId': 50, 'Name': 'Metallica', 'COUNT(*)': 10},\n",
       " {'ArtistId': 150, 'Name': 'U2', 'COUNT(*)': 10},\n",
       " {'ArtistId': 114, 'Name': 'Ozzy Osbourne', 'COUNT(*)': 6},\n",
       " {'ArtistId': 118, 'Name': 'Pearl Jam', 'COUNT(*)': 5},\n",
       " {'ArtistId': 21, 'Name': 'Various Artists', 'COUNT(*)': 4},\n",
       " {'ArtistId': 82, 'Name': 'Faith No More', 'COUNT(*)': 4},\n",
       " {'ArtistId': 84, 'Name': 'Foo Fighters', 'COUNT(*)': 4}]"
      ]
     },
     "execution_count": 24,
     "metadata": {},
     "output_type": "execute_result"
    }
   ],
   "source": [
    "statement = '''\n",
    "        SELECT artists.ArtistId, Name, COUNT(*)\n",
    "        FROM artists \n",
    "        JOIN Albums On artists.ArtistId = albums.ArtistId\n",
    "        GROUP BY artists.ArtistId\n",
    "        ORDER BY Count(*) DESC\n",
    "        LIMIT 10 \n",
    "'''\n",
    "cur.execute(statement)\n",
    "[dict(row) for row in cur.fetchall()]"
   ]
  },
  {
   "cell_type": "markdown",
   "metadata": {},
   "source": [
    "### BONUS\n",
    "\n",
    "Translate **Q5** it into **lod**:"
   ]
  },
  {
   "cell_type": "code",
   "execution_count": 25,
   "metadata": {},
   "outputs": [
    {
     "data": {
      "text/plain": [
       "[{'ArtistId': 90, 'Name': 'Iron Maiden', 'Count': 21},\n",
       " {'ArtistId': 22, 'Name': 'Led Zeppelin', 'Count': 14},\n",
       " {'ArtistId': 58, 'Name': 'Deep Purple', 'Count': 11},\n",
       " {'ArtistId': 50, 'Name': 'Metallica', 'Count': 10},\n",
       " {'ArtistId': 150, 'Name': 'U2', 'Count': 10},\n",
       " {'ArtistId': 114, 'Name': 'Ozzy Osbourne', 'Count': 6},\n",
       " {'ArtistId': 118, 'Name': 'Pearl Jam', 'Count': 5},\n",
       " {'ArtistId': 21, 'Name': 'Various Artists', 'Count': 4},\n",
       " {'ArtistId': 82, 'Name': 'Faith No More', 'Count': 4},\n",
       " {'ArtistId': 84, 'Name': 'Foo Fighters', 'Count': 4}]"
      ]
     },
     "execution_count": 25,
     "metadata": {},
     "output_type": "execute_result"
    }
   ],
   "source": [
    "d =defaultdict(int)\n",
    "\n",
    "for artists in artists_lod:\n",
    "    for albums in albums_lod: \n",
    "        if artists[\"ArtistId\"] == albums[\"ArtistId\"]: \n",
    "            d[artists[\"Name\"]]+=1\n",
    "lis_tup =sorted(d.items(), key = lambda x: x[1], reverse= True)[:10]\n",
    "answer = [] \n",
    "for name,count in lis_tup:\n",
    "    for x in artists_lod:\n",
    "        if x[\"Name\"] == name: \n",
    "            dic = {} \n",
    "            dic[\"ArtistId\"] = x['ArtistId']\n",
    "            dic[\"Name\"] = name \n",
    "            dic[\"Count\"] = count\n",
    "    answer.append(dic)\n",
    "           \n",
    "answer        \n"
   ]
  },
  {
   "cell_type": "code",
   "execution_count": null,
   "metadata": {},
   "outputs": [],
   "source": []
  }
 ],
 "metadata": {
  "kernelspec": {
   "display_name": "Python 3",
   "language": "python",
   "name": "python3"
  },
  "language_info": {
   "codemirror_mode": {
    "name": "ipython",
    "version": 3
   },
   "file_extension": ".py",
   "mimetype": "text/x-python",
   "name": "python",
   "nbconvert_exporter": "python",
   "pygments_lexer": "ipython3",
   "version": "3.6.5"
  }
 },
 "nbformat": 4,
 "nbformat_minor": 2
}
