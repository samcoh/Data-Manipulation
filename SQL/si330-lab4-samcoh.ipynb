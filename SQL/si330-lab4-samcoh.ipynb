{
 "cells": [
  {
   "cell_type": "markdown",
   "metadata": {},
   "source": [
    "# Lab 4 - SQL\n",
    "\n",
    "\n",
    "## Due: Thursday, Oct 4, 2018, 11:59:00pm\n",
    "\n",
    "### Submission instructions\n",
    "After completing this homework, you will turn in two files via Canvas ->  Assignments -> Lab 4:\n",
    "Your Notebook, named si330-lab4-YOUR_UNIQUE_NAME.ipynb and\n",
    "the HTML file, named si330-lab4-YOUR_UNIQUE_NAME.html\n",
    "\n",
    "### Name:  Samantha Cohen \n",
    "### Uniqname: samcoh\n",
    "### People you worked with: Rhea, Will, Emil \n",
    "\n",
    "\n",
    "## Objectives\n",
    "After completing this Lab, you should know how to use NLTK to:\n",
    "* Insert data into a database\n",
    "* Query a database"
   ]
  },
  {
   "cell_type": "markdown",
   "metadata": {},
   "source": [
    "## Part 0: Setup + Loading the data"
   ]
  },
  {
   "cell_type": "code",
   "execution_count": 1,
   "metadata": {},
   "outputs": [],
   "source": [
    "import sqlite3 as sqlite\n",
    "import xml.etree.ElementTree as ET"
   ]
  },
  {
   "cell_type": "markdown",
   "metadata": {},
   "source": [
    "### Part 0.1: SQLite DB Browser\n",
    "\n",
    "Go to http://sqlitebrowser.org/ and install the SQLite DB Browser GUI. You can use this tool to inspect an SQLite database and test SQL commands on it outside of python."
   ]
  },
  {
   "cell_type": "markdown",
   "metadata": {},
   "source": [
    "### Part 0.2: Load data\n",
    "\n",
    "For this lab, we will be loading in some data from two XML files and then insert them into the database. **You don't need to modify the code in this section.**"
   ]
  },
  {
   "cell_type": "code",
   "execution_count": 2,
   "metadata": {},
   "outputs": [],
   "source": [
    "# DON'T MODIFY THIS --- it is used for loading the XML data that we will be inserting into the database\n",
    "def read_xml_file(xml_filename, field_types):\n",
    "    tree = ET.parse(xml_filename)\n",
    "    root = tree.getroot()\n",
    "    lot = []\n",
    "    for child in root:\n",
    "        fields = []\n",
    "        for gc in child:\n",
    "            fields.append(gc.text)\n",
    "\n",
    "        field_list = []\n",
    "        count = 0\n",
    "        for f in fields:\n",
    "            t = field_types[count]\n",
    "            if t == 'int':\n",
    "                field_list.append(int(f))\n",
    "            elif t == 'string':\n",
    "                field_list.append(f)\n",
    "            elif t == 'float':\n",
    "                field_list.append(float(f))\n",
    "            else:\n",
    "                field_list.append(f)\n",
    "            count = count + 1\n",
    "\n",
    "        lot.append(tuple(field_list))\n",
    "    return lot"
   ]
  },
  {
   "cell_type": "markdown",
   "metadata": {},
   "source": [
    "Now we'll load the data into `customers`:"
   ]
  },
  {
   "cell_type": "code",
   "execution_count": 3,
   "metadata": {},
   "outputs": [],
   "source": [
    "# The format of the customer.xml file records:\n",
    "# <T>\n",
    "#    <C_CUSTKEY>1</C_CUSTKEY>                       #in the database we will call this customer_id\n",
    "#    <C_NAME>Customer#000000001</C_NAME>            #... name\n",
    "#    <C_ADDRESS>IVhzIApeRb ot,c,E</C_ADDRESS>       #... address\n",
    "#    <C_NATIONKEY>15</C_NATIONKEY>                  #... nation_id\n",
    "#    <C_PHONE>25-989-741-2988</C_PHONE>             #... phone\n",
    "#    <C_ACCTBAL>711.56</C_ACCTBAL>                  #... balance\n",
    "#    <C_MKTSEGMENT>BUILDING</C_MKTSEGMENT>          #... market_segment\n",
    "#    <C_COMMENT>lorem ipsum</C_COMMENT>             #... comment\n",
    "# </T>\n",
    "customers = read_xml_file('customer.xml',\n",
    "                    ['int', 'string', 'string', 'int', 'string', 'float', 'string', 'string'])"
   ]
  },
  {
   "cell_type": "markdown",
   "metadata": {},
   "source": [
    "`customers` is a list of tuples, where each tuple represents a customer. Here are the first couple of customers:"
   ]
  },
  {
   "cell_type": "code",
   "execution_count": 4,
   "metadata": {},
   "outputs": [
    {
     "data": {
      "text/plain": [
       "[(1,\n",
       "  'Customer#000000001',\n",
       "  'IVhzIApeRb ot,c,E',\n",
       "  15,\n",
       "  '25-989-741-2988',\n",
       "  711.56,\n",
       "  'BUILDING',\n",
       "  'regular, regular platelets are fluffily according to the even attainments. blithely iron'),\n",
       " (2,\n",
       "  'Customer#000000002',\n",
       "  'XSTf4,NCwDVaWNe6tEgvwfmRchLXak',\n",
       "  13,\n",
       "  '23-768-687-3665',\n",
       "  121.65,\n",
       "  'AUTOMOBILE',\n",
       "  'furiously special deposits solve slyly. furiously even foxes wake alongside of the furiously ironic ideas. pending'),\n",
       " (3,\n",
       "  'Customer#000000003',\n",
       "  'MG9kdTD2WBHm',\n",
       "  1,\n",
       "  '11-719-748-3364',\n",
       "  7498.12,\n",
       "  'AUTOMOBILE',\n",
       "  'special packages wake. slyly reg'),\n",
       " (4,\n",
       "  'Customer#000000004',\n",
       "  'XxVSJsLAGtn',\n",
       "  4,\n",
       "  '14-128-190-5944',\n",
       "  2866.83,\n",
       "  'MACHINERY',\n",
       "  'slyly final accounts sublate carefully. slyly ironic asymptotes nod across the quickly regular pack'),\n",
       " (5,\n",
       "  'Customer#000000005',\n",
       "  'KvpyuHCplrB84WgAiGV6sYpZq7Tj',\n",
       "  3,\n",
       "  '13-750-942-6364',\n",
       "  794.47,\n",
       "  'HOUSEHOLD',\n",
       "  'blithely final instructions haggle; stealthy sauternes nod; carefully regu')]"
      ]
     },
     "execution_count": 4,
     "metadata": {},
     "output_type": "execute_result"
    }
   ],
   "source": [
    "customers[:5]"
   ]
  },
  {
   "cell_type": "markdown",
   "metadata": {},
   "source": [
    "There are plenty more customers:"
   ]
  },
  {
   "cell_type": "code",
   "execution_count": 5,
   "metadata": {},
   "outputs": [
    {
     "data": {
      "text/plain": [
       "1500"
      ]
     },
     "execution_count": 5,
     "metadata": {},
     "output_type": "execute_result"
    }
   ],
   "source": [
    "len(customers)"
   ]
  },
  {
   "cell_type": "markdown",
   "metadata": {},
   "source": [
    "We'll also load another dataset into the `nations` variable:"
   ]
  },
  {
   "cell_type": "code",
   "execution_count": 6,
   "metadata": {},
   "outputs": [],
   "source": [
    "# The format of the nation.xml file records:\n",
    "# <T>\n",
    "#        <N_NATIONKEY>0</N_NATIONKEY>           #in the database we will call this nation_id\n",
    "#        <N_NAME>ALGERIA</N_NAME>               #... name\n",
    "#        <N_REGIONKEY>0</N_REGIONKEY>           #... region_id\n",
    "#        <N_COMMENT>lorem ipsum</N_COMMENT>     #... comment\n",
    "# </T>\n",
    "nations = read_xml_file(r'nation.xml', ['int', 'string', 'int', 'string'])"
   ]
  },
  {
   "cell_type": "markdown",
   "metadata": {},
   "source": [
    "The first few entries look like this:"
   ]
  },
  {
   "cell_type": "code",
   "execution_count": 7,
   "metadata": {},
   "outputs": [
    {
     "data": {
      "text/plain": [
       "[(0, 'ALGERIA', 0, 'final accounts wake quickly. special reques'),\n",
       " (1,\n",
       "  'ARGENTINA',\n",
       "  1,\n",
       "  'idly final instructions cajole stealthily. regular instructions wake carefully blithely express accounts. fluffi'),\n",
       " (2, 'BRAZIL', 1, 'always pending pinto beans sleep sil'),\n",
       " (3, 'CANADA', 1, 'foxes among the bold requests'),\n",
       " (4,\n",
       "  'EGYPT',\n",
       "  4,\n",
       "  'pending accounts haggle furiously. furiously bold accounts detect. platelets at the packages haggle caref')]"
      ]
     },
     "execution_count": 7,
     "metadata": {},
     "output_type": "execute_result"
    }
   ],
   "source": [
    "nations[:5]"
   ]
  },
  {
   "cell_type": "code",
   "execution_count": 8,
   "metadata": {},
   "outputs": [
    {
     "data": {
      "text/plain": [
       "25"
      ]
     },
     "execution_count": 8,
     "metadata": {},
     "output_type": "execute_result"
    }
   ],
   "source": [
    "len(nations)"
   ]
  },
  {
   "cell_type": "markdown",
   "metadata": {},
   "source": [
    "## Part 1: Database initialization"
   ]
  },
  {
   "cell_type": "markdown",
   "metadata": {},
   "source": [
    "SQLite database are just stored as files on disk, so to connect to one you can just specify the name of the file you want to write the database to, as in `sqlite.connect('si-330-lab4.db')`."
   ]
  },
  {
   "cell_type": "markdown",
   "metadata": {},
   "source": [
    "### Part 1.1 Open database connection\n",
    "\n",
    "To open a connection to an SQLite database, use the `sqlite.connect()` function. Normally we would probably use `sqlite.connect()` paired with a `with` statement, as in:\n",
    "\n",
    "```python\n",
    "with sqlite.connect('si-330-lab6.db') as con:\n",
    "    # database code here...\n",
    "```\n",
    "\n",
    "In this form, the `with` statement will automatically close the database connection at the end of the block.\n",
    "\n",
    "**However,** this does not work as well in a notebook --- we would have to put a `with` statement around every block that uses the database. So instead, we'll open the database separately. **This means that you have to rememeber to close it later!**\n",
    "\n",
    "To open a connection to the database:"
   ]
  },
  {
   "cell_type": "code",
   "execution_count": 9,
   "metadata": {},
   "outputs": [],
   "source": [
    "con = sqlite.connect('si-330-lab4.db')\n",
    "\n",
    "# changing the row factory allows us to access fields by name:\n",
    "# rows will be returned as dictionaries instead of lists\n",
    "con.row_factory = sqlite.Row\n",
    "\n",
    "# We'll also want a \"cursor\" to use to execute queries:\n",
    "cur = con.cursor()"
   ]
  },
  {
   "cell_type": "markdown",
   "metadata": {},
   "source": [
    "If you need to close your database connection, execute this block:"
   ]
  },
  {
   "cell_type": "code",
   "execution_count": 10,
   "metadata": {},
   "outputs": [],
   "source": [
    "# don't execute now ...\n",
    "#con.close()"
   ]
  },
  {
   "cell_type": "markdown",
   "metadata": {},
   "source": [
    "### Part 1.1: Creating and populating a table"
   ]
  },
  {
   "cell_type": "markdown",
   "metadata": {},
   "source": [
    "The first thing we'll do is create and populate the `customer` table. We're going to insert all the values from the `customers` datastructure from Part 0 into this table.\n",
    "\n",
    "To populate the table, we'll first remove it in case it already exists:"
   ]
  },
  {
   "cell_type": "code",
   "execution_count": 11,
   "metadata": {},
   "outputs": [],
   "source": [
    "cur.execute(\"DROP TABLE IF EXISTS customer\")\n",
    "con.commit() # commit these changes to the database"
   ]
  },
  {
   "cell_type": "markdown",
   "metadata": {},
   "source": [
    "Next, write a `CREATE TABLE` statement that creates a table with the following columns:\n",
    "\n",
    "- customer_id (integer) - this should also be a **primary key**\n",
    "- name (text)\n",
    "- address (text)\n",
    "- nation_id (integer)\n",
    "- phone (text)\n",
    "- balance (real),\n",
    "- market_segment (text)\n",
    "- comment (text)"
   ]
  },
  {
   "cell_type": "code",
   "execution_count": 12,
   "metadata": {},
   "outputs": [
    {
     "data": {
      "text/plain": [
       "<sqlite3.Cursor at 0x10afed880>"
      ]
     },
     "execution_count": 12,
     "metadata": {},
     "output_type": "execute_result"
    }
   ],
   "source": [
    "# CHANGE ME: replace `None` with a string containing an SQL CREATE TABLE statement\n",
    "statement = '''\n",
    "CREATE TABLE 'customer'(\n",
    "'customer_id' INTEGER PRIMARY KEY, \n",
    "'name' TEXT,\n",
    "'address' TEXT,\n",
    "'nation_id' INTEGER,\n",
    "'phone' TEXT,\n",
    "'balance' REAL, \n",
    "'market_segment' TEXT, \n",
    "'comment' TEXT)\n",
    "'''\n",
    "cur.execute(statement)"
   ]
  },
  {
   "cell_type": "markdown",
   "metadata": {},
   "source": [
    "Next, populate the table with values from `customers` using an `INSERT INTO` statement:"
   ]
  },
  {
   "cell_type": "code",
   "execution_count": 13,
   "metadata": {},
   "outputs": [
    {
     "name": "stdout",
     "output_type": "stream",
     "text": [
      "1500\n"
     ]
    }
   ],
   "source": [
    "# CHANGE ME\n",
    "print(len(customers))\n",
    "#print(len(nation_id))\n",
    "statement = 'INSERT INTO customer VALUES(?,?,?,?,?,?,?,?)'\n",
    "cur.executemany(statement,customers)\n",
    "con.commit()\n",
    "#for x in customers:\n",
    "    #print(x)\n",
    "\n",
    "    #cur.commit() "
   ]
  },
  {
   "cell_type": "markdown",
   "metadata": {},
   "source": [
    "### Part 1.2: Adding another table"
   ]
  },
  {
   "cell_type": "markdown",
   "metadata": {},
   "source": [
    "Now we're going to insert all the values from the `nations` datastructure from Part 0 into the `nation` table.\n",
    "\n",
    "To populate the table, we'll first remove it in case it already exists:"
   ]
  },
  {
   "cell_type": "code",
   "execution_count": 14,
   "metadata": {},
   "outputs": [],
   "source": [
    "cur.execute(\"DROP TABLE IF EXISTS nation\")\n",
    "con.commit() # commit these changes to the database"
   ]
  },
  {
   "cell_type": "markdown",
   "metadata": {},
   "source": [
    "Next, write a `CREATE TABLE` statement that creates a table with the following columns:\n",
    "\n",
    "- nation_id (integer) - this should also be a **primary key**\n",
    "- name (text)\n",
    "- region_id (integer)\n",
    "- comment (text)"
   ]
  },
  {
   "cell_type": "code",
   "execution_count": 15,
   "metadata": {},
   "outputs": [
    {
     "data": {
      "text/plain": [
       "<sqlite3.Cursor at 0x10afed880>"
      ]
     },
     "execution_count": 15,
     "metadata": {},
     "output_type": "execute_result"
    }
   ],
   "source": [
    "# CHANGE ME: replace `None` with a string containing an SQL CREATE TABLE statement\n",
    "statement = '''\n",
    "CREATE TABLE 'nation'(\n",
    "'nation_id' INTEGER PRIMARY KEY, \n",
    "'name' TEXT,\n",
    "'region_id' INTEGER,\n",
    "'comment' TEXT)\n",
    "'''\n",
    "cur.execute(statement)\n",
    "  "
   ]
  },
  {
   "cell_type": "markdown",
   "metadata": {},
   "source": [
    "Next, populate the table with values from `nations` using an `INSERT INTO` statement:"
   ]
  },
  {
   "cell_type": "code",
   "execution_count": 16,
   "metadata": {},
   "outputs": [],
   "source": [
    "# CHANGE ME\n",
    "statement = \"INSERT INTO nation VALUES(?,?,?,?)\"\n",
    "cur.executemany(statement,nations)\n",
    "con.commit()"
   ]
  },
  {
   "cell_type": "markdown",
   "metadata": {},
   "source": [
    "### Part 1.3: Checking your work"
   ]
  },
  {
   "cell_type": "markdown",
   "metadata": {},
   "source": [
    "Open up the **SQLiteBrowser** GUI and open your database file (`\"si-330-lab4.db\"`). Under `Browse Data`, look at the contents of the `customer` table. It should look like this:"
   ]
  },
  {
   "cell_type": "markdown",
   "metadata": {},
   "source": [
    "![SQLiteBrowser view of customer table](sqlite-browser.PNG)"
   ]
  },
  {
   "cell_type": "markdown",
   "metadata": {},
   "source": [
    "For complex queries, it is often easier to debug them using the GUI than python. Click on the **Execute SQL** tab to enter SQL directly within the GUI. "
   ]
  },
  {
   "cell_type": "markdown",
   "metadata": {},
   "source": [
    "## Part 2: Customer Queries"
   ]
  },
  {
   "cell_type": "markdown",
   "metadata": {},
   "source": [
    "**2.1** Write an SQL query to compute the count of all records (rows) in the customer table"
   ]
  },
  {
   "cell_type": "code",
   "execution_count": 17,
   "metadata": {},
   "outputs": [
    {
     "data": {
      "text/plain": [
       "[{'Customer_Count': 1500}]"
      ]
     },
     "execution_count": 17,
     "metadata": {},
     "output_type": "execute_result"
    }
   ],
   "source": [
    "# CHANGE ME\n",
    "statement = '''\n",
    "SELECT COUNT(*) as Customer_Count\n",
    "FROM customer\n",
    "'''\n",
    "cur.execute(statement)\n",
    "# this line just prints the results so you can see them...\n",
    "[dict(row) for row in cur.fetchall()]"
   ]
  },
  {
   "cell_type": "markdown",
   "metadata": {},
   "source": [
    "**2.2** Write an SQL query to compute the average balance over all rows in the customer table."
   ]
  },
  {
   "cell_type": "code",
   "execution_count": 18,
   "metadata": {},
   "outputs": [
    {
     "data": {
      "text/plain": [
       "[{'Average_Balance': 4454.577060000001}]"
      ]
     },
     "execution_count": 18,
     "metadata": {},
     "output_type": "execute_result"
    }
   ],
   "source": [
    "# CHANGE ME\n",
    "statement = '''\n",
    "SELECT AVG(balance) as Average_Balance\n",
    "FROM customer\n",
    "'''\n",
    "cur.execute(statement)\n",
    "\n",
    "[dict(row) for row in cur.fetchall()]"
   ]
  },
  {
   "cell_type": "markdown",
   "metadata": {},
   "source": [
    "**2.3** Write an SQL query to get the customer_id, name, and balance columns from the customer table that\n",
    "have balance >= 1000, and sort the results by customer_id in descending order (largest to smallest)"
   ]
  },
  {
   "cell_type": "code",
   "execution_count": 19,
   "metadata": {},
   "outputs": [
    {
     "data": {
      "text/plain": [
       "[{'customer_id': 1500, 'name': 'Customer#000001500', 'balance': 6910.79},\n",
       " {'customer_id': 1499, 'name': 'Customer#000001499', 'balance': 9128.69},\n",
       " {'customer_id': 1498, 'name': 'Customer#000001498', 'balance': 5810.56},\n",
       " {'customer_id': 1497, 'name': 'Customer#000001497', 'balance': 2449.57},\n",
       " {'customer_id': 1495, 'name': 'Customer#000001495', 'balance': 6227.55},\n",
       " {'customer_id': 1494, 'name': 'Customer#000001494', 'balance': 8292.21},\n",
       " {'customer_id': 1493, 'name': 'Customer#000001493', 'balance': 7014.12},\n",
       " {'customer_id': 1491, 'name': 'Customer#000001491', 'balance': 3739.82},\n",
       " {'customer_id': 1490, 'name': 'Customer#000001490', 'balance': 8997.6},\n",
       " {'customer_id': 1489, 'name': 'Customer#000001489', 'balance': 4389.66}]"
      ]
     },
     "execution_count": 19,
     "metadata": {},
     "output_type": "execute_result"
    }
   ],
   "source": [
    "# CHANGE ME\n",
    "statement = '''\n",
    "SELECT customer_id,name,balance \n",
    "FROM customer \n",
    "WHERE balance >= 1000 \n",
    "ORDER BY customer_id DESC \n",
    "'''\n",
    "cur.execute(statement)\n",
    "\n",
    "# just print the top 10 (there's a lot)\n",
    "[dict(row) for row in cur.fetchall()][:10]"
   ]
  },
  {
   "cell_type": "markdown",
   "metadata": {},
   "source": [
    "**2.4** Write an SQL query to sum the balance field by market_segment (call this total column total_balance)\n",
    "and sort by total_balance in descending order.\n",
    "The output columns should be market_segment and total_balance (the sum over balance)"
   ]
  },
  {
   "cell_type": "code",
   "execution_count": 20,
   "metadata": {},
   "outputs": [
    {
     "data": {
      "text/plain": [
       "[{'market_segment': 'BUILDING', 'total_balance': 1444587.8000000007},\n",
       " {'market_segment': 'AUTOMOBILE', 'total_balance': 1395695.720000001},\n",
       " {'market_segment': 'MACHINERY', 'total_balance': 1296958.6099999994},\n",
       " {'market_segment': 'HOUSEHOLD', 'total_balance': 1279340.6600000013},\n",
       " {'market_segment': 'FURNITURE', 'total_balance': 1265282.7999999996}]"
      ]
     },
     "execution_count": 20,
     "metadata": {},
     "output_type": "execute_result"
    }
   ],
   "source": [
    "# CHANGE ME\n",
    "statement = '''\n",
    "SELECT market_segment,SUM(balance) as total_balance\n",
    "FROM customer\n",
    "GROUP BY market_segment\n",
    "ORDER BY total_balance DESC\n",
    "'''\n",
    "cur.execute(statement)\n",
    "\n",
    "[dict(row) for row in cur.fetchall()]"
   ]
  },
  {
   "cell_type": "markdown",
   "metadata": {},
   "source": [
    "## Part 3: Join Nation and Customer"
   ]
  },
  {
   "cell_type": "markdown",
   "metadata": {},
   "source": [
    "**3.1** Write an SQL query to compute the total balance in the customer table for each nation.    The output columns should be name (country name) from the \"nation\" table and the total account balance, i.e. the sum of balance in the \"customer\" table for records grouped by country, output as a column named total_balance.    The result should be sorted alphabetically by country name.\n",
    "\n",
    "**HINT: some columns have the same names in both tables, so you will have to refer to them specifically (e.g. \"nation.name\" or \"customer.name\" instead of just \"name\")**"
   ]
  },
  {
   "cell_type": "code",
   "execution_count": 21,
   "metadata": {},
   "outputs": [
    {
     "data": {
      "text/plain": [
       "[{'total_balance': 248180.18999999997, 'country_name': 'ALGERIA'},\n",
       " {'total_balance': 286203.34, 'country_name': 'ARGENTINA'},\n",
       " {'total_balance': 247200.27000000002, 'country_name': 'BRAZIL'},\n",
       " {'total_balance': 284011.99, 'country_name': 'CANADA'},\n",
       " {'total_balance': 291863.05000000005, 'country_name': 'CHINA'},\n",
       " {'total_balance': 272480.14, 'country_name': 'EGYPT'},\n",
       " {'total_balance': 201760.96999999997, 'country_name': 'ETHIOPIA'},\n",
       " {'total_balance': 140663.19999999998, 'country_name': 'FRANCE'},\n",
       " {'total_balance': 243965.66000000006, 'country_name': 'GERMANY'},\n",
       " {'total_balance': 274001.8199999999, 'country_name': 'INDIA'},\n",
       " {'total_balance': 328113.13000000006, 'country_name': 'INDONESIA'},\n",
       " {'total_balance': 302886.37000000005, 'country_name': 'IRAN'},\n",
       " {'total_balance': 267563.05000000005, 'country_name': 'IRAQ'},\n",
       " {'total_balance': 332485.08, 'country_name': 'JAPAN'},\n",
       " {'total_balance': 226043.97999999992, 'country_name': 'JORDAN'},\n",
       " {'total_balance': 245055.49999999994, 'country_name': 'KENYA'},\n",
       " {'total_balance': 394881.8300000001, 'country_name': 'MOROCCO'},\n",
       " {'total_balance': 284258.04999999993, 'country_name': 'MOZAMBIQUE'},\n",
       " {'total_balance': 240871.59999999998, 'country_name': 'PERU'},\n",
       " {'total_balance': 252226.31999999992, 'country_name': 'ROMANIA'},\n",
       " {'total_balance': 254970.91999999998, 'country_name': 'RUSSIA'},\n",
       " {'total_balance': 368211.35999999987, 'country_name': 'SAUDI ARABIA'},\n",
       " {'total_balance': 214384.23999999993, 'country_name': 'UNITED KINGDOM'},\n",
       " {'total_balance': 206281.71999999994, 'country_name': 'UNITED STATES'},\n",
       " {'total_balance': 273301.81000000006, 'country_name': 'VIETNAM'}]"
      ]
     },
     "execution_count": 21,
     "metadata": {},
     "output_type": "execute_result"
    }
   ],
   "source": [
    "# CHANGE ME\n",
    "statement= '''\n",
    "SELECT SUM(c.balance) as total_balance, n.name as country_name\n",
    "FROM customer as c \n",
    "JOIN nation as n \n",
    "ON c.nation_id = n.nation_id\n",
    "GROUP BY country_name\n",
    "ORDER BY country_name\n",
    "'''\n",
    "cur.execute(statement)\n",
    "\n",
    "[dict(row) for row in cur.fetchall()]"
   ]
  },
  {
   "cell_type": "markdown",
   "metadata": {},
   "source": [
    "## Part 4: Close the database"
   ]
  },
  {
   "cell_type": "markdown",
   "metadata": {},
   "source": [
    "Don't forget to close your database connection when you're done..."
   ]
  },
  {
   "cell_type": "code",
   "execution_count": 22,
   "metadata": {},
   "outputs": [],
   "source": [
    "con.close()"
   ]
  },
  {
   "cell_type": "code",
   "execution_count": null,
   "metadata": {},
   "outputs": [],
   "source": []
  }
 ],
 "metadata": {
  "kernelspec": {
   "display_name": "Python 3",
   "language": "python",
   "name": "python3"
  },
  "language_info": {
   "codemirror_mode": {
    "name": "ipython",
    "version": 3
   },
   "file_extension": ".py",
   "mimetype": "text/x-python",
   "name": "python",
   "nbconvert_exporter": "python",
   "pygments_lexer": "ipython3",
   "version": "3.6.5"
  }
 },
 "nbformat": 4,
 "nbformat_minor": 2
}
