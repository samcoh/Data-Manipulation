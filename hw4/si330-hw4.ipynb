{
 "cells": [
  {
   "cell_type": "markdown",
   "metadata": {},
   "source": [
    "# HW 4 - SQL\n",
    "\n",
    "\n",
    "## Due: Friday, Oct 12, 2018, 11:59:00pm\n",
    "\n",
    "### Submission instructions\n",
    "After completing this homework, you will turn in two files via Canvas ->  Assignments -> HW 4:\n",
    "- Your Notebook, named si330-hw4-YOUR_UNIQUE_NAME.ipynb and\n",
    "- the HTML file, named si330-hw4-YOUR_UNIQUE_NAME.html\n",
    "\n",
    "### Name:  YOUR NAME GOES HERE\n",
    "### Uniqname: YOUR UNIQNAME GOES HERE\n",
    "### People you worked with: [if you didn't work with anyone else write \"I worked by myself\" here].\n"
   ]
  },
  {
   "cell_type": "markdown",
   "metadata": {},
   "source": [
    "## Part 0: Setup and Database"
   ]
  },
  {
   "cell_type": "code",
   "execution_count": null,
   "metadata": {},
   "outputs": [],
   "source": [
    "import sqlite3 as sqlite"
   ]
  },
  {
   "cell_type": "markdown",
   "metadata": {},
   "source": [
    "We have provided you with an SQLite database in `chinook.db`. This database contains the following tables:\n",
    "\n",
    "- `artists`: Musical artists, each with an artist id and name.\n",
    "- `albums`: Musical albums. Each album belongs to one artist. However, one artist may have multiple albums.\n",
    "- `tracks`: Songs. Each track belongs to one album.\n",
    "- `invoices` and `invoice_items`: Purchase invoices. Each invoice represents a single purchase, associated with one or more invoice items. Each invoice item represents the purchase of a single track, the dollar amount paid, and the quantity.\n",
    "- `employees`: Employees, each with an employee id, last name, first name, etc. It also has a field named ReportsTo to specify who reports to whom.\n",
    "- `customers`: Customers.\n",
    "- `media_types`: Media types, such as MPEG audio file, ACC audio file, etc.\n",
    "- `genres`: Music types such as rock, jazz, metal, etc.\n",
    "- `playlists` and `playlist_track`: Musical playlists. Each playlist contains a list of tracks. Each track may belong to multiple playlists. The relationship between the playlists table and tracks table is many-to-many. The playlist_track table is used to reflect this relationship.\n",
    " "
   ]
  },
  {
   "cell_type": "markdown",
   "metadata": {},
   "source": [
    "A schematic view of this database is below:\n",
    "    \n",
    "![The chinook database](chinook.png)"
   ]
  },
  {
   "cell_type": "markdown",
   "metadata": {},
   "source": [
    "### Part 0.1: SQLite DB Browser\n",
    "\n",
    "As in the lab, we recommend that you use an SQLite GUI, like the [SQLite DB Browser](http://sqlitebrowser.org/), to browse the database and test your queries."
   ]
  },
  {
   "cell_type": "markdown",
   "metadata": {},
   "source": [
    "## Part 1: Connect to database\n",
    "\n",
    "Insert the code to:\n",
    "- connect to the database in `chinook.db` using a variable called `con`\n",
    "- set up a row factory so that results from the database are returned as dictionary-like objects.\n",
    "- and open a cursor to execute queries from (in a variable called `cur`)\n"
   ]
  },
  {
   "cell_type": "code",
   "execution_count": null,
   "metadata": {},
   "outputs": [],
   "source": [
    "# CHANGE ME: insert code here"
   ]
  },
  {
   "cell_type": "markdown",
   "metadata": {},
   "source": [
    "## Part 2: Queries!"
   ]
  },
  {
   "cell_type": "markdown",
   "metadata": {},
   "source": [
    "Let's answer some questions about the database. Below each entry, insert the code to execute a query against the database and print out the answer."
   ]
  },
  {
   "cell_type": "markdown",
   "metadata": {},
   "source": [
    "**All questions in this part and the remaining sections of this assignment must be answered using SQL (apart from code to print out the result). You may not further process the data in python except to print the rows returned by your query.**"
   ]
  },
  {
   "cell_type": "markdown",
   "metadata": {},
   "source": [
    "**2.1** How many artists are in the database?"
   ]
  },
  {
   "cell_type": "code",
   "execution_count": null,
   "metadata": {},
   "outputs": [],
   "source": [
    "# CHANGE ME: insert code here"
   ]
  },
  {
   "cell_type": "markdown",
   "metadata": {},
   "source": [
    "**2.2** Who are the top ten artists by number of **albums**? Print their names and the number of albums they have. (HINT: use the `LIMIT` clause to get just the top 10; **do not** use list slicing in python)."
   ]
  },
  {
   "cell_type": "code",
   "execution_count": null,
   "metadata": {},
   "outputs": [],
   "source": [
    "# CHANGE ME: insert code here"
   ]
  },
  {
   "cell_type": "markdown",
   "metadata": {},
   "source": [
    "**2.3** Who are the top ten artists by number of **tracks**? Print their names and the number of tracks they have."
   ]
  },
  {
   "cell_type": "code",
   "execution_count": null,
   "metadata": {},
   "outputs": [],
   "source": [
    "# CHANGE ME: insert code here"
   ]
  },
  {
   "cell_type": "markdown",
   "metadata": {},
   "source": [
    "**2.4** How many tracks are in the database?"
   ]
  },
  {
   "cell_type": "code",
   "execution_count": null,
   "metadata": {},
   "outputs": [],
   "source": [
    "# CHANGE ME: insert code here"
   ]
  },
  {
   "cell_type": "markdown",
   "metadata": {},
   "source": [
    "**2.5** What are the top ten albums by number of purchases of any track off the album? For example, if two tracks were purchased off an album, that counts as two purchases for that album. Print the artist name, album, and the number of purchases."
   ]
  },
  {
   "cell_type": "code",
   "execution_count": null,
   "metadata": {},
   "outputs": [],
   "source": [
    "# CHANGE ME: insert code here"
   ]
  },
  {
   "cell_type": "markdown",
   "metadata": {},
   "source": [
    "**2.6** Who are the top ten artists by number of purchases of their tracks? Print the artist name and the number of purchases."
   ]
  },
  {
   "cell_type": "code",
   "execution_count": null,
   "metadata": {},
   "outputs": [],
   "source": [
    "# CHANGE ME: insert code here"
   ]
  },
  {
   "cell_type": "markdown",
   "metadata": {},
   "source": [
    "**2.7** How many tracks were purchased by customers from each country in the database? Print each country name and the number of tracks."
   ]
  },
  {
   "cell_type": "code",
   "execution_count": null,
   "metadata": {},
   "outputs": [],
   "source": [
    "# CHANGE ME: insert code here"
   ]
  },
  {
   "cell_type": "markdown",
   "metadata": {},
   "source": [
    "**2.8** What is the *most* popular genre by **number of tracks**? Your SQL query should return **only one row**, giving the genre name and the number of songs in the database in that genre."
   ]
  },
  {
   "cell_type": "code",
   "execution_count": null,
   "metadata": {},
   "outputs": [],
   "source": [
    "# CHANGE ME: insert code here"
   ]
  },
  {
   "cell_type": "markdown",
   "metadata": {},
   "source": [
    "**2.9** What is the *least* popular genre by **number of tracks**? Your SQL query should return **only one row**, giving the genre name and the number of songs in the database in that genre."
   ]
  },
  {
   "cell_type": "code",
   "execution_count": null,
   "metadata": {},
   "outputs": [],
   "source": [
    "# CHANGE ME: insert code here"
   ]
  },
  {
   "cell_type": "markdown",
   "metadata": {},
   "source": [
    "**2.10** What is the *most* popular genre by **number of purchases**? Your SQL query should return **only one row**, giving the genre name and the number of songs in the database in that genre."
   ]
  },
  {
   "cell_type": "code",
   "execution_count": null,
   "metadata": {},
   "outputs": [],
   "source": [
    "# CHANGE ME: insert code here"
   ]
  },
  {
   "cell_type": "markdown",
   "metadata": {},
   "source": [
    "**2.10** How many \"Alternative & Punk\" songs were purchased in the United States?"
   ]
  },
  {
   "cell_type": "code",
   "execution_count": null,
   "metadata": {},
   "outputs": [],
   "source": [
    "# CHANGE ME: insert code here"
   ]
  },
  {
   "cell_type": "markdown",
   "metadata": {},
   "source": [
    "**2.11** Print out a track listing of the \"TV Shows\" playlist: Artist name, track name, album name, and Composer"
   ]
  },
  {
   "cell_type": "code",
   "execution_count": null,
   "metadata": {},
   "outputs": [],
   "source": [
    "# CHANGE ME: insert code here"
   ]
  },
  {
   "cell_type": "markdown",
   "metadata": {},
   "source": [
    "## BONUS"
   ]
  },
  {
   "cell_type": "markdown",
   "metadata": {},
   "source": [
    "**BONUS.1** What is the least popular genre by number of purchases? Your SQL query should return **only one row**, giving the genre name and the number of purchases of songs in that genre."
   ]
  },
  {
   "cell_type": "code",
   "execution_count": null,
   "metadata": {},
   "outputs": [],
   "source": [
    "# CHANGE ME: insert code here"
   ]
  },
  {
   "cell_type": "markdown",
   "metadata": {},
   "source": [
    "**BONUS.2** For each country, list how many songs were purchased in each genre in that country. In the same query, also get the percentage of purchases in that country that were made up of each genre. For example, you should have a row for `\"Alternative & Punk\"` in `\"Argentina\"`, giving the count of songs (say, `10`) and the percent of all purchases in Argentina made up of Alternative & Punk songs (say, `.30`, i.e., 30%). (Note, these numbers are examples.)"
   ]
  },
  {
   "cell_type": "code",
   "execution_count": null,
   "metadata": {},
   "outputs": [],
   "source": [
    "# CHANGE ME: insert code here"
   ]
  },
  {
   "cell_type": "markdown",
   "metadata": {},
   "source": [
    "## Close the database"
   ]
  },
  {
   "cell_type": "code",
   "execution_count": null,
   "metadata": {},
   "outputs": [],
   "source": [
    "con.close()"
   ]
  }
 ],
 "metadata": {
  "kernelspec": {
   "display_name": "Python 3",
   "language": "python",
   "name": "python3"
  },
  "language_info": {
   "codemirror_mode": {
    "name": "ipython",
    "version": 3
   },
   "file_extension": ".py",
   "mimetype": "text/x-python",
   "name": "python",
   "nbconvert_exporter": "python",
   "pygments_lexer": "ipython3",
   "version": "3.6.5"
  }
 },
 "nbformat": 4,
 "nbformat_minor": 2
}
