{
 "cells": [
  {
   "cell_type": "markdown",
   "metadata": {},
   "source": [
    "# Lab 5 - Exploring AWS Lambda and API Gateway\n",
    "\n",
    "\n",
    "## Due: Thursday, Oct 11, 2018, 11:59:00pm\n",
    "\n",
    "### Submission instructions\n",
    "After completing this homework, you will turn in two files via Canvas ->  Assignments -> Lab 4:\n",
    "- Your Notebook, named si330-lab4-YOUR_UNIQUE_NAME.ipynb and\n",
    "- the HTML file, named si330-lab4-YOUR_UNIQUE_NAME.html\n",
    "\n",
    "### Name:  Samantha Cohen \n",
    "### Uniqname: samcoh \n",
    "### People you worked with: Rhea, Will, and Emil \n",
    "\n",
    "\n",
    "## Objectives\n",
    "After completing this Lab, you should know how to:\n",
    "* log into your AWS account\n",
    "* create an S3 bucket\n",
    "* create an AWS Lambda function\n",
    "* add an API Gateway to access your Lambda function\n",
    "\n",
    "### Required actions on your part are indicated in <font color=\"orange\">orange</font>.  Required input (e.g. answers to questions) are indicated in <font color=\"magenta\">magenta</font>.\n"
   ]
  },
  {
   "cell_type": "markdown",
   "metadata": {},
   "source": [
    "## Part A - Setting up your S3 bucket\n",
    "### <font color=\"orange\">A0: Log into your AWS Educate account and navigate to \"AWS Account\" and click on \"Go to your AWS Educate Starter Account\". Then click on the \"AWS Console\" button located at the bottom right of the new page. \n",
    "![](s300.jpg)\n",
    "![](s300-.jpg)"
   ]
  },
  {
   "cell_type": "markdown",
   "metadata": {},
   "source": [
    "### <font color=\"orange\">A1: Navigate to Services > Storage > S3, then click on \"+ Create Bucket\"\n",
    "\n",
    "![](s301.png)"
   ]
  },
  {
   "cell_type": "markdown",
   "metadata": {},
   "source": [
    "### <font color=\"orange\">A2: Fill in the bucket name with si330f18-YOUR_UNIQNAME.  Leave the \"Region\" and \"Copy...\" settings as they are, then click \"Next\".\n",
    "\n",
    "![](s302.png)"
   ]
  },
  {
   "cell_type": "markdown",
   "metadata": {},
   "source": [
    "### <font color=\"orange\">A4: Don't change anything here.  Click \"Next\"\n",
    "\n",
    "![](s304.png)"
   ]
  },
  {
   "cell_type": "markdown",
   "metadata": {},
   "source": [
    "### <font color=\"orange\">A5: Change \"Manage public permissions\" to \"Grant public read access to this bucket\".  Click \"Next\".\n",
    "\n",
    "![](s305.png)"
   ]
  },
  {
   "cell_type": "markdown",
   "metadata": {},
   "source": [
    "### <font color=\"orange\">A6: Click \"Create bucket\"\n",
    "\n",
    "![](s306.png)"
   ]
  },
  {
   "cell_type": "markdown",
   "metadata": {},
   "source": [
    "### <font color=\"orange\">A7: Click on the bucket you just created\n",
    "\n",
    "![](s307.png)"
   ]
  },
  {
   "cell_type": "markdown",
   "metadata": {},
   "source": [
    "### <font color=\"orange\">A8: Click \"Upload\"\n",
    "\n",
    "![](s308.png)"
   ]
  },
  {
   "cell_type": "markdown",
   "metadata": {},
   "source": [
    "### <font color=\"orange\">A9: Select the dickens-totc.txt file that's included with this lab, then click \"Next\"\n",
    "\n",
    "![](s309.png)"
   ]
  },
  {
   "cell_type": "markdown",
   "metadata": {},
   "source": [
    "### <font color=\"orange\">A10: Change \"Manage public permissions\" to \"Grant public read access to this object(s)\". Click \"Next\".\n",
    "\n",
    "![](s310.png)"
   ]
  },
  {
   "cell_type": "markdown",
   "metadata": {},
   "source": [
    "### <font color=\"orange\">A11: Don't change anything here.  Click \"Next\"\n",
    "\n",
    "![](s311.png)"
   ]
  },
  {
   "cell_type": "markdown",
   "metadata": {},
   "source": [
    "### <font color=\"orange\">A12: Click \"Upload\"\n",
    "\n",
    "![](s312.png)"
   ]
  },
  {
   "cell_type": "markdown",
   "metadata": {},
   "source": [
    "### <font color=\"orange\">A13: Click on \"dickens-totc.txt\"\n",
    "\n",
    "![](s313.png)"
   ]
  },
  {
   "cell_type": "markdown",
   "metadata": {},
   "source": [
    "### <font color=\"orange\">A14: On this Overview tab, click the URL under Link\n",
    "\n",
    "![](s314.png)"
   ]
  },
  {
   "cell_type": "markdown",
   "metadata": {},
   "source": [
    "### <font color=\"orange\">A15: You should see the following:\n",
    "\n",
    "![](s315.png)"
   ]
  },
  {
   "cell_type": "markdown",
   "metadata": {},
   "source": [
    "### <font color=\"magenta\">Question 1: Record the URL of the link that points to your dickens-totc.txt file in the next markdown block</font>"
   ]
  },
  {
   "cell_type": "markdown",
   "metadata": {},
   "source": [
    "My URL: https://s3.amazonaws.com/si330f18-samcoh/dickens-totc.txt "
   ]
  },
  {
   "cell_type": "markdown",
   "metadata": {},
   "source": [
    "## Part B - Writing your code in Lambda"
   ]
  },
  {
   "cell_type": "markdown",
   "metadata": {},
   "source": [
    "Lambda is AWS's serverless computing service. Coupled with the API gateway, you can create your own API and make requests to it. This part of the lab will get you familiar with the interface and how to create a Python file on Lambda and make requests to it via the API Gateway to return JSON objects."
   ]
  },
  {
   "cell_type": "markdown",
   "metadata": {},
   "source": [
    "* Sign in to your AWS Management Console\n",
    "* Navigate to Services > Compute > Lambda \n",
    "* You should see something like the attached image\n",
    "\n",
    "### <font color=\"orange\">B1: Click on \"Create a function\"\n",
    "\n",
    "![](aws01.png)\n",
    "\n"
   ]
  },
  {
   "cell_type": "markdown",
   "metadata": {},
   "source": [
    "\n",
    "### <font color=\"orange\">B2: Click on \"Blueprints\" and enter \"microservice\" in the search box.  Select \"microservice-http-endpoint-python3\" (the \"python3\" is important):\n",
    "![](aws03.png)"
   ]
  },
  {
   "cell_type": "markdown",
   "metadata": {},
   "source": [
    "### B3-0: Fill in the \"Name\" box with \"splitit\", choose Role as \"Create a custom role\". It will pop up another window...\n",
    "![](aws04-1.jpg)\n",
    "    \n",
    "### B3-1. ...click the \"Allow\" button at the bottom without changing anything. This may generate an error (as in the screenshot below), which is OK --- click \"Cancel\" to go back to the previous page. This is a bug we found in AWS Educate accounts. It will create the role you specified even though it gives you an error.\n",
    "\n",
    "![](aws04-2.jpg)"
   ]
  },
  {
   "cell_type": "markdown",
   "metadata": {},
   "source": [
    "### B3-2: Now that you are back on this screen, fill in the \"Name\" box with \"splitit\", select Role as \"Choose an existing role\", and enter \"lambda_basic_execution\" as the Existing role.\n",
    "\n",
    "![](aws04.jpg)"
   ]
  },
  {
   "cell_type": "markdown",
   "metadata": {},
   "source": [
    "### <font color=\"orange\">B4: Fill in the \"API Gateway trigger\" section with the same information as been highlighted in the screenshot:\n",
    "\n",
    "![](aws05.png)"
   ]
  },
  {
   "cell_type": "markdown",
   "metadata": {},
   "source": [
    "### <font color=\"orange\">B5: Then scroll down to the bottom (you can't edit the code on this page), and click on \"Create function\":\n",
    "\n",
    "![](aws06.png)"
   ]
  },
  {
   "cell_type": "markdown",
   "metadata": {},
   "source": [
    "### <font color=\"orange\">B6: On the next page, scroll down and replace the python code with the code from the next block and click on the \"Save\" button at the top.\n",
    "![](aws16.png)"
   ]
  },
  {
   "cell_type": "code",
   "execution_count": null,
   "metadata": {},
   "outputs": [],
   "source": [
    "\"\"\"\n",
    "A simple module to split a string into words\n",
    "\"\"\"\n",
    "import json\n",
    "import re\n",
    "\n",
    "\"\"\"\n",
    "Helper method to split string using re.split.  \n",
    "Returns a dictionary with key text set to the list of \n",
    "resulting words.\n",
    "\"\"\"\n",
    "\n",
    "def lambda_handler(event, context):\n",
    "    method = event['httpMethod']\n",
    "    text = \"\"\n",
    "    d = {\"text\": \"\"}\n",
    "    # Handle GET method\n",
    "    if method == 'GET':\n",
    "        if event['queryStringParameters'] != None:\n",
    "            if 'text' in event['queryStringParameters']:\n",
    "               #d = split_text()\n",
    "               d['text'] = re.split('\\W+',event['queryStringParameters']['text'])\n",
    "    \n",
    "    # Note the strict format of the return dictionary\n",
    "    # It must contain these three elements, and the body\n",
    "    # must be a stringified JSON object (i.e. you have to call \n",
    "    # json.dumps on the JSON structure you're returning)\n",
    "    return { \n",
    "        \"statusCode\": 200,\n",
    "        \"headers\": {\"Content-Type\": \"application/json\"},\n",
    "        \"body\": json.dumps(d),\n",
    "    }\n",
    "\n"
   ]
  },
  {
   "cell_type": "markdown",
   "metadata": {},
   "source": [
    "### <font color=\"orange\">B7: Click on \"API Gateway\" from the left side, then scroll to the bottom and click on \"splititAPI\":\n",
    "![](aws08.jpg)"
   ]
  },
  {
   "cell_type": "markdown",
   "metadata": {},
   "source": [
    "###  <font color=\"orange\"> B8: On the API page, click on \"ANY\" under the \"/splitit\" to reveal the API workflow:\n",
    "![](aws09.png)"
   ]
  },
  {
   "cell_type": "markdown",
   "metadata": {},
   "source": [
    "### <font color=\"orange\">B9: Click on \"TEST\", then select \"GET\" method and add \"text=The quick brown fox\" in the Query Strings box:\n",
    "![](aws10.png)"
   ]
  },
  {
   "cell_type": "markdown",
   "metadata": {},
   "source": [
    "### <font color=\"orange\">B10: Click \"Test\" (at the bottom of the page).  You should see something like the following image.  You want to ensure you see \"Status: 200\" as the second line on the right:\n",
    "![](aws11.png)"
   ]
  },
  {
   "cell_type": "markdown",
   "metadata": {},
   "source": [
    "### <font color=\"orange\">B11: Click on \"Stages\" on the left side of the page, open up \"default\", then \"/\", then \"/splitit\" and click on \"GET\".  You should see a screen similar to:\n",
    "![](aws12.png)"
   ]
  },
  {
   "cell_type": "markdown",
   "metadata": {},
   "source": [
    "### <font color=\"orange\">B12: Click the \"Invoke URL\" link and you should see a new tab that looks like:\n",
    "![](aws13.png)"
   ]
  },
  {
   "cell_type": "markdown",
   "metadata": {},
   "source": [
    "### <font color=\"orange\">B13: Add `\"?text=This is a test\"` to the end of the URL and press return.  You should see something like:\n",
    "![](aws14.png)\n",
    "![](aws15.png)"
   ]
  },
  {
   "cell_type": "markdown",
   "metadata": {},
   "source": [
    "### <font color=\"magenta\">Q2: Enter the URL from the previous cell"
   ]
  },
  {
   "cell_type": "markdown",
   "metadata": {},
   "source": [
    "Put your URL below."
   ]
  },
  {
   "cell_type": "code",
   "execution_count": null,
   "metadata": {},
   "outputs": [],
   "source": [
    "my_api =\"https://5fainlt572.execute-api.us-east-1.amazonaws.com/default/splitit?text=This%20is%20a%20test\" "
   ]
  },
  {
   "cell_type": "markdown",
   "metadata": {},
   "source": [
    "### <font color=\"magenta\">Q3: Access your API using `requests`\n",
    "For the final step of this lab, you'll be using the `requests` library to access your new API.\n",
    "Please install the library if you get an import error.\n",
    "You should be able to run it successfully if everything goes well."
   ]
  },
  {
   "cell_type": "code",
   "execution_count": 3,
   "metadata": {},
   "outputs": [
    {
     "name": "stdout",
     "output_type": "stream",
     "text": [
      "{'Date': 'Sun, 14 Oct 2018 21:02:56 GMT', 'Content-Type': 'application/json', 'Content-Length': '37', 'Connection': 'keep-alive', 'x-amzn-RequestId': '86271c8a-cff4-11e8-8258-07697905ce4f', 'x-amz-apigw-id': 'OxhIEFYCIAMFRwA=', 'X-Amzn-Trace-Id': 'Root=1-5bc3af00-79f23d0c172eccb87cfd2aac;Sampled=0'}\n",
      "\n",
      "{\"text\": [\"This\", \"is\", \"a\", \"test\"]}\n"
     ]
    }
   ],
   "source": [
    "import requests\n",
    "\n",
    "response = requests.get(my_api)\n",
    "\n",
    "print(response.headers)\n",
    "print()\n",
    "print(response.text)"
   ]
  },
  {
   "cell_type": "markdown",
   "metadata": {},
   "source": [
    "The above code (`response.text`) returns the response as text. The `requests` package also includes a `.json()` method which parses JSON responses and turns them into python objects (similar to `json.loads()`). For example:"
   ]
  },
  {
   "cell_type": "code",
   "execution_count": 4,
   "metadata": {},
   "outputs": [
    {
     "data": {
      "text/plain": [
       "{'text': ['This', 'is', 'a', 'test']}"
      ]
     },
     "execution_count": 4,
     "metadata": {},
     "output_type": "execute_result"
    }
   ],
   "source": [
    "response.json()"
   ]
  },
  {
   "cell_type": "markdown",
   "metadata": {},
   "source": [
    "In the code block below, print out each word from the response on a separate line:"
   ]
  },
  {
   "cell_type": "code",
   "execution_count": 5,
   "metadata": {},
   "outputs": [
    {
     "name": "stdout",
     "output_type": "stream",
     "text": [
      "This\n",
      "is\n",
      "a\n",
      "test\n"
     ]
    }
   ],
   "source": [
    "# CHANGE ME: change \"None\" to an expression that retrieves \n",
    "# the list of words from the response object\n",
    "for word in response.json()[\"text\"]:\n",
    "    print(word)"
   ]
  },
  {
   "cell_type": "code",
   "execution_count": null,
   "metadata": {},
   "outputs": [],
   "source": []
  }
 ],
 "metadata": {
  "kernelspec": {
   "display_name": "Python 3",
   "language": "python",
   "name": "python3"
  },
  "language_info": {
   "codemirror_mode": {
    "name": "ipython",
    "version": 3
   },
   "file_extension": ".py",
   "mimetype": "text/x-python",
   "name": "python",
   "nbconvert_exporter": "python",
   "pygments_lexer": "ipython3",
   "version": "3.6.5"
  }
 },
 "nbformat": 4,
 "nbformat_minor": 2
}
