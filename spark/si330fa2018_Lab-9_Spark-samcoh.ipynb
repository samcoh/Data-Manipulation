{
 "cells": [
  {
   "cell_type": "markdown",
   "metadata": {},
   "source": [
    "# SI 330 FA 2018 - Lab 9: Using the Spark RDD API to analyze text"
   ]
  },
  {
   "cell_type": "markdown",
   "metadata": {},
   "source": [
    "## Objectives\n",
    "1. To gain familiarity with PySpark\n",
    "2. To learn the basics of the Spark RDD API\n",
    "3. To get experience finding and downloading data"
   ]
  },
  {
   "cell_type": "markdown",
   "metadata": {},
   "source": [
    "## Please fill in...\n",
    "### * Your name: Samantha Cohen \n",
    "### * People you worked with:  Rhea, Emil, and Will"
   ]
  },
  {
   "cell_type": "markdown",
   "metadata": {},
   "source": [
    "## Submission Instructions:\n",
    "Please turn in:\n",
    "- this Databricks notebook file exported as an IPython Notebook (File -> Export -> IPython Notebook)\n",
    "- this Databricks notebook file exported as .html (File -> Export -> HTML)"
   ]
  },
  {
   "cell_type": "markdown",
   "metadata": {},
   "source": [
    "## Overview\n",
    "\n",
    "This project is designed to give you a basic familiarity with the Apache Spark RDD API.\n",
    "\n",
    "**Your first task** is to run the next code cell in this notebook, as is, without modification, and confirm that everything is working.\n",
    "\n",
    "Your second and main task is to complete Steps 1 and 2."
   ]
  },
  {
   "cell_type": "code",
   "execution_count": 1,
   "metadata": {},
   "outputs": [
    {
     "ename": "ModuleNotFoundError",
     "evalue": "No module named 'pyspark'",
     "output_type": "error",
     "traceback": [
      "\u001b[0;31m---------------------------------------------------------------------------\u001b[0m",
      "\u001b[0;31mModuleNotFoundError\u001b[0m                       Traceback (most recent call last)",
      "\u001b[0;32m<ipython-input-1-4a49438d088e>\u001b[0m in \u001b[0;36m<module>\u001b[0;34m()\u001b[0m\n\u001b[1;32m      1\u001b[0m \u001b[0;32mimport\u001b[0m \u001b[0mre\u001b[0m\u001b[0;34m\u001b[0m\u001b[0m\n\u001b[0;32m----> 2\u001b[0;31m \u001b[0;32mimport\u001b[0m \u001b[0mpyspark\u001b[0m\u001b[0;34m\u001b[0m\u001b[0m\n\u001b[0m\u001b[1;32m      3\u001b[0m \u001b[0;32mfrom\u001b[0m \u001b[0mpyspark\u001b[0m \u001b[0;32mimport\u001b[0m \u001b[0mSparkContext\u001b[0m\u001b[0;34m\u001b[0m\u001b[0m\n\u001b[1;32m      4\u001b[0m \u001b[0;34m\u001b[0m\u001b[0m\n\u001b[1;32m      5\u001b[0m \u001b[0msc\u001b[0m \u001b[0;34m=\u001b[0m \u001b[0mSparkContext\u001b[0m\u001b[0;34m.\u001b[0m\u001b[0mgetOrCreate\u001b[0m\u001b[0;34m(\u001b[0m\u001b[0;34m)\u001b[0m\u001b[0;34m\u001b[0m\u001b[0m\n",
      "\u001b[0;31mModuleNotFoundError\u001b[0m: No module named 'pyspark'"
     ]
    }
   ],
   "source": [
    "import re\n",
    "import pyspark\n",
    "from pyspark import SparkContext\n",
    "\n",
    "sc = SparkContext.getOrCreate()"
   ]
  },
  {
   "cell_type": "markdown",
   "metadata": {},
   "source": [
    "The code block below lists a file (or directory contents) on the DataBricks file system.\n",
    "\n",
    "**It won't work until you follow the instructions in the slides to upload a file to DataBricks.** Do that now, then come back here, execute this command, and make sure it does not return an error."
   ]
  },
  {
   "cell_type": "code",
   "execution_count": null,
   "metadata": {},
   "outputs": [],
   "source": [
    "display(dbutils.fs.ls(\"/FileStore/tables/totc.txt\"))"
   ]
  },
  {
   "cell_type": "markdown",
   "metadata": {},
   "source": [
    "## Step 1: Loading the Text File\n",
    "\n",
    "Load the text file as an RDD (Hint: look at the slides)"
   ]
  },
  {
   "cell_type": "code",
   "execution_count": null,
   "metadata": {},
   "outputs": [],
   "source": [
    "# Write your code here\n",
    "lines =sc.textFile(\"/FileStore/tables/totc.txt\")"
   ]
  },
  {
   "cell_type": "markdown",
   "metadata": {},
   "source": [
    "## Step 2: Basic RDD usage\n",
    "\n",
    "* 2.1 Count the number of lines in the variable `text_file`."
   ]
  },
  {
   "cell_type": "code",
   "execution_count": null,
   "metadata": {},
   "outputs": [],
   "source": [
    "# Write your code here\n",
    "text_file=lines.count() \n"
   ]
  },
  {
   "cell_type": "markdown",
   "metadata": {},
   "source": [
    "* 2.2 Print out the first 20 lines of the file."
   ]
  },
  {
   "cell_type": "code",
   "execution_count": null,
   "metadata": {},
   "outputs": [],
   "source": [
    "# Write your code here\n",
    "print(lines.take(20)) "
   ]
  },
  {
   "cell_type": "markdown",
   "metadata": {},
   "source": [
    "## Step 3: Word count\n",
    "\n",
    "You will create a regular expression to split the text into words. You will then write the code to count the number of occurences of each word in the file. (Hint: look at the slides)"
   ]
  },
  {
   "cell_type": "code",
   "execution_count": null,
   "metadata": {},
   "outputs": [],
   "source": [
    "# Write your code here --- the final output of this code should be a variable\n",
    "# called word_counts_sorted, which is an RDD consisting of tuples of words and their counts.\n",
    "\n",
    "WORD_RE = re.compile(r\"\\b[\\w']+\\b\")\n",
    "\n",
    "word_counts_sorted = lines.flatMap(lambda line: WORD_RE.findall(line)).map(lambda word: (word,1)).reduceByKey(lambda a, b: a+b).sortBy(lambda x: x[1], ascending = False)\n",
    "#word_counts_sorted.collect() \n",
    "#word_counts_sorted.collect() "
   ]
  },
  {
   "cell_type": "markdown",
   "metadata": {},
   "source": [
    "Write code to output the top 100 words:"
   ]
  },
  {
   "cell_type": "code",
   "execution_count": 2,
   "metadata": {},
   "outputs": [
    {
     "ename": "NameError",
     "evalue": "name 'word_counts_sorted' is not defined",
     "output_type": "error",
     "traceback": [
      "\u001b[0;31m---------------------------------------------------------------------------\u001b[0m",
      "\u001b[0;31mNameError\u001b[0m                                 Traceback (most recent call last)",
      "\u001b[0;32m<ipython-input-2-9dad2657a26c>\u001b[0m in \u001b[0;36m<module>\u001b[0;34m()\u001b[0m\n\u001b[1;32m      1\u001b[0m \u001b[0;31m# Write your code here\u001b[0m\u001b[0;34m\u001b[0m\u001b[0;34m\u001b[0m\u001b[0m\n\u001b[0;32m----> 2\u001b[0;31m \u001b[0mword_counts_sorted\u001b[0m\u001b[0;34m.\u001b[0m\u001b[0mtake\u001b[0m\u001b[0;34m(\u001b[0m\u001b[0;36m100\u001b[0m\u001b[0;34m)\u001b[0m\u001b[0;34m\u001b[0m\u001b[0m\n\u001b[0m",
      "\u001b[0;31mNameError\u001b[0m: name 'word_counts_sorted' is not defined"
     ]
    }
   ],
   "source": [
    "# Write your code here\n",
    "word_counts_sorted.take(100)"
   ]
  },
  {
   "cell_type": "markdown",
   "metadata": {},
   "source": [
    "## Step 4: Download NLTK\n",
    "\n",
    "It can be useful to install other packages on DataBricks, like `nltk`. In this step, you'll practice installing packages by downloading and import `nltk`. Check the slide deck to see the steps."
   ]
  },
  {
   "cell_type": "code",
   "execution_count": null,
   "metadata": {},
   "outputs": [],
   "source": [
    "import nltk # This won't work until you install the library. Once you've done that, this should work.\n",
    "nltk.download('book')"
   ]
  },
  {
   "cell_type": "markdown",
   "metadata": {},
   "source": [
    "## Step 5: Publish your notebook, enter its URL, THEN Export your notebook as HTML and IPYNB\n",
    "\n",
    "**Publish** your notebook (top-right corner of the page) and paste its URL here:\n",
    "\n",
    "* Click on the **publish** button on the top-right corner\n",
    "* Click **Yes, Publish**\n",
    "* Accept the **Do not show me again checkbox** and click **Publish**\n",
    "* **Copy the URL** and click Done\n",
    "* **Paste the URL** below:\n",
    "\n",
    "> https://databricks-prod-cloudfront.cloud.databricks.com/public/4027ec902e239c93eaaa8714f173bcfc/4538136061911314/2048933061040996/6664356203694386/latest.html\n",
    "\n",
    "**Export** as HTML:\n",
    "\n",
    "* Click on **File** near the top-left corner\n",
    "* Click on Export > as HTML\n",
    "\n",
    "**Export** as IPYNB:\n",
    "\n",
    "* Click on **File** near the top-left corner\n",
    "* Click on Export > as IPython Notebook\n",
    "\n",
    "* Submit the **HTML file and the URL** on Canvas"
   ]
  },
  {
   "cell_type": "code",
   "execution_count": null,
   "metadata": {},
   "outputs": [],
   "source": []
  }
 ],
 "metadata": {
  "kernelspec": {
   "display_name": "Python 3",
   "language": "python",
   "name": "python3"
  },
  "language_info": {
   "codemirror_mode": {
    "name": "ipython",
    "version": 3
   },
   "file_extension": ".py",
   "mimetype": "text/x-python",
   "name": "python",
   "nbconvert_exporter": "python",
   "pygments_lexer": "ipython3",
   "version": "3.6.5"
  },
  "name": "si330fa2018_Lab-9_Spark",
  "notebookId": 2048933061040996
 },
 "nbformat": 4,
 "nbformat_minor": 2
}
